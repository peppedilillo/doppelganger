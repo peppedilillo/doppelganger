{
 "cells": [
  {
   "cell_type": "code",
   "execution_count": 1,
   "id": "a0a1f122-8a13-49c6-b670-041eebbbc39f",
   "metadata": {
    "execution": {
     "iopub.execute_input": "2025-07-24T06:36:52.797520Z",
     "iopub.status.busy": "2025-07-24T06:36:52.797215Z",
     "iopub.status.idle": "2025-07-24T06:36:58.021127Z",
     "shell.execute_reply": "2025-07-24T06:36:58.020444Z",
     "shell.execute_reply.started": "2025-07-24T06:36:52.797501Z"
    }
   },
   "outputs": [],
   "source": [
    "from pathlib import Path\n",
    "from typing import Literal, Callable\n",
    "from warnings import warn\n",
    "from functools import wraps\n",
    "import time\n",
    "\n",
    "import scipy.stats as stats\n",
    "import matplotlib\n",
    "import matplotlib.pyplot as plt\n",
    "import numpy as np\n",
    "import pandas as pd\n",
    "\n",
    "from scipy.ndimage import label\n",
    "\n",
    "from astropy.coordinates import SkyCoord\n",
    "from astropy import units as u\n",
    "from astropy.wcs import WCS\n",
    "import astropy.visualization as vis\n",
    "\n",
    "from lsst.geom import SpherePoint, Point2I\n",
    "import lsst.geom as geom\n",
    "from lsst.daf.butler import Butler\n",
    "from lsst.rsp import get_tap_service\n",
    "from lsst.afw.math import Warper, WarperConfig\n",
    "from lsst.source.injection import generate_injection_catalog\n",
    "from lsst.source.injection import VisitInjectConfig, VisitInjectTask\n",
    "from lsst.ip.diffim.subtractImages import AlardLuptonSubtractTask, AlardLuptonSubtractConfig\n",
    "from lsst.ip.diffim.detectAndMeasure import DetectAndMeasureTask, DetectAndMeasureConfig\n",
    "\n",
    "\n",
    "def timeit(func):\n",
    "    @wraps(func)\n",
    "    def timeit_wrapper(*args, **kwargs):\n",
    "        start_time = time.perf_counter()\n",
    "        result = func(*args, **kwargs)\n",
    "        end_time = time.perf_counter()\n",
    "        total_time = end_time - start_time\n",
    "        print(f'Function {func.__name__} took {total_time:.4f} seconds')\n",
    "        return result\n",
    "    return timeit_wrapper"
   ]
  },
  {
   "cell_type": "code",
   "execution_count": 2,
   "id": "636611c6-8fce-4038-a7c5-b6b2ed1ba935",
   "metadata": {
    "execution": {
     "iopub.execute_input": "2025-07-24T06:36:58.023044Z",
     "iopub.status.busy": "2025-07-24T06:36:58.022242Z",
     "iopub.status.idle": "2025-07-24T06:36:58.070256Z",
     "shell.execute_reply": "2025-07-24T06:36:58.069624Z",
     "shell.execute_reply.started": "2025-07-24T06:36:58.023021Z"
    }
   },
   "outputs": [],
   "source": [
    "service = get_tap_service(\"tap\")"
   ]
  },
  {
   "cell_type": "markdown",
   "id": "e1c43496-ac97-4c39-84ab-16cdcee707ed",
   "metadata": {},
   "source": [
    "# Source detection over multiple simulated afterglows\n",
    "\n",
    "We put together the code for anomaly detection we developed previously and execute it over our simulated afterglow events."
   ]
  },
  {
   "cell_type": "markdown",
   "id": "bb2733bc-9728-4307-8a56-09b50c120221",
   "metadata": {},
   "source": [
    "## Detect, table, annotate pipeline"
   ]
  },
  {
   "cell_type": "code",
   "execution_count": 3,
   "id": "d6f4c7c3-c723-42a7-ac53-cce48c4478f3",
   "metadata": {
    "execution": {
     "iopub.execute_input": "2025-07-24T06:36:58.082222Z",
     "iopub.status.busy": "2025-07-24T06:36:58.082028Z",
     "iopub.status.idle": "2025-07-24T06:36:58.097167Z",
     "shell.execute_reply": "2025-07-24T06:36:58.096521Z",
     "shell.execute_reply.started": "2025-07-24T06:36:58.082206Z"
    }
   },
   "outputs": [],
   "source": [
    "enrich_short_labels = {\n",
    "    \"base_PsfFlux_instFlux\": \"flux_base_psf\",\n",
    "    \"ip_diffim_forced_PsfFlux_instFlux\": \"flux_diffim_psf\",\n",
    "    \"base_CircularApertureFlux_12_0_instFlux\": \"flux_base_12\",\n",
    "}\n",
    "enrich_short_errors = {f\"{k}Err\": f\"{v}Err\" for k, v in enrich_short_labels.items()}\n",
    "enrich_target_labels = [*enrich_short_labels.keys()]\n",
    "enrich_target_errors = [f\"{label}Err\" for label in enrich_target_labels]\n",
    "\n",
    "\n",
    "def entwine(a: list, b: list) -> list:\n",
    "    return [item for pair in zip(a, b) for item in pair]\n",
    "\n",
    "\n",
    "def enrich_snr(df: pd.DataFrame, labels_flux: list[str], labels_err: list[str]) -> pd.DataFrame:\n",
    "    if any(missing_labels := [l for l in entwine(enrich_target_labels, enrich_target_errors) if l not in df.columns]):\n",
    "        raise ValueError(f\"Some of the labels are missing: {' '.join(missing_labels)}.\")\n",
    "    _d = {\n",
    "        f\"snr_{label_f}\": df[label_f] / df[label_err] \n",
    "        for label_f, label_err in zip(labels_flux, labels_err)\n",
    "    }\n",
    "    return pd.concat((df, pd.DataFrame(_d)), axis=1)\n",
    "\n",
    "def enrich_mag(df: pd.DataFrame, labels_flux: list[str], labels_err: list[str], f2mag: Callable) -> pd.DataFrame:\n",
    "    if any(missing_labels := [l for l in entwine(enrich_target_labels, enrich_target_errors) if l not in df.columns]):\n",
    "        raise ValueError(f\"Some of the labels are missing: {' '.join(missing_labels)}.\")\n",
    "    _d = {}\n",
    "    for label_f, label_err in zip(labels_flux, labels_err):\n",
    "        _d[f\"mag_{label_f}\"] = [f2mag(f) for f in df[label_f]]\n",
    "        _d[f\"magErrBot_{label_f}\"] = [-2.5 * np.log10(1 + delta_f / f) for f, delta_f in zip(df[label_f], df[label_err],)]\n",
    "        _d[f\"magErrTop_{label_f}\"] = [-2.5 * np.log10(1 - delta_f / f) for f, delta_f in zip(df[label_f], df[label_err],)]\n",
    "    return pd.concat((df, pd.DataFrame(_d)), axis=1)\n",
    "\n",
    "@timeit\n",
    "def detect(science, template, difference, threshold: float | None = None):\n",
    "    config = DetectAndMeasureConfig()\n",
    "    if threshold is not None:\n",
    "        config.detection.thresholdValue = threshold\n",
    "    anomalies = DetectAndMeasureTask(config=config).run(science, template, difference)\n",
    "    _df = anomalies.getDict()[\"diaSources\"].asAstropy().to_pandas()\n",
    "    _df = enrich_snr(_df, enrich_target_labels, enrich_target_errors)\n",
    "    _df = enrich_mag(_df, enrich_target_labels, enrich_target_errors, science.getPhotoCalib().instFluxToMagnitude)\n",
    "    _d = (\n",
    "        {\n",
    "            \"is_negative\": _df[\"is_negative\"],\n",
    "            \"coord_ra\": np.rad2deg(_df[\"coord_ra\"]),\n",
    "            \"coord_dec\": np.rad2deg(_df[\"coord_dec\"]),\n",
    "            \"area_psf\": _df[\"base_PsfFlux_area\"],\n",
    "        } | {v: _df[k] for k, v in enrich_short_labels.items()}\n",
    "          | {v: _df[k] for k, v in enrich_short_errors.items()}\n",
    "          | {f\"snr_{v}\": _df[f\"snr_{k}\"] for k, v in enrich_short_labels.items()} \n",
    "          | {f\"mag_{v}\": _df[f\"mag_{k}\"] for k, v in enrich_short_labels.items()} \n",
    "          | {f\"magErrBot_{v}\": _df[f\"magErrBot_{k}\"] for k, v in enrich_short_labels.items()} \n",
    "          | {f\"magErrTop_{v}\": _df[f\"magErrTop_{k}\"] for k, v in enrich_short_labels.items()}\n",
    "    )\n",
    "    return pd.DataFrame(_d).sort_values(\"snr_flux_base_psf\", ascending=False).reset_index(drop=True)\n",
    "\n",
    "\n",
    "ANNOTATION_PREFIX = \"ann\"\n",
    "\n",
    "@timeit\n",
    "def annotate_donuts(table_df: pd.DataFrame) -> pd.DataFrame:\n",
    "    mask = table_df[\"flux_base_psf\"] < 0\n",
    "    return pd.concat([table_df, pd.DataFrame({f\"{ANNOTATION_PREFIX}_donut\": mask})], axis=1)\n",
    "\n",
    "\n",
    "@timeit\n",
    "def annotate_mask(table_df: pd.DataFrame, difference) -> pd.DataFrame:\n",
    "    keywords: list[list[str]] = [get_mask_labels_coord(difference, ra, dec) for ra, dec in table_df[[\"coord_ra\", \"coord_dec\"]].values]\n",
    "    return pd.concat(\n",
    "        (table_df,\n",
    "        pd.DataFrame({\n",
    "                f\"{ANNOTATION_PREFIX}_mask_{k.lower()}\": [k in ks for ks in keywords ]\n",
    "                for k in set([k for ks in keywords for k in ks])\n",
    "        })),\n",
    "        axis=1,\n",
    "    ).reset_index(drop=True)\n",
    "\n",
    "\n",
    "@timeit\n",
    "def annotate_star_closeness(\n",
    "    table_df: pd.DataFrame,\n",
    "    star_catalog: pd.DataFrame,\n",
    "    tolerance_arcsec: float = 0.2, # pixel size\n",
    ") -> pd.DataFrame:\n",
    "    source_coords = table_df[[\"coord_ra\", \"coord_dec\"]].values\n",
    "    ref_coords = star_catalog[[\"coord_ra\", \"coord_dec\"]].values\n",
    "    tolerance_rad = np.deg2rad(tolerance_arcsec / 3600.0)\n",
    "    s_ = np.deg2rad(source_coords[:, np.newaxis, :])\n",
    "    r_ = np.deg2rad(ref_coords[np.newaxis, :, :])\n",
    "    distances = np.acos(np.sin(s_[:, :, 1]) * np.sin(r_[:, :, 1]) + np.cos(s_[:, :, 1]) * np.cos(r_[:, :, 1]) * np.cos(s_[:, :, 0] - r_[:, :, 0]))\n",
    "    mask = np.any(distances  < tolerance_rad, axis=1)\n",
    "    return pd.concat([table_df, pd.DataFrame({f\"{ANNOTATION_PREFIX}_closestar\": mask})], axis=1)\n",
    "\n",
    "\n",
    "# TODO: improve this weak implementation\n",
    "@timeit\n",
    "def annotate_ext_overlap(\n",
    "    table_df: pd.DataFrame,\n",
    "    science,\n",
    "    galaxies_catalog: pd.DataFrame,\n",
    ")-> pd.DataFrame:\n",
    "    mask_detected = get_mask(science, \"DETECTED\").astype(int)\n",
    "    labelled, nlabels = label(mask_detected)\n",
    "    out = np.zeros_like(labelled).astype(bool)\n",
    "    # TODO: improve this implementation vectorizing it\n",
    "    for i, source in galaxies_catalog.iterrows():\n",
    "        ra, dec = source[[\"coord_ra\", \"coord_dec\"]].values\n",
    "        if not science.containsSkyCoords(ra * u.deg, dec * u.deg):\n",
    "            continue\n",
    "        pixel = coord_to_pix(science, ra, dec)\n",
    "        value = labelled[*pixel]\n",
    "        if value == 0:\n",
    "            continue\n",
    "        out |= (labelled == value)\n",
    "    mask = table_df[[\"coord_ra\", \"coord_dec\"]].apply(\n",
    "        lambda x: out[*coord_to_pix(science, x.coord_ra, x.coord_dec)], \n",
    "        axis=1\n",
    "    )\n",
    "    return pd.concat([table_df, pd.DataFrame({f\"{ANNOTATION_PREFIX}_extoverlap\": mask})], axis=1)\n",
    "    "
   ]
  },
  {
   "cell_type": "markdown",
   "id": "90837502-33ef-4565-85ad-83a82a793454",
   "metadata": {},
   "source": [
    "### Mask Tools"
   ]
  },
  {
   "cell_type": "code",
   "execution_count": 4,
   "id": "9de3c20c-95f0-4e21-b336-499576fa0235",
   "metadata": {
    "execution": {
     "iopub.execute_input": "2025-07-24T06:36:58.098103Z",
     "iopub.status.busy": "2025-07-24T06:36:58.097881Z",
     "iopub.status.idle": "2025-07-24T06:36:58.146290Z",
     "shell.execute_reply": "2025-07-24T06:36:58.145519Z",
     "shell.execute_reply.started": "2025-07-24T06:36:58.098084Z"
    }
   },
   "outputs": [],
   "source": [
    "def get_mask(image, mask_names: str | list[str]) -> np.ndarray:\n",
    "    mask = image.getMask()\n",
    "    if isinstance(mask_names, str):\n",
    "        mask_names = [mask_names]\n",
    "\n",
    "    mask_array = mask.getArray()\n",
    "    out = np.zeros_like(mask_array)\n",
    "    for mask_name in mask_names:\n",
    "        target_bit = mask.getMaskPlane(mask_name)\n",
    "        out |= (mask_array & (2 ** target_bit)) != 0\n",
    "    return out\n",
    "\n",
    "def coord_to_pix(image, ra, dec) -> tuple[int, int]:\n",
    "    wcs = WCS(image.getWcs().getFitsMetadata())\n",
    "    coord = SkyCoord(\n",
    "        ra = ra * u.deg,\n",
    "        dec = dec * u.deg\n",
    "    )\n",
    "    i, j = wcs.world_to_array_index(coord)\n",
    "    # apparently can return pixel at boundary\n",
    "    return min(i, image.getHeight() - 1), min(j, image.getWidth() - 1), \n",
    "\n",
    "def get_mask_value_coord(image, ra, dec) -> int:\n",
    "    return image.getMask()[*coord_to_pix(image, ra, dec)[::-1]]\n",
    "\n",
    "def get_mask_labels_coord(image, ra, dec) -> list[str]:\n",
    "    return [\n",
    "        keyword \n",
    "        for keyword, bit in image.getMask().getMaskPlaneDict().items() \n",
    "        if get_mask_value_coord(image, ra, dec) & (2 ** bit) != 0\n",
    "    ]"
   ]
  },
  {
   "cell_type": "markdown",
   "id": "a09affd5-6a91-4d8c-87f2-a965048d6afa",
   "metadata": {},
   "source": [
    "### Catalog helpers"
   ]
  },
  {
   "cell_type": "code",
   "execution_count": 5,
   "id": "bb105836-c298-4ac0-928c-50a2debf82a3",
   "metadata": {
    "execution": {
     "iopub.execute_input": "2025-07-24T06:36:58.147230Z",
     "iopub.status.busy": "2025-07-24T06:36:58.147031Z",
     "iopub.status.idle": "2025-07-24T06:36:58.193367Z",
     "shell.execute_reply": "2025-07-24T06:36:58.192685Z",
     "shell.execute_reply.started": "2025-07-24T06:36:58.147215Z"
    }
   },
   "outputs": [],
   "source": [
    "def sregion_to_vertices(sregion: str, closed=False):\n",
    "    \"\"\"Convert the s_region from the ObsCore table into two\n",
    "    arrays containing the x and y vertices, in order to plot\n",
    "    boxes using matplotlib.\n",
    "\n",
    "    from notebook DPO02_02c.\n",
    "    \"\"\"\n",
    "    temp = sregion.split(' ')\n",
    "    xvertices = []\n",
    "    yvertices = []\n",
    "    ix = 2\n",
    "    iy = 3\n",
    "    for c in range(4):\n",
    "        xvertices.append(float(temp[ix]))\n",
    "        yvertices.append(float(temp[iy]))\n",
    "        ix += 2\n",
    "        iy += 2\n",
    "    if closed:\n",
    "        xvertices.append(xvertices[0])\n",
    "        yvertices.append(yvertices[0])\n",
    "    return list(zip(xvertices, yvertices))\n",
    "\n",
    "\n",
    "def polygon_string(sregion: str):\n",
    "    \"\"\"\n",
    "    Usage:\n",
    "        * Plug in queries like:\n",
    "        \n",
    "            ```\n",
    "            (.. more query ..)\n",
    "            WHERE CONTAINS(POINT('ICRS', obj.coord_ra, obj.coord_dec), {polygon_string(s_region)}) = 1\n",
    "            (.. more query ..)                                          ^^^^^^^^^^^^^^^^^^^^^^^^\n",
    "            ```\n",
    "    \"\"\"\n",
    "    return f\"\"\"POLYGON('ICRS', {\n",
    "    ', '.join(map(\n",
    "        lambda x: f'{x[0]:.6f}, {x[1]:.6f}', \n",
    "        sregion_to_vertices(sregion, False),\n",
    "    ))})\"\"\"\n",
    "\n",
    "\n",
    "def calexp_ccdvisitid(calexp) -> str:\n",
    "    detector = calexp.detector.getId()\n",
    "    id_ = calexp.visitInfo.id\n",
    "    ccdvisitid = f\"{id_}{detector:03d}\"\n",
    "    return ccdvisitid\n",
    "\n",
    "\n",
    "@timeit\n",
    "def sources_in(service, calexp, extendedness: bool | None = None) -> pd.DataFrame:\n",
    "    band = calexp.getFilter().bandLabel\n",
    "    ccdvisitid = calexp_ccdvisitid(calexp)\n",
    "\n",
    "    query_sregion = (\n",
    "        f\"\"\"\n",
    "        SELECT s_region \n",
    "        FROM dp02_dc2_catalogs.ObsCore \n",
    "        WHERE lsst_ccdvisitid = {ccdvisitid} \n",
    "        AND dataproduct_subtype = 'lsst.calexp'\n",
    "        \"\"\"\n",
    "    )\n",
    "    s_region = (_t := service.search(query_sregion).to_table())[0][0]\n",
    "    assert len(_t) == 1\n",
    "    and_extendedness = f\"AND obj.{band}_extendedness = {int(extendedness)}\" if extendedness is not None else \"\"\n",
    "    query_objects = (\n",
    "        f\"\"\"\n",
    "        SELECT obj.coord_ra AS coord_ra,\n",
    "        obj.coord_dec AS coord_dec,\n",
    "        obj.{band}_extendedness AS {band}_extendedness,\n",
    "        scisql_nanojanskyToAbMag(obj.{band}_cModelFlux) AS cModelMag_{band}, \n",
    "        obj.{band}_cModelFlux AS {band}_cModelFlux,\n",
    "        obj.footprintArea AS footprintArea \n",
    "        FROM dp02_dc2_catalogs.Object AS obj \n",
    "        WHERE CONTAINS(POINT('ICRS', obj.coord_ra, obj.coord_dec), {polygon_string(s_region)}) = 1\n",
    "        AND obj.detect_isPrimary = 1 \n",
    "        {and_extendedness}\n",
    "        \"\"\"\n",
    "    )\n",
    "    return service.search(query_objects).to_table().to_pandas()"
   ]
  },
  {
   "cell_type": "code",
   "execution_count": 6,
   "id": "76a99093-cf5e-4931-863a-48df6e477a39",
   "metadata": {
    "execution": {
     "iopub.execute_input": "2025-07-24T06:36:58.194269Z",
     "iopub.status.busy": "2025-07-24T06:36:58.194078Z",
     "iopub.status.idle": "2025-07-24T06:36:58.235417Z",
     "shell.execute_reply": "2025-07-24T06:36:58.234801Z",
     "shell.execute_reply.started": "2025-07-24T06:36:58.194252Z"
    }
   },
   "outputs": [],
   "source": [
    "def detection_pipeline(science, template, difference, threshold: float | None = None, footprint_area: int | None = None) -> pd.DataFrame:\n",
    "    print(\"Starting source detection.\")\n",
    "    anomalies = detect(science, template, difference, threshold=threshold)\n",
    "    sources = sources_in(service, science)\n",
    "    pointlike_sources = sources[sources[\"r_extendedness\"] == 0]\n",
    "    results = annotate_star_closeness(\n",
    "        annotate_mask(\n",
    "            annotate_donuts(anomalies), \n",
    "            difference,\n",
    "        ),\n",
    "        pointlike_sources,\n",
    "    )\n",
    "    if footprint_area is None:\n",
    "        return results\n",
    "    extended_sources = sources[sources[\"footprintArea\"] >= footprint_area]\n",
    "    return annotate_ext_overlap(results, template, extended_sources)\n"
   ]
  },
  {
   "cell_type": "markdown",
   "id": "2864807e-76c5-4bd7-9922-7ecc38cf4d11",
   "metadata": {},
   "source": [
    "# Testing"
   ]
  },
  {
   "cell_type": "code",
   "execution_count": 7,
   "id": "855b26f8-b828-4661-885c-299e283ddead",
   "metadata": {
    "execution": {
     "iopub.execute_input": "2025-07-24T06:36:58.236976Z",
     "iopub.status.busy": "2025-07-24T06:36:58.236736Z",
     "iopub.status.idle": "2025-07-24T06:36:58.311003Z",
     "shell.execute_reply": "2025-07-24T06:36:58.310385Z",
     "shell.execute_reply.started": "2025-07-24T06:36:58.236958Z"
    }
   },
   "outputs": [],
   "source": [
    "from doppelganger.doppelganger.rubin.inject import sfis_pipeline"
   ]
  },
  {
   "cell_type": "code",
   "execution_count": 8,
   "id": "f02f12b5-c0b1-4bc4-b52d-21bcee0da9ba",
   "metadata": {
    "execution": {
     "iopub.execute_input": "2025-07-24T06:37:02.226746Z",
     "iopub.status.busy": "2025-07-24T06:37:02.225828Z",
     "iopub.status.idle": "2025-07-24T06:37:46.698497Z",
     "shell.execute_reply": "2025-07-24T06:37:46.697869Z",
     "shell.execute_reply.started": "2025-07-24T06:37:02.226719Z"
    },
    "scrolled": true
   },
   "outputs": [
    {
     "name": "stdout",
     "output_type": "stream",
     "text": [
      "Retrieving visit table, choosing one visit at random.\n",
      "Starting source injection.\n"
     ]
    },
    {
     "data": {
      "text/html": [
       "<pre style=\"margin: 0.1em;\n",
       "padding-left: 0.25em;\n",
       "border-left-style: solid;\n",
       "font-family: var(--jp-code-font-family);\n",
       "font-size: var(--jp-code-font-size);\n",
       "line-height: var(--jp-code-line-height);\n",
       "\"><span style=\"color: var(--jp-warn-color2)\">lsst.source.injection.utils._generate_injection_catalog</span> <span style=\"color: var(--jp-info-color0)\">INFO</span>: Generated an injection catalog containing 1 unique sources.</pre>"
      ],
      "text/plain": [
       "<IPython.core.display.HTML object>"
      ]
     },
     "metadata": {},
     "output_type": "display_data"
    },
    {
     "data": {
      "text/html": [
       "<pre style=\"margin: 0.1em;\n",
       "padding-left: 0.25em;\n",
       "border-left-style: solid;\n",
       "font-family: var(--jp-code-font-family);\n",
       "font-size: var(--jp-code-font-size);\n",
       "line-height: var(--jp-code-line-height);\n",
       "\"><span style=\"color: var(--jp-warn-color2)\">lsst.visitInjectTask</span> <span style=\"color: var(--jp-info-color0)\">INFO</span>: Retrieved 1 injection source from 1 HTM trixel.</pre>"
      ],
      "text/plain": [
       "<IPython.core.display.HTML object>"
      ]
     },
     "metadata": {},
     "output_type": "display_data"
    },
    {
     "data": {
      "text/html": [
       "<pre style=\"margin: 0.1em;\n",
       "padding-left: 0.25em;\n",
       "border-left-style: solid;\n",
       "font-family: var(--jp-code-font-family);\n",
       "font-size: var(--jp-code-font-size);\n",
       "line-height: var(--jp-code-line-height);\n",
       "\"><span style=\"color: var(--jp-warn-color2)\">lsst.visitInjectTask</span> <span style=\"color: var(--jp-info-color0)\">INFO</span>: Catalog cleaning removed 0 of 1 source; 1 remaining for catalog checking.</pre>"
      ],
      "text/plain": [
       "<IPython.core.display.HTML object>"
      ]
     },
     "metadata": {},
     "output_type": "display_data"
    },
    {
     "data": {
      "text/html": [
       "<pre style=\"margin: 0.1em;\n",
       "padding-left: 0.25em;\n",
       "border-left-style: solid;\n",
       "font-family: var(--jp-code-font-family);\n",
       "font-size: var(--jp-code-font-size);\n",
       "line-height: var(--jp-code-line-height);\n",
       "\"><span style=\"color: var(--jp-warn-color2)\">lsst.visitInjectTask</span> <span style=\"color: var(--jp-info-color0)\">INFO</span>: Catalog checking flagged 0 of 1 source; 1 remaining for source generation.</pre>"
      ],
      "text/plain": [
       "<IPython.core.display.HTML object>"
      ]
     },
     "metadata": {},
     "output_type": "display_data"
    },
    {
     "data": {
      "text/html": [
       "<pre style=\"margin: 0.1em;\n",
       "padding-left: 0.25em;\n",
       "border-left-style: solid;\n",
       "font-family: var(--jp-code-font-family);\n",
       "font-size: var(--jp-code-font-size);\n",
       "line-height: var(--jp-code-line-height);\n",
       "\"><span style=\"color: var(--jp-warn-color2)\">lsst.visitInjectTask</span> <span style=\"color: var(--jp-info-color0)\">INFO</span>: Adding INJECTED and INJECTED_CORE mask planes to the exposure.</pre>"
      ],
      "text/plain": [
       "<IPython.core.display.HTML object>"
      ]
     },
     "metadata": {},
     "output_type": "display_data"
    },
    {
     "data": {
      "text/html": [
       "<pre style=\"margin: 0.1em;\n",
       "padding-left: 0.25em;\n",
       "border-left-style: solid;\n",
       "font-family: var(--jp-code-font-family);\n",
       "font-size: var(--jp-code-font-size);\n",
       "line-height: var(--jp-code-line-height);\n",
       "\"><span style=\"color: var(--jp-warn-color2)\">lsst.visitInjectTask</span> <span style=\"color: var(--jp-info-color0)\">INFO</span>: Generating 1 injection source consisting of 1 unique type: DeltaFunction(1).</pre>"
      ],
      "text/plain": [
       "<IPython.core.display.HTML object>"
      ]
     },
     "metadata": {},
     "output_type": "display_data"
    },
    {
     "data": {
      "text/html": [
       "<pre style=\"margin: 0.1em;\n",
       "padding-left: 0.25em;\n",
       "border-left-style: solid;\n",
       "font-family: var(--jp-code-font-family);\n",
       "font-size: var(--jp-code-font-size);\n",
       "line-height: var(--jp-code-line-height);\n",
       "\"><span style=\"color: var(--jp-warn-color2)\">lsst.visitInjectTask</span> <span style=\"color: var(--jp-info-color0)\">INFO</span>: Injected 1 of 1 potential source. 0 sources flagged and skipped.</pre>"
      ],
      "text/plain": [
       "<IPython.core.display.HTML object>"
      ]
     },
     "metadata": {},
     "output_type": "display_data"
    },
    {
     "name": "stdout",
     "output_type": "stream",
     "text": [
      "Starting DIA.\n"
     ]
    },
    {
     "data": {
      "text/html": [
       "<pre style=\"margin: 0.1em;\n",
       "padding-left: 0.25em;\n",
       "border-left-style: solid;\n",
       "font-family: var(--jp-code-font-family);\n",
       "font-size: var(--jp-code-font-size);\n",
       "line-height: var(--jp-code-line-height);\n",
       "\"><span style=\"color: var(--jp-warn-color2)\">lsst.alardLuptonSubtract</span> <span style=\"color: var(--jp-info-color0)\">INFO</span>: template has 16286565 good pixels (100.0%)</pre>"
      ],
      "text/plain": [
       "<IPython.core.display.HTML object>"
      ]
     },
     "metadata": {},
     "output_type": "display_data"
    },
    {
     "data": {
      "text/html": [
       "<pre style=\"margin: 0.1em;\n",
       "padding-left: 0.25em;\n",
       "border-left-style: solid;\n",
       "font-family: var(--jp-code-font-family);\n",
       "font-size: var(--jp-code-font-size);\n",
       "line-height: var(--jp-code-line-height);\n",
       "\"><span style=\"color: var(--jp-warn-color2)\">lsst.alardLuptonSubtract.scaleVariance</span> <span style=\"color: var(--jp-info-color0)\">INFO</span>: Renormalizing variance by 1.183460</pre>"
      ],
      "text/plain": [
       "<IPython.core.display.HTML object>"
      ]
     },
     "metadata": {},
     "output_type": "display_data"
    },
    {
     "data": {
      "text/html": [
       "<pre style=\"margin: 0.1em;\n",
       "padding-left: 0.25em;\n",
       "border-left-style: solid;\n",
       "font-family: var(--jp-code-font-family);\n",
       "font-size: var(--jp-code-font-size);\n",
       "line-height: var(--jp-code-line-height);\n",
       "\"><span style=\"color: var(--jp-warn-color2)\">lsst.alardLuptonSubtract.scaleVariance</span> <span style=\"color: var(--jp-info-color0)\">INFO</span>: Renormalizing variance by 0.999055</pre>"
      ],
      "text/plain": [
       "<IPython.core.display.HTML object>"
      ]
     },
     "metadata": {},
     "output_type": "display_data"
    },
    {
     "data": {
      "text/html": [
       "<pre style=\"margin: 0.1em;\n",
       "padding-left: 0.25em;\n",
       "border-left-style: solid;\n",
       "font-family: var(--jp-code-font-family);\n",
       "font-size: var(--jp-code-font-size);\n",
       "line-height: var(--jp-code-line-height);\n",
       "\"><span style=\"color: var(--jp-warn-color2)\">lsst.alardLuptonSubtract</span> <span style=\"color: var(--jp-info-color0)\">INFO</span>: Template variance scaling factor: 1.18</pre>"
      ],
      "text/plain": [
       "<IPython.core.display.HTML object>"
      ]
     },
     "metadata": {},
     "output_type": "display_data"
    },
    {
     "data": {
      "text/html": [
       "<pre style=\"margin: 0.1em;\n",
       "padding-left: 0.25em;\n",
       "border-left-style: solid;\n",
       "font-family: var(--jp-code-font-family);\n",
       "font-size: var(--jp-code-font-size);\n",
       "line-height: var(--jp-code-line-height);\n",
       "\"><span style=\"color: var(--jp-warn-color2)\">lsst.alardLuptonSubtract</span> <span style=\"color: var(--jp-info-color0)\">INFO</span>: Science variance scaling factor: 1.00</pre>"
      ],
      "text/plain": [
       "<IPython.core.display.HTML object>"
      ]
     },
     "metadata": {},
     "output_type": "display_data"
    },
    {
     "data": {
      "text/html": [
       "<pre style=\"margin: 0.1em;\n",
       "padding-left: 0.25em;\n",
       "border-left-style: solid;\n",
       "font-family: var(--jp-code-font-family);\n",
       "font-size: var(--jp-code-font-size);\n",
       "line-height: var(--jp-code-line-height);\n",
       "\"><span style=\"color: var(--jp-warn-color2)\">lsst.alardLuptonSubtract</span> <span style=\"color: var(--jp-info-color0)\">INFO</span>: Science PSF FWHM: 3.446285 pixels</pre>"
      ],
      "text/plain": [
       "<IPython.core.display.HTML object>"
      ]
     },
     "metadata": {},
     "output_type": "display_data"
    },
    {
     "data": {
      "text/html": [
       "<pre style=\"margin: 0.1em;\n",
       "padding-left: 0.25em;\n",
       "border-left-style: solid;\n",
       "font-family: var(--jp-code-font-family);\n",
       "font-size: var(--jp-code-font-size);\n",
       "line-height: var(--jp-code-line-height);\n",
       "\"><span style=\"color: var(--jp-warn-color2)\">lsst.alardLuptonSubtract</span> <span style=\"color: var(--jp-info-color0)\">INFO</span>: Template PSF FWHM: 3.167460 pixels</pre>"
      ],
      "text/plain": [
       "<IPython.core.display.HTML object>"
      ]
     },
     "metadata": {},
     "output_type": "display_data"
    },
    {
     "data": {
      "text/html": [
       "<pre style=\"margin: 0.1em;\n",
       "padding-left: 0.25em;\n",
       "border-left-style: solid;\n",
       "font-family: var(--jp-code-font-family);\n",
       "font-size: var(--jp-code-font-size);\n",
       "line-height: var(--jp-code-line-height);\n",
       "\"><span style=\"color: var(--jp-warn-color2)\">lsst.alardLuptonSubtract</span> <span style=\"color: var(--jp-info-color0)\">INFO</span>: `convolveTemplate` is set: convolving template image.</pre>"
      ],
      "text/plain": [
       "<IPython.core.display.HTML object>"
      ]
     },
     "metadata": {},
     "output_type": "display_data"
    },
    {
     "data": {
      "text/html": [
       "<pre style=\"margin: 0.1em;\n",
       "padding-left: 0.25em;\n",
       "border-left-style: solid;\n",
       "font-family: var(--jp-code-font-family);\n",
       "font-size: var(--jp-code-font-size);\n",
       "line-height: var(--jp-code-line-height);\n",
       "\"><span style=\"color: var(--jp-warn-color2)\">lsst.alardLuptonSubtract.sourceSelector</span> <span style=\"color: var(--jp-info-color0)\">INFO</span>: Selected 209/3151 sources</pre>"
      ],
      "text/plain": [
       "<IPython.core.display.HTML object>"
      ]
     },
     "metadata": {},
     "output_type": "display_data"
    },
    {
     "data": {
      "text/html": [
       "<pre style=\"margin: 0.1em;\n",
       "padding-left: 0.25em;\n",
       "border-left-style: solid;\n",
       "font-family: var(--jp-code-font-family);\n",
       "font-size: var(--jp-code-font-size);\n",
       "line-height: var(--jp-code-line-height);\n",
       "\"><span style=\"color: var(--jp-warn-color2)\">lsst.alardLuptonSubtract</span> <span style=\"color: var(--jp-info-color0)\">INFO</span>: Rejecting 0 candidate sources: an excluded template mask plane is set.</pre>"
      ],
      "text/plain": [
       "<IPython.core.display.HTML object>"
      ]
     },
     "metadata": {},
     "output_type": "display_data"
    },
    {
     "data": {
      "text/html": [
       "<pre style=\"margin: 0.1em;\n",
       "padding-left: 0.25em;\n",
       "border-left-style: solid;\n",
       "font-family: var(--jp-code-font-family);\n",
       "font-size: var(--jp-code-font-size);\n",
       "line-height: var(--jp-code-line-height);\n",
       "\"><span style=\"color: var(--jp-warn-color2)\">lsst.alardLuptonSubtract</span> <span style=\"color: var(--jp-info-color0)\">INFO</span>: 209/3151=6.6% of sources selected for PSF matching from the input catalog</pre>"
      ],
      "text/plain": [
       "<IPython.core.display.HTML object>"
      ]
     },
     "metadata": {},
     "output_type": "display_data"
    },
    {
     "data": {
      "text/html": [
       "<pre style=\"margin: 0.1em;\n",
       "padding-left: 0.25em;\n",
       "border-left-style: solid;\n",
       "font-family: var(--jp-code-font-family);\n",
       "font-size: var(--jp-code-font-size);\n",
       "line-height: var(--jp-code-line-height);\n",
       "\"><span style=\"color: var(--jp-warn-color2)\">lsst.alardLuptonSubtract.makeKernel</span> <span style=\"color: var(--jp-info-color0)\">INFO</span>: Reference psf fwhm is the greater, normal convolution mode</pre>"
      ],
      "text/plain": [
       "<IPython.core.display.HTML object>"
      ]
     },
     "metadata": {},
     "output_type": "display_data"
    },
    {
     "data": {
      "text/html": [
       "<pre style=\"margin: 0.1em;\n",
       "padding-left: 0.25em;\n",
       "border-left-style: solid;\n",
       "font-family: var(--jp-code-font-family);\n",
       "font-size: var(--jp-code-font-size);\n",
       "line-height: var(--jp-code-line-height);\n",
       "\"><span style=\"color: var(--jp-warn-color2)\">lsst.alardLuptonSubtract.makeKernel</span> <span style=\"color: var(--jp-info-color0)\">INFO</span>: Selected 208 / 209 sources as kernel candidates.</pre>"
      ],
      "text/plain": [
       "<IPython.core.display.HTML object>"
      ]
     },
     "metadata": {},
     "output_type": "display_data"
    },
    {
     "data": {
      "text/html": [
       "<pre style=\"margin: 0.1em;\n",
       "padding-left: 0.25em;\n",
       "border-left-style: solid;\n",
       "font-family: var(--jp-code-font-family);\n",
       "font-size: var(--jp-code-font-size);\n",
       "line-height: var(--jp-code-line-height);\n",
       "\"><span style=\"color: var(--jp-warn-color2)\">lsst.alardLuptonSubtract.makeKernel</span> <span style=\"color: var(--jp-info-color0)\">INFO</span>: Reference psf fwhm is the greater, normal convolution mode</pre>"
      ],
      "text/plain": [
       "<IPython.core.display.HTML object>"
      ]
     },
     "metadata": {},
     "output_type": "display_data"
    },
    {
     "data": {
      "text/html": [
       "<pre style=\"margin: 0.1em;\n",
       "padding-left: 0.25em;\n",
       "border-left-style: solid;\n",
       "font-family: var(--jp-code-font-family);\n",
       "font-size: var(--jp-code-font-size);\n",
       "line-height: var(--jp-code-line-height);\n",
       "\"><span style=\"color: var(--jp-warn-color2)\">lsst.alardLuptonSubtract.makeKernel</span> <span style=\"color: var(--jp-info-color0)\">INFO</span>: Final spatial kernel sum 117.656</pre>"
      ],
      "text/plain": [
       "<IPython.core.display.HTML object>"
      ]
     },
     "metadata": {},
     "output_type": "display_data"
    },
    {
     "data": {
      "text/html": [
       "<pre style=\"margin: 0.1em;\n",
       "padding-left: 0.25em;\n",
       "border-left-style: solid;\n",
       "font-family: var(--jp-code-font-family);\n",
       "font-size: var(--jp-code-font-size);\n",
       "line-height: var(--jp-code-line-height);\n",
       "\"><span style=\"color: var(--jp-warn-color2)\">lsst.alardLuptonSubtract.makeKernel</span> <span style=\"color: var(--jp-info-color0)\">INFO</span>: Spatial model condition number 2.414e+08</pre>"
      ],
      "text/plain": [
       "<IPython.core.display.HTML object>"
      ]
     },
     "metadata": {},
     "output_type": "display_data"
    },
    {
     "data": {
      "text/html": [
       "<pre style=\"margin: 0.1em;\n",
       "padding-left: 0.25em;\n",
       "border-left-style: solid;\n",
       "font-family: var(--jp-code-font-family);\n",
       "font-size: var(--jp-code-font-size);\n",
       "line-height: var(--jp-code-line-height);\n",
       "\"><span style=\"color: var(--jp-warn-color2)\">lsst.alardLuptonSubtract.makeKernel</span> <span style=\"color: var(--jp-info-color0)\">INFO</span>: Doing stats of kernel candidates used in the spatial fit.</pre>"
      ],
      "text/plain": [
       "<IPython.core.display.HTML object>"
      ]
     },
     "metadata": {},
     "output_type": "display_data"
    },
    {
     "data": {
      "text/html": [
       "<pre style=\"margin: 0.1em;\n",
       "padding-left: 0.25em;\n",
       "border-left-style: solid;\n",
       "font-family: var(--jp-code-font-family);\n",
       "font-size: var(--jp-code-font-size);\n",
       "line-height: var(--jp-code-line-height);\n",
       "\"><span style=\"color: var(--jp-warn-color2)\">lsst.alardLuptonSubtract.makeKernel</span> <span style=\"color: var(--jp-info-color0)\">INFO</span>: 208 candidates total, 32 rejected, 176 used</pre>"
      ],
      "text/plain": [
       "<IPython.core.display.HTML object>"
      ]
     },
     "metadata": {},
     "output_type": "display_data"
    },
    {
     "data": {
      "text/html": [
       "<pre style=\"margin: 0.1em;\n",
       "padding-left: 0.25em;\n",
       "border-left-style: solid;\n",
       "font-family: var(--jp-code-font-family);\n",
       "font-size: var(--jp-code-font-size);\n",
       "line-height: var(--jp-code-line-height);\n",
       "\"><span style=\"color: var(--jp-warn-color2)\">lsst.alardLuptonSubtract.makeKernel</span> <span style=\"color: var(--jp-info-color0)\">INFO</span>: Spatial kernel model well constrained; 176 candidates, 3 terms, 27 bases</pre>"
      ],
      "text/plain": [
       "<IPython.core.display.HTML object>"
      ]
     },
     "metadata": {},
     "output_type": "display_data"
    },
    {
     "data": {
      "text/html": [
       "<pre style=\"margin: 0.1em;\n",
       "padding-left: 0.25em;\n",
       "border-left-style: solid;\n",
       "font-family: var(--jp-code-font-family);\n",
       "font-size: var(--jp-code-font-size);\n",
       "line-height: var(--jp-code-line-height);\n",
       "\"><span style=\"color: var(--jp-warn-color2)\">lsst.alardLuptonSubtract.makeKernel</span> <span style=\"color: var(--jp-info-color0)\">INFO</span>: Spatial background model appears well constrained; 176 candidates, 6 terms</pre>"
      ],
      "text/plain": [
       "<IPython.core.display.HTML object>"
      ]
     },
     "metadata": {},
     "output_type": "display_data"
    },
    {
     "data": {
      "text/html": [
       "<pre style=\"margin: 0.1em;\n",
       "padding-left: 0.25em;\n",
       "border-left-style: solid;\n",
       "font-family: var(--jp-code-font-family);\n",
       "font-size: var(--jp-code-font-size);\n",
       "line-height: var(--jp-code-line-height);\n",
       "\"><span style=\"color: var(--jp-warn-color2)\">lsst.alardLuptonSubtract</span> <span style=\"color: var(--jp-info-color0)\">INFO</span>: Decorrelating image difference.</pre>"
      ],
      "text/plain": [
       "<IPython.core.display.HTML object>"
      ]
     },
     "metadata": {},
     "output_type": "display_data"
    },
    {
     "data": {
      "text/html": [
       "<pre style=\"margin: 0.1em;\n",
       "padding-left: 0.25em;\n",
       "border-left-style: solid;\n",
       "font-family: var(--jp-code-font-family);\n",
       "font-size: var(--jp-code-font-size);\n",
       "line-height: var(--jp-code-line-height);\n",
       "\"><span style=\"color: var(--jp-warn-color2)\">lsst.alardLuptonSubtract.decorrelate</span> <span style=\"color: var(--jp-info-color0)\">INFO</span>: Using matching kernel computed at (2036, 2000)</pre>"
      ],
      "text/plain": [
       "<IPython.core.display.HTML object>"
      ]
     },
     "metadata": {},
     "output_type": "display_data"
    },
    {
     "data": {
      "text/html": [
       "<pre style=\"margin: 0.1em;\n",
       "padding-left: 0.25em;\n",
       "border-left-style: solid;\n",
       "font-family: var(--jp-code-font-family);\n",
       "font-size: var(--jp-code-font-size);\n",
       "line-height: var(--jp-code-line-height);\n",
       "\"><span style=\"color: var(--jp-warn-color2)\">lsst.alardLuptonSubtract.decorrelate</span> <span style=\"color: var(--jp-info-color0)\">INFO</span>: Original variance plane means. Science:1.31147e+03, warped template:2.86716e-03)</pre>"
      ],
      "text/plain": [
       "<IPython.core.display.HTML object>"
      ]
     },
     "metadata": {},
     "output_type": "display_data"
    },
    {
     "data": {
      "text/html": [
       "<pre style=\"margin: 0.1em;\n",
       "padding-left: 0.25em;\n",
       "border-left-style: solid;\n",
       "font-family: var(--jp-code-font-family);\n",
       "font-size: var(--jp-code-font-size);\n",
       "line-height: var(--jp-code-line-height);\n",
       "\"><span style=\"color: var(--jp-warn-color2)\">lsst.alardLuptonSubtract.decorrelate</span> <span style=\"color: var(--jp-info-color0)\">INFO</span>: Decorrelation after template image convolution</pre>"
      ],
      "text/plain": [
       "<IPython.core.display.HTML object>"
      ]
     },
     "metadata": {},
     "output_type": "display_data"
    },
    {
     "data": {
      "text/html": [
       "<pre style=\"margin: 0.1em;\n",
       "padding-left: 0.25em;\n",
       "border-left-style: solid;\n",
       "font-family: var(--jp-code-font-family);\n",
       "font-size: var(--jp-code-font-size);\n",
       "line-height: var(--jp-code-line-height);\n",
       "\"><span style=\"color: var(--jp-warn-color2)\">lsst.alardLuptonSubtract.decorrelate</span> <span style=\"color: var(--jp-info-color0)\">INFO</span>: Variance plane mean of uncorrected diffim: 1339.210740</pre>"
      ],
      "text/plain": [
       "<IPython.core.display.HTML object>"
      ]
     },
     "metadata": {},
     "output_type": "display_data"
    },
    {
     "data": {
      "text/html": [
       "<pre style=\"margin: 0.1em;\n",
       "padding-left: 0.25em;\n",
       "border-left-style: solid;\n",
       "font-family: var(--jp-code-font-family);\n",
       "font-size: var(--jp-code-font-size);\n",
       "line-height: var(--jp-code-line-height);\n",
       "\"><span style=\"color: var(--jp-warn-color2)\">lsst.alardLuptonSubtract.decorrelate</span> <span style=\"color: var(--jp-info-color0)\">INFO</span>: Decorrelation of difference image</pre>"
      ],
      "text/plain": [
       "<IPython.core.display.HTML object>"
      ]
     },
     "metadata": {},
     "output_type": "display_data"
    },
    {
     "data": {
      "text/html": [
       "<pre style=\"margin: 0.1em;\n",
       "padding-left: 0.25em;\n",
       "border-left-style: solid;\n",
       "font-family: var(--jp-code-font-family);\n",
       "font-size: var(--jp-code-font-size);\n",
       "line-height: var(--jp-code-line-height);\n",
       "\"><span style=\"color: var(--jp-warn-color2)\">lsst.alardLuptonSubtract.decorrelate</span> <span style=\"color: var(--jp-info-color0)\">INFO</span>: Common frequency space shape (np.int64(4040), np.int64(4112))</pre>"
      ],
      "text/plain": [
       "<IPython.core.display.HTML object>"
      ]
     },
     "metadata": {},
     "output_type": "display_data"
    },
    {
     "data": {
      "text/html": [
       "<pre style=\"margin: 0.1em;\n",
       "padding-left: 0.25em;\n",
       "border-left-style: solid;\n",
       "font-family: var(--jp-code-font-family);\n",
       "font-size: var(--jp-code-font-size);\n",
       "line-height: var(--jp-code-line-height);\n",
       "\"><span style=\"color: var(--jp-warn-color2)\">lsst.alardLuptonSubtract.decorrelate</span> <span style=\"color: var(--jp-info-color0)\">INFO</span>: Variance plane mean of corrected diffim: 1.34949e+03</pre>"
      ],
      "text/plain": [
       "<IPython.core.display.HTML object>"
      ]
     },
     "metadata": {},
     "output_type": "display_data"
    },
    {
     "data": {
      "text/html": [
       "<pre style=\"margin: 0.1em;\n",
       "padding-left: 0.25em;\n",
       "border-left-style: solid;\n",
       "font-family: var(--jp-code-font-family);\n",
       "font-size: var(--jp-code-font-size);\n",
       "line-height: var(--jp-code-line-height);\n",
       "\"><span style=\"color: var(--jp-warn-color2)\">lsst.alardLuptonSubtract</span> <span style=\"color: var(--jp-info-color0)\">INFO</span>: Mean, stdev of ratio of difference to science pixels in star footprints: 0.0438, 0.0666</pre>"
      ],
      "text/plain": [
       "<IPython.core.display.HTML object>"
      ]
     },
     "metadata": {},
     "output_type": "display_data"
    }
   ],
   "source": [
    "ra = 56.90063\n",
    "dec = -33.94851\n",
    "mag = 17.\n",
    "band = \"r\"\n",
    "footprint_area = None\n",
    "threshold = 4\n",
    "\n",
    "images = sfis_pipeline(service, ra, dec, mag, band)"
   ]
  },
  {
   "cell_type": "code",
   "execution_count": 9,
   "id": "b8211264-bff6-4685-8f41-d3b1a6e8803f",
   "metadata": {
    "execution": {
     "iopub.execute_input": "2025-07-24T06:37:46.700495Z",
     "iopub.status.busy": "2025-07-24T06:37:46.700252Z",
     "iopub.status.idle": "2025-07-24T06:38:50.299221Z",
     "shell.execute_reply": "2025-07-24T06:38:50.298615Z",
     "shell.execute_reply.started": "2025-07-24T06:37:46.700461Z"
    }
   },
   "outputs": [
    {
     "name": "stdout",
     "output_type": "stream",
     "text": [
      "Starting source detection.\n"
     ]
    },
    {
     "data": {
      "text/html": [
       "<pre style=\"margin: 0.1em;\n",
       "padding-left: 0.25em;\n",
       "border-left-style: solid;\n",
       "font-family: var(--jp-code-font-family);\n",
       "font-size: var(--jp-code-font-size);\n",
       "line-height: var(--jp-code-line-height);\n",
       "\"><span style=\"color: var(--jp-warn-color2)\">lsst.detectAndMeasure.detection</span> <span style=\"color: var(--jp-info-color0)\">INFO</span>: Setting factor for negative detections equal to that for positive detections: 1.000000</pre>"
      ],
      "text/plain": [
       "<IPython.core.display.HTML object>"
      ]
     },
     "metadata": {},
     "output_type": "display_data"
    },
    {
     "data": {
      "text/html": [
       "<pre style=\"margin: 0.1em;\n",
       "padding-left: 0.25em;\n",
       "border-left-style: solid;\n",
       "font-family: var(--jp-code-font-family);\n",
       "font-size: var(--jp-code-font-size);\n",
       "line-height: var(--jp-code-line-height);\n",
       "\"><span style=\"color: var(--jp-warn-color2)\">lsst.detectAndMeasure.detection</span> <span style=\"color: var(--jp-info-color0)\">INFO</span>: Detected 218 positive peaks in 177 footprints and 225 negative peaks in 201 footprints to 4 +ve and 4 -ve sigma</pre>"
      ],
      "text/plain": [
       "<IPython.core.display.HTML object>"
      ]
     },
     "metadata": {},
     "output_type": "display_data"
    },
    {
     "data": {
      "text/html": [
       "<pre style=\"margin: 0.1em;\n",
       "padding-left: 0.25em;\n",
       "border-left-style: solid;\n",
       "font-family: var(--jp-code-font-family);\n",
       "font-size: var(--jp-code-font-size);\n",
       "line-height: var(--jp-code-line-height);\n",
       "\"><span style=\"color: var(--jp-warn-color2)\">lsst.detectAndMeasure</span> <span style=\"color: var(--jp-info-color0)\">INFO</span>: Merging detections into 324 sources</pre>"
      ],
      "text/plain": [
       "<IPython.core.display.HTML object>"
      ]
     },
     "metadata": {},
     "output_type": "display_data"
    },
    {
     "data": {
      "text/html": [
       "<pre style=\"margin: 0.1em;\n",
       "padding-left: 0.25em;\n",
       "border-left-style: solid;\n",
       "font-family: var(--jp-code-font-family);\n",
       "font-size: var(--jp-code-font-size);\n",
       "line-height: var(--jp-code-line-height);\n",
       "\"><span style=\"color: var(--jp-warn-color2)\">lsst.detectAndMeasure.streakDetection</span> <span style=\"color: var(--jp-info-color0)\">INFO</span>: Setting factor for negative detections equal to that for positive detections: 1.000000</pre>"
      ],
      "text/plain": [
       "<IPython.core.display.HTML object>"
      ]
     },
     "metadata": {},
     "output_type": "display_data"
    },
    {
     "data": {
      "text/html": [
       "<pre style=\"margin: 0.1em;\n",
       "padding-left: 0.25em;\n",
       "border-left-style: solid;\n",
       "font-family: var(--jp-code-font-family);\n",
       "font-size: var(--jp-code-font-size);\n",
       "line-height: var(--jp-code-line-height);\n",
       "\"><span style=\"color: var(--jp-warn-color2)\">lsst.detectAndMeasure.streakDetection</span> <span style=\"color: var(--jp-info-color0)\">INFO</span>: Detected 63 positive peaks in 50 footprints to 5 +ve and 5 -ve sigma</pre>"
      ],
      "text/plain": [
       "<IPython.core.display.HTML object>"
      ]
     },
     "metadata": {},
     "output_type": "display_data"
    },
    {
     "data": {
      "text/html": [
       "<pre style=\"margin: 0.1em;\n",
       "padding-left: 0.25em;\n",
       "border-left-style: solid;\n",
       "font-family: var(--jp-code-font-family);\n",
       "font-size: var(--jp-code-font-size);\n",
       "line-height: var(--jp-code-line-height);\n",
       "\"><span style=\"color: var(--jp-warn-color2)\">lsst.detectAndMeasure.maskStreaks</span> <span style=\"color: var(--jp-info-color0)\">INFO</span>: The Kernel Hough Transform detected 0 line(s)</pre>"
      ],
      "text/plain": [
       "<IPython.core.display.HTML object>"
      ]
     },
     "metadata": {},
     "output_type": "display_data"
    },
    {
     "data": {
      "text/html": [
       "<pre style=\"margin: 0.1em;\n",
       "padding-left: 0.25em;\n",
       "border-left-style: solid;\n",
       "font-family: var(--jp-code-font-family);\n",
       "font-size: var(--jp-code-font-size);\n",
       "line-height: var(--jp-code-line-height);\n",
       "\"><span style=\"color: var(--jp-warn-color2)\">lsst.detectAndMeasure.measurement</span> <span style=\"color: var(--jp-info-color0)\">INFO</span>: Measuring 324 sources (324 parents, 0 children) </pre>"
      ],
      "text/plain": [
       "<IPython.core.display.HTML object>"
      ]
     },
     "metadata": {},
     "output_type": "display_data"
    },
    {
     "name": "stderr",
     "output_type": "stream",
     "text": [
      "/opt/lsst/software/stack/conda/envs/lsst-scipipe-10.0.0/lib/python3.12/site-packages/uncertainties/core.py:1024: UserWarning: Using UFloat objects with std_dev==0 may give unexpected results.\n",
      "  warn(\"Using UFloat objects with std_dev==0 may give unexpected results.\")\n"
     ]
    },
    {
     "data": {
      "text/html": [
       "<pre style=\"margin: 0.1em;\n",
       "padding-left: 0.25em;\n",
       "border-left-style: solid;\n",
       "font-family: var(--jp-code-font-family);\n",
       "font-size: var(--jp-code-font-size);\n",
       "line-height: var(--jp-code-line-height);\n",
       "\"><span style=\"color: var(--jp-warn-color2)\">lsst.detectAndMeasure.measurement</span> <span style=\"color: var(--jp-info-color0)\">INFO</span>: Measuring 324 sources (324 parents, 0 children) </pre>"
      ],
      "text/plain": [
       "<IPython.core.display.HTML object>"
      ]
     },
     "metadata": {},
     "output_type": "display_data"
    },
    {
     "data": {
      "text/html": [
       "<pre style=\"margin: 0.1em;\n",
       "padding-left: 0.25em;\n",
       "border-left-style: solid;\n",
       "font-family: var(--jp-code-font-family);\n",
       "font-size: var(--jp-code-font-size);\n",
       "line-height: var(--jp-code-line-height);\n",
       "\"><span style=\"color: var(--jp-warn-color2)\">lsst.detectAndMeasure.applyApCorr</span> <span style=\"color: var(--jp-info-color0)\">INFO</span>: Applying aperture corrections to 1 instFlux fields</pre>"
      ],
      "text/plain": [
       "<IPython.core.display.HTML object>"
      ]
     },
     "metadata": {},
     "output_type": "display_data"
    },
    {
     "data": {
      "text/html": [
       "<pre style=\"margin: 0.1em;\n",
       "padding-left: 0.25em;\n",
       "border-left-style: solid;\n",
       "font-family: var(--jp-code-font-family);\n",
       "font-size: var(--jp-code-font-size);\n",
       "line-height: var(--jp-code-line-height);\n",
       "\"><span style=\"color: var(--jp-warn-color2)\">lsst.detectAndMeasure</span> <span style=\"color: var(--jp-info-color0)\">INFO</span>: Removed 14 unphysical sources.</pre>"
      ],
      "text/plain": [
       "<IPython.core.display.HTML object>"
      ]
     },
     "metadata": {},
     "output_type": "display_data"
    },
    {
     "data": {
      "text/html": [
       "<pre style=\"margin: 0.1em;\n",
       "padding-left: 0.25em;\n",
       "border-left-style: solid;\n",
       "font-family: var(--jp-code-font-family);\n",
       "font-size: var(--jp-code-font-size);\n",
       "line-height: var(--jp-code-line-height);\n",
       "\"><span style=\"color: var(--jp-warn-color2)\">lsst.detectAndMeasure.forcedMeasurement</span> <span style=\"color: var(--jp-info-color0)\">INFO</span>: Performing forced measurement on 310 sources</pre>"
      ],
      "text/plain": [
       "<IPython.core.display.HTML object>"
      ]
     },
     "metadata": {},
     "output_type": "display_data"
    },
    {
     "name": "stderr",
     "output_type": "stream",
     "text": [
      "/tmp/ipykernel_32813/2424483094.py:30: RuntimeWarning: invalid value encountered in log10\n",
      "  _d[f\"magErrBot_{label_f}\"] = [-2.5 * np.log10(1 + delta_f / f) for f, delta_f in zip(df[label_f], df[label_err],)]\n",
      "/tmp/ipykernel_32813/2424483094.py:31: RuntimeWarning: invalid value encountered in log10\n",
      "  _d[f\"magErrTop_{label_f}\"] = [-2.5 * np.log10(1 - delta_f / f) for f, delta_f in zip(df[label_f], df[label_err],)]\n"
     ]
    },
    {
     "name": "stdout",
     "output_type": "stream",
     "text": [
      "Function detect took 8.8913 seconds\n",
      "Function sources_in took 10.3326 seconds\n",
      "Function annotate_donuts took 0.0006 seconds\n",
      "Function annotate_mask took 44.3252 seconds\n",
      "Function annotate_star_closeness took 0.0443 seconds\n"
     ]
    }
   ],
   "source": [
    "annotated_anomalies = detection_pipeline(**images, footprint_area = footprint_area, threshold = threshold)"
   ]
  },
  {
   "cell_type": "code",
   "execution_count": 10,
   "id": "466bfd29-87a7-4edb-ac1b-62342033d319",
   "metadata": {
    "execution": {
     "iopub.execute_input": "2025-07-24T06:38:50.300842Z",
     "iopub.status.busy": "2025-07-24T06:38:50.300058Z",
     "iopub.status.idle": "2025-07-24T06:38:50.320972Z",
     "shell.execute_reply": "2025-07-24T06:38:50.320398Z",
     "shell.execute_reply.started": "2025-07-24T06:38:50.300820Z"
    }
   },
   "outputs": [
    {
     "data": {
      "text/html": [
       "<div>\n",
       "<style scoped>\n",
       "    .dataframe tbody tr th:only-of-type {\n",
       "        vertical-align: middle;\n",
       "    }\n",
       "\n",
       "    .dataframe tbody tr th {\n",
       "        vertical-align: top;\n",
       "    }\n",
       "\n",
       "    .dataframe thead th {\n",
       "        text-align: right;\n",
       "    }\n",
       "</style>\n",
       "<table border=\"1\" class=\"dataframe\">\n",
       "  <thead>\n",
       "    <tr style=\"text-align: right;\">\n",
       "      <th></th>\n",
       "      <th>is_negative</th>\n",
       "      <th>coord_ra</th>\n",
       "      <th>coord_dec</th>\n",
       "      <th>area_psf</th>\n",
       "      <th>flux_base_psf</th>\n",
       "      <th>flux_diffim_psf</th>\n",
       "      <th>flux_base_3</th>\n",
       "      <th>flux_base_psfErr</th>\n",
       "      <th>flux_diffim_psfErr</th>\n",
       "      <th>flux_base_3Err</th>\n",
       "      <th>...</th>\n",
       "      <th>magErrTop_flux_diffim_psf</th>\n",
       "      <th>magErrTop_flux_base_3</th>\n",
       "      <th>ann_donut</th>\n",
       "      <th>ann_mask_sat_template</th>\n",
       "      <th>ann_mask_detected</th>\n",
       "      <th>ann_mask_injected_core</th>\n",
       "      <th>ann_mask_injected</th>\n",
       "      <th>ann_mask_crosstalk</th>\n",
       "      <th>ann_mask_detected_negative</th>\n",
       "      <th>ann_closestar</th>\n",
       "    </tr>\n",
       "  </thead>\n",
       "  <tbody>\n",
       "    <tr>\n",
       "      <th>0</th>\n",
       "      <td>False</td>\n",
       "      <td>56.900630</td>\n",
       "      <td>-33.948510</td>\n",
       "      <td>40.101875</td>\n",
       "      <td>1.179062e+06</td>\n",
       "      <td>1.180266e+06</td>\n",
       "      <td>1.174872e+06</td>\n",
       "      <td>1588.421135</td>\n",
       "      <td>1582.884205</td>\n",
       "      <td>1531.898861</td>\n",
       "      <td>...</td>\n",
       "      <td>0.001457</td>\n",
       "      <td>0.001417</td>\n",
       "      <td>False</td>\n",
       "      <td>False</td>\n",
       "      <td>True</td>\n",
       "      <td>True</td>\n",
       "      <td>True</td>\n",
       "      <td>False</td>\n",
       "      <td>False</td>\n",
       "      <td>False</td>\n",
       "    </tr>\n",
       "    <tr>\n",
       "      <th>1</th>\n",
       "      <td>False</td>\n",
       "      <td>56.934948</td>\n",
       "      <td>-33.831676</td>\n",
       "      <td>40.586796</td>\n",
       "      <td>1.869201e+05</td>\n",
       "      <td>2.445706e+06</td>\n",
       "      <td>1.004794e+05</td>\n",
       "      <td>2351.615958</td>\n",
       "      <td>2315.587965</td>\n",
       "      <td>2080.323484</td>\n",
       "      <td>...</td>\n",
       "      <td>0.001028</td>\n",
       "      <td>0.022715</td>\n",
       "      <td>False</td>\n",
       "      <td>True</td>\n",
       "      <td>True</td>\n",
       "      <td>False</td>\n",
       "      <td>False</td>\n",
       "      <td>False</td>\n",
       "      <td>False</td>\n",
       "      <td>False</td>\n",
       "    </tr>\n",
       "    <tr>\n",
       "      <th>2</th>\n",
       "      <td>False</td>\n",
       "      <td>56.760003</td>\n",
       "      <td>-33.751603</td>\n",
       "      <td>40.373829</td>\n",
       "      <td>1.737938e+05</td>\n",
       "      <td>2.412877e+06</td>\n",
       "      <td>1.085861e+05</td>\n",
       "      <td>2347.490718</td>\n",
       "      <td>2303.039682</td>\n",
       "      <td>2077.629573</td>\n",
       "      <td>...</td>\n",
       "      <td>0.001037</td>\n",
       "      <td>0.020975</td>\n",
       "      <td>False</td>\n",
       "      <td>True</td>\n",
       "      <td>True</td>\n",
       "      <td>False</td>\n",
       "      <td>False</td>\n",
       "      <td>False</td>\n",
       "      <td>False</td>\n",
       "      <td>False</td>\n",
       "    </tr>\n",
       "    <tr>\n",
       "      <th>3</th>\n",
       "      <td>False</td>\n",
       "      <td>56.900940</td>\n",
       "      <td>-33.942128</td>\n",
       "      <td>40.123875</td>\n",
       "      <td>1.135761e+05</td>\n",
       "      <td>2.167483e+06</td>\n",
       "      <td>6.824161e+04</td>\n",
       "      <td>2203.599289</td>\n",
       "      <td>2170.771344</td>\n",
       "      <td>1973.718735</td>\n",
       "      <td>...</td>\n",
       "      <td>0.001088</td>\n",
       "      <td>0.031865</td>\n",
       "      <td>False</td>\n",
       "      <td>True</td>\n",
       "      <td>True</td>\n",
       "      <td>False</td>\n",
       "      <td>False</td>\n",
       "      <td>False</td>\n",
       "      <td>False</td>\n",
       "      <td>False</td>\n",
       "    </tr>\n",
       "    <tr>\n",
       "      <th>4</th>\n",
       "      <td>False</td>\n",
       "      <td>56.887211</td>\n",
       "      <td>-33.860588</td>\n",
       "      <td>40.358974</td>\n",
       "      <td>6.968733e+04</td>\n",
       "      <td>2.071987e+06</td>\n",
       "      <td>3.858901e+04</td>\n",
       "      <td>2151.381497</td>\n",
       "      <td>2126.038838</td>\n",
       "      <td>1927.395971</td>\n",
       "      <td>...</td>\n",
       "      <td>0.001115</td>\n",
       "      <td>0.055630</td>\n",
       "      <td>False</td>\n",
       "      <td>True</td>\n",
       "      <td>True</td>\n",
       "      <td>False</td>\n",
       "      <td>False</td>\n",
       "      <td>False</td>\n",
       "      <td>True</td>\n",
       "      <td>False</td>\n",
       "    </tr>\n",
       "    <tr>\n",
       "      <th>...</th>\n",
       "      <td>...</td>\n",
       "      <td>...</td>\n",
       "      <td>...</td>\n",
       "      <td>...</td>\n",
       "      <td>...</td>\n",
       "      <td>...</td>\n",
       "      <td>...</td>\n",
       "      <td>...</td>\n",
       "      <td>...</td>\n",
       "      <td>...</td>\n",
       "      <td>...</td>\n",
       "      <td>...</td>\n",
       "      <td>...</td>\n",
       "      <td>...</td>\n",
       "      <td>...</td>\n",
       "      <td>...</td>\n",
       "      <td>...</td>\n",
       "      <td>...</td>\n",
       "      <td>...</td>\n",
       "      <td>...</td>\n",
       "      <td>...</td>\n",
       "    </tr>\n",
       "    <tr>\n",
       "      <th>305</th>\n",
       "      <td>True</td>\n",
       "      <td>56.796426</td>\n",
       "      <td>-33.765788</td>\n",
       "      <td>40.299557</td>\n",
       "      <td>-2.741390e+03</td>\n",
       "      <td>8.906580e+04</td>\n",
       "      <td>-5.149372e+02</td>\n",
       "      <td>472.116597</td>\n",
       "      <td>466.298062</td>\n",
       "      <td>886.513366</td>\n",
       "      <td>...</td>\n",
       "      <td>0.005699</td>\n",
       "      <td>-1.087059</td>\n",
       "      <td>True</td>\n",
       "      <td>False</td>\n",
       "      <td>False</td>\n",
       "      <td>False</td>\n",
       "      <td>False</td>\n",
       "      <td>False</td>\n",
       "      <td>True</td>\n",
       "      <td>False</td>\n",
       "    </tr>\n",
       "    <tr>\n",
       "      <th>306</th>\n",
       "      <td>True</td>\n",
       "      <td>56.907274</td>\n",
       "      <td>-33.955091</td>\n",
       "      <td>40.130928</td>\n",
       "      <td>-2.682977e+03</td>\n",
       "      <td>6.290474e+04</td>\n",
       "      <td>-3.469876e+03</td>\n",
       "      <td>426.260160</td>\n",
       "      <td>420.922995</td>\n",
       "      <td>855.026975</td>\n",
       "      <td>...</td>\n",
       "      <td>0.007290</td>\n",
       "      <td>-0.239156</td>\n",
       "      <td>True</td>\n",
       "      <td>False</td>\n",
       "      <td>False</td>\n",
       "      <td>False</td>\n",
       "      <td>False</td>\n",
       "      <td>False</td>\n",
       "      <td>True</td>\n",
       "      <td>False</td>\n",
       "    </tr>\n",
       "    <tr>\n",
       "      <th>307</th>\n",
       "      <td>False</td>\n",
       "      <td>56.978152</td>\n",
       "      <td>-33.821781</td>\n",
       "      <td>40.793056</td>\n",
       "      <td>-1.208045e+04</td>\n",
       "      <td>9.386341e+05</td>\n",
       "      <td>-1.891633e+02</td>\n",
       "      <td>1439.050135</td>\n",
       "      <td>1429.611710</td>\n",
       "      <td>1416.614027</td>\n",
       "      <td>...</td>\n",
       "      <td>0.001655</td>\n",
       "      <td>-2.322121</td>\n",
       "      <td>True</td>\n",
       "      <td>False</td>\n",
       "      <td>True</td>\n",
       "      <td>False</td>\n",
       "      <td>False</td>\n",
       "      <td>False</td>\n",
       "      <td>True</td>\n",
       "      <td>False</td>\n",
       "    </tr>\n",
       "    <tr>\n",
       "      <th>308</th>\n",
       "      <td>True</td>\n",
       "      <td>56.957800</td>\n",
       "      <td>-33.827187</td>\n",
       "      <td>40.688553</td>\n",
       "      <td>-8.138419e+03</td>\n",
       "      <td>3.507061e+05</td>\n",
       "      <td>-7.920030e+03</td>\n",
       "      <td>842.774208</td>\n",
       "      <td>835.978531</td>\n",
       "      <td>1143.792703</td>\n",
       "      <td>...</td>\n",
       "      <td>0.002591</td>\n",
       "      <td>-0.146461</td>\n",
       "      <td>True</td>\n",
       "      <td>False</td>\n",
       "      <td>False</td>\n",
       "      <td>False</td>\n",
       "      <td>False</td>\n",
       "      <td>False</td>\n",
       "      <td>True</td>\n",
       "      <td>False</td>\n",
       "    </tr>\n",
       "    <tr>\n",
       "      <th>309</th>\n",
       "      <td>False</td>\n",
       "      <td>57.003523</td>\n",
       "      <td>-33.812200</td>\n",
       "      <td>40.917191</td>\n",
       "      <td>-2.110740e+04</td>\n",
       "      <td>8.925168e+05</td>\n",
       "      <td>-3.881109e+03</td>\n",
       "      <td>1399.374950</td>\n",
       "      <td>1391.553059</td>\n",
       "      <td>1393.006954</td>\n",
       "      <td>...</td>\n",
       "      <td>0.001694</td>\n",
       "      <td>-0.332985</td>\n",
       "      <td>True</td>\n",
       "      <td>False</td>\n",
       "      <td>True</td>\n",
       "      <td>False</td>\n",
       "      <td>False</td>\n",
       "      <td>False</td>\n",
       "      <td>True</td>\n",
       "      <td>True</td>\n",
       "    </tr>\n",
       "  </tbody>\n",
       "</table>\n",
       "<p>310 rows × 30 columns</p>\n",
       "</div>"
      ],
      "text/plain": [
       "     is_negative   coord_ra  coord_dec   area_psf  flux_base_psf  \\\n",
       "0          False  56.900630 -33.948510  40.101875   1.179062e+06   \n",
       "1          False  56.934948 -33.831676  40.586796   1.869201e+05   \n",
       "2          False  56.760003 -33.751603  40.373829   1.737938e+05   \n",
       "3          False  56.900940 -33.942128  40.123875   1.135761e+05   \n",
       "4          False  56.887211 -33.860588  40.358974   6.968733e+04   \n",
       "..           ...        ...        ...        ...            ...   \n",
       "305         True  56.796426 -33.765788  40.299557  -2.741390e+03   \n",
       "306         True  56.907274 -33.955091  40.130928  -2.682977e+03   \n",
       "307        False  56.978152 -33.821781  40.793056  -1.208045e+04   \n",
       "308         True  56.957800 -33.827187  40.688553  -8.138419e+03   \n",
       "309        False  57.003523 -33.812200  40.917191  -2.110740e+04   \n",
       "\n",
       "     flux_diffim_psf   flux_base_3  flux_base_psfErr  flux_diffim_psfErr  \\\n",
       "0       1.180266e+06  1.174872e+06       1588.421135         1582.884205   \n",
       "1       2.445706e+06  1.004794e+05       2351.615958         2315.587965   \n",
       "2       2.412877e+06  1.085861e+05       2347.490718         2303.039682   \n",
       "3       2.167483e+06  6.824161e+04       2203.599289         2170.771344   \n",
       "4       2.071987e+06  3.858901e+04       2151.381497         2126.038838   \n",
       "..               ...           ...               ...                 ...   \n",
       "305     8.906580e+04 -5.149372e+02        472.116597          466.298062   \n",
       "306     6.290474e+04 -3.469876e+03        426.260160          420.922995   \n",
       "307     9.386341e+05 -1.891633e+02       1439.050135         1429.611710   \n",
       "308     3.507061e+05 -7.920030e+03        842.774208          835.978531   \n",
       "309     8.925168e+05 -3.881109e+03       1399.374950         1391.553059   \n",
       "\n",
       "     flux_base_3Err  ...  magErrTop_flux_diffim_psf  magErrTop_flux_base_3  \\\n",
       "0       1531.898861  ...                   0.001457               0.001417   \n",
       "1       2080.323484  ...                   0.001028               0.022715   \n",
       "2       2077.629573  ...                   0.001037               0.020975   \n",
       "3       1973.718735  ...                   0.001088               0.031865   \n",
       "4       1927.395971  ...                   0.001115               0.055630   \n",
       "..              ...  ...                        ...                    ...   \n",
       "305      886.513366  ...                   0.005699              -1.087059   \n",
       "306      855.026975  ...                   0.007290              -0.239156   \n",
       "307     1416.614027  ...                   0.001655              -2.322121   \n",
       "308     1143.792703  ...                   0.002591              -0.146461   \n",
       "309     1393.006954  ...                   0.001694              -0.332985   \n",
       "\n",
       "     ann_donut  ann_mask_sat_template  ann_mask_detected  \\\n",
       "0        False                  False               True   \n",
       "1        False                   True               True   \n",
       "2        False                   True               True   \n",
       "3        False                   True               True   \n",
       "4        False                   True               True   \n",
       "..         ...                    ...                ...   \n",
       "305       True                  False              False   \n",
       "306       True                  False              False   \n",
       "307       True                  False               True   \n",
       "308       True                  False              False   \n",
       "309       True                  False               True   \n",
       "\n",
       "     ann_mask_injected_core  ann_mask_injected  ann_mask_crosstalk  \\\n",
       "0                      True               True               False   \n",
       "1                     False              False               False   \n",
       "2                     False              False               False   \n",
       "3                     False              False               False   \n",
       "4                     False              False               False   \n",
       "..                      ...                ...                 ...   \n",
       "305                   False              False               False   \n",
       "306                   False              False               False   \n",
       "307                   False              False               False   \n",
       "308                   False              False               False   \n",
       "309                   False              False               False   \n",
       "\n",
       "     ann_mask_detected_negative  ann_closestar  \n",
       "0                         False          False  \n",
       "1                         False          False  \n",
       "2                         False          False  \n",
       "3                         False          False  \n",
       "4                          True          False  \n",
       "..                          ...            ...  \n",
       "305                        True          False  \n",
       "306                        True          False  \n",
       "307                        True          False  \n",
       "308                        True          False  \n",
       "309                        True           True  \n",
       "\n",
       "[310 rows x 30 columns]"
      ]
     },
     "execution_count": 10,
     "metadata": {},
     "output_type": "execute_result"
    }
   ],
   "source": [
    "annotated_anomalies"
   ]
  },
  {
   "cell_type": "code",
   "execution_count": 11,
   "id": "e5c6faf7-5527-4c57-bc7b-00b8922ba7e3",
   "metadata": {
    "execution": {
     "iopub.execute_input": "2025-07-24T06:38:50.322346Z",
     "iopub.status.busy": "2025-07-24T06:38:50.322123Z",
     "iopub.status.idle": "2025-07-24T06:38:50.356161Z",
     "shell.execute_reply": "2025-07-24T06:38:50.355640Z",
     "shell.execute_reply.started": "2025-07-24T06:38:50.322329Z"
    }
   },
   "outputs": [
    {
     "data": {
      "text/plain": [
       "Index(['is_negative', 'coord_ra', 'coord_dec', 'area_psf', 'flux_base_psf',\n",
       "       'flux_diffim_psf', 'flux_base_3', 'flux_base_psfErr',\n",
       "       'flux_diffim_psfErr', 'flux_base_3Err', 'snr_flux_base_psf',\n",
       "       'snr_flux_diffim_psf', 'snr_flux_base_3', 'mag_flux_base_psf',\n",
       "       'mag_flux_diffim_psf', 'mag_flux_base_3', 'magErrBot_flux_base_psf',\n",
       "       'magErrBot_flux_diffim_psf', 'magErrBot_flux_base_3',\n",
       "       'magErrTop_flux_base_psf', 'magErrTop_flux_diffim_psf',\n",
       "       'magErrTop_flux_base_3', 'ann_donut', 'ann_mask_sat_template',\n",
       "       'ann_mask_detected', 'ann_mask_injected_core', 'ann_mask_injected',\n",
       "       'ann_mask_crosstalk', 'ann_mask_detected_negative', 'ann_closestar'],\n",
       "      dtype='object')"
      ]
     },
     "execution_count": 11,
     "metadata": {},
     "output_type": "execute_result"
    }
   ],
   "source": [
    "annotated_anomalies.columns"
   ]
  },
  {
   "cell_type": "markdown",
   "id": "c60b3485-4ea3-4cbe-8f9d-feabfe58ad59",
   "metadata": {},
   "source": [
    "# Operations"
   ]
  },
  {
   "cell_type": "code",
   "execution_count": 12,
   "id": "a7799848-2be3-43d0-9fa2-9c9c32a8de05",
   "metadata": {
    "execution": {
     "iopub.execute_input": "2025-07-24T06:38:59.663753Z",
     "iopub.status.busy": "2025-07-24T06:38:59.663414Z",
     "iopub.status.idle": "2025-07-24T06:38:59.667050Z",
     "shell.execute_reply": "2025-07-24T06:38:59.666495Z",
     "shell.execute_reply.started": "2025-07-24T06:38:59.663731Z"
    }
   },
   "outputs": [],
   "source": [
    "np.random.seed(0)"
   ]
  },
  {
   "cell_type": "code",
   "execution_count": null,
   "id": "840901e8-ab95-4aaf-9957-bb59724a019c",
   "metadata": {
    "scrolled": true
   },
   "outputs": [],
   "source": [
    "dirname = \"data/08_anomalies_250722\"\n",
    "\n",
    "events_df = pd.read_csv(\"data/06_sourceCatalogSim/afterglow_host.csv\")\n",
    "for i, (ra, dec, mag) in events_df[[\"ra\", \"dec\", \"m\"]].iterrows():\n",
    "    print(f\"START SIMULATION of source with index {i:02d}, ra = {ra:.4f}, dec = {dec:.4f}, m = {mag:.4f}\")\n",
    "    results = sfis_pipeline(service, ra, dec, mag, \"r\")\n",
    "    annotated_anomalies = detection_pipeline(**results, threshold=4, footprint_area = 4000)\n",
    "    ccdvisitid = calexp_ccdvisitid(results['science'])\n",
    "    rastr, decstr = map(lambda x: f\"{x:.3f}\".replace(\".\", \"d\").replace(\"-\", \"m\"), [ra, dec])\n",
    "    magstr = f\"{mag:.1f}\".replace(\".\", \"d\")\n",
    "    idstring = f\"i{i:02d}_ccdvisitid{ccdvisitid}_ra{rastr}_dec{decstr}_mag{magstr}\"\n",
    "    \n",
    "    for k in [\"science\", \"template\", \"difference\"]:\n",
    "        results[k].writeFits(f\"{dirname}/anomalies_{k}_{idstring}.fits\")\n",
    "    annotated_anomalies.to_csv(f\"{dirname}/anomalies_{idstring}.csv\")\n",
    "    print(\"ENDS SIMULATION.\\n\\n\")"
   ]
  },
  {
   "cell_type": "code",
   "execution_count": null,
   "id": "96c7b59f-2f95-4f7f-b091-352e049349eb",
   "metadata": {},
   "outputs": [],
   "source": []
  }
 ],
 "metadata": {
  "kernelspec": {
   "display_name": "LSST",
   "language": "python",
   "name": "lsst"
  },
  "language_info": {
   "codemirror_mode": {
    "name": "ipython",
    "version": 3
   },
   "file_extension": ".py",
   "mimetype": "text/x-python",
   "name": "python",
   "nbconvert_exporter": "python",
   "pygments_lexer": "ipython3",
   "version": "3.12.11"
  }
 },
 "nbformat": 4,
 "nbformat_minor": 5
}
