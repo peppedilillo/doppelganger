{
 "cells": [
  {
   "cell_type": "code",
   "execution_count": 1,
   "id": "734d7110-8417-4a3e-a423-4a226b67304b",
   "metadata": {
    "execution": {
     "iopub.execute_input": "2025-07-25T13:35:13.360518Z",
     "iopub.status.busy": "2025-07-25T13:35:13.360367Z",
     "iopub.status.idle": "2025-07-25T13:35:17.910410Z",
     "shell.execute_reply": "2025-07-25T13:35:17.909789Z",
     "shell.execute_reply.started": "2025-07-25T13:35:13.360503Z"
    }
   },
   "outputs": [],
   "source": [
    "from pathlib import Path\n",
    "from typing import Literal, Callable\n",
    "from warnings import warn\n",
    "from itertools import product\n",
    "\n",
    "import scipy.stats as stats\n",
    "import matplotlib\n",
    "import matplotlib.pyplot as plt\n",
    "import seaborn as sns\n",
    "import numpy as np\n",
    "import pandas as pd\n",
    "\n",
    "from scipy.ndimage import label\n",
    "\n",
    "from astropy.coordinates import SkyCoord\n",
    "from astropy import units as u\n",
    "from astropy.wcs import WCS\n",
    "import astropy.visualization as vis\n",
    "\n",
    "from lsst.geom import SpherePoint, Point2I\n",
    "import lsst.geom as geom\n",
    "from lsst.daf.butler import Butler\n",
    "from lsst.rsp import get_tap_service\n",
    "from lsst.afw.math import Warper, WarperConfig\n",
    "from lsst.source.injection import generate_injection_catalog\n",
    "from lsst.source.injection import VisitInjectConfig, VisitInjectTask\n",
    "from lsst.ip.diffim.subtractImages import AlardLuptonSubtractTask, AlardLuptonSubtractConfig\n",
    "from lsst.ip.diffim.detectAndMeasure import DetectAndMeasureTask, DetectAndMeasureConfig"
   ]
  },
  {
   "cell_type": "code",
   "execution_count": 2,
   "id": "a6398ab0-6e5d-48a4-b3ba-2a28794d8eed",
   "metadata": {
    "execution": {
     "iopub.execute_input": "2025-07-25T13:35:19.930086Z",
     "iopub.status.busy": "2025-07-25T13:35:19.929512Z",
     "iopub.status.idle": "2025-07-25T13:35:19.971460Z",
     "shell.execute_reply": "2025-07-25T13:35:19.970855Z",
     "shell.execute_reply.started": "2025-07-25T13:35:19.930063Z"
    }
   },
   "outputs": [],
   "source": [
    "service = get_tap_service(\"tap\")"
   ]
  },
  {
   "cell_type": "markdown",
   "id": "70a5d07b-a650-42da-90dd-188789c738f6",
   "metadata": {},
   "source": [
    "# More on `DetectAndMeasureConfig`\n",
    "\n",
    "In this notebook we further investigate the configuration of the detection task. First we generate a test image and subtract it.\n",
    "First let's define a few utilities for running the detection pipeline. "
   ]
  },
  {
   "cell_type": "code",
   "execution_count": 3,
   "id": "d829f3f5-7e3c-40b6-a454-31c96e039205",
   "metadata": {
    "execution": {
     "iopub.execute_input": "2025-07-25T13:35:20.991108Z",
     "iopub.status.busy": "2025-07-25T13:35:20.990533Z",
     "iopub.status.idle": "2025-07-25T13:35:20.994885Z",
     "shell.execute_reply": "2025-07-25T13:35:20.994370Z",
     "shell.execute_reply.started": "2025-07-25T13:35:20.991083Z"
    }
   },
   "outputs": [],
   "source": [
    "coord_transient = SkyCoord(\n",
    "    ra = 56.90063 * u.deg,\n",
    "    dec = -33.94851 * u.deg, \n",
    "    frame='icrs'\n",
    ")\n",
    "coord_transient_mag = 17.\n",
    "band = \"r\""
   ]
  },
  {
   "cell_type": "code",
   "execution_count": 4,
   "id": "c687a5ba-d1d5-4571-9659-0beb53540727",
   "metadata": {
    "execution": {
     "iopub.execute_input": "2025-07-25T13:35:21.089650Z",
     "iopub.status.busy": "2025-07-25T13:35:21.089212Z",
     "iopub.status.idle": "2025-07-25T13:35:21.093278Z",
     "shell.execute_reply": "2025-07-25T13:35:21.092688Z",
     "shell.execute_reply.started": "2025-07-25T13:35:21.089627Z"
    }
   },
   "outputs": [],
   "source": [
    "def detect(science, template, difference, config: DetectAndMeasureConfig | None = None):\n",
    "    if config is None:\n",
    "        config = DetectAndMeasureConfig()\n",
    "    anomalies = DetectAndMeasureTask(config=config).run(science, template, difference)\n",
    "    _df = anomalies.getDict()[\"diaSources\"].asAstropy().to_pandas()\n",
    "    # we don't need much else, so we cut out all other features\n",
    "    return pd.DataFrame({\n",
    "        \"coord_ra\": np.rad2deg(_df[\"coord_ra\"]),\n",
    "        \"coord_dec\": np.rad2deg(_df[\"coord_dec\"]),\n",
    "    })"
   ]
  },
  {
   "cell_type": "markdown",
   "id": "6c2f798c-6734-4031-bf78-8cc5273c8f5c",
   "metadata": {},
   "source": [
    "## 1. The `minPixel` parameter\n",
    "\n",
    "We investigate the impact of the configuration `minPixel` parameter on the detection pipeline. This parameter should remove anomalies with footprints smaller than its value and could be useful in filtering flukes over single pixels or very small footprints, especially at low threshold. We test over a number of calibrated exposures injected with sources of different magnitude, for different threshold levels. "
   ]
  },
  {
   "cell_type": "code",
   "execution_count": null,
   "id": "10da0bc7-f66f-4c71-ba1d-f11aa2a5f222",
   "metadata": {
    "scrolled": true
   },
   "outputs": [],
   "source": [
    "from functools import lru_cache\n",
    "\n",
    "from doppelganger.doppelganger.rubin.inject import fetch, inject, subtract\n",
    "\n",
    "\n",
    "def prep_config(threshold, min_pixels):\n",
    "    config = DetectAndMeasureConfig()\n",
    "    config.detection.thresholdValue = threshold\n",
    "    config.detection.minPixels = min_pixels\n",
    "    return config\n",
    "\n",
    "# to avoid spending extra time fetching the same image over and over, \n",
    "# or fetching possibly different (`fetch` is randomized) images\n",
    "calexp, template, sources = fetch(service, coord_transient.ra.deg, coord_transient.dec.deg, band)\n",
    "\n",
    "# we cache over magnitude so that an image get injected only once per magnitude level.\n",
    "# this optimization will make the simulation much faster \n",
    "@lru_cache(maxsize=1)\n",
    "def sfis_pipeline_cached(mag):\n",
    "    calexp_injected, calexp_catalog = inject(calexp, coord_transient.ra.deg, coord_transient.dec.deg, mag)\n",
    "    calexp_difference = subtract(calexp_injected, template, sources)\n",
    "    return {\n",
    "        \"science\": calexp_injected,\n",
    "        \"template\": template,\n",
    "        \"difference\": calexp_difference,\n",
    "    }\n",
    "\n",
    "# simulation imputs\n",
    "magnitudes = [17, 21, 23, 24, 24.7]\n",
    "thresholds = [3, 4, 5]\n",
    "min_pixelss = [1, 4, 16, 64, 128]\n",
    "params = [*product(magnitudes, thresholds, min_pixelss)]\n",
    "detections = {(m, t, mp): detect(**sfis_pipeline_cached(m), config=prep_config(t, mp)) for m, t, mp in params}"
   ]
  },
  {
   "cell_type": "markdown",
   "id": "91f9bf5d-a0c2-4e76-841c-1f86ca725b7e",
   "metadata": {},
   "source": [
    "We analyze the anomalies dataframes and summarize the results in a new table. "
   ]
  },
  {
   "cell_type": "code",
   "execution_count": 10,
   "id": "92891a17-a8ab-4b65-8459-5d3320e72abb",
   "metadata": {
    "execution": {
     "iopub.execute_input": "2025-07-25T13:52:12.284102Z",
     "iopub.status.busy": "2025-07-25T13:52:12.283708Z",
     "iopub.status.idle": "2025-07-25T13:52:13.211920Z",
     "shell.execute_reply": "2025-07-25T13:52:13.211263Z",
     "shell.execute_reply.started": "2025-07-25T13:52:12.284082Z"
    }
   },
   "outputs": [
    {
     "data": {
      "text/html": [
       "<div>\n",
       "<style scoped>\n",
       "    .dataframe tbody tr th:only-of-type {\n",
       "        vertical-align: middle;\n",
       "    }\n",
       "\n",
       "    .dataframe tbody tr th {\n",
       "        vertical-align: top;\n",
       "    }\n",
       "\n",
       "    .dataframe thead th {\n",
       "        text-align: right;\n",
       "    }\n",
       "</style>\n",
       "<table border=\"1\" class=\"dataframe\">\n",
       "  <thead>\n",
       "    <tr style=\"text-align: right;\">\n",
       "      <th></th>\n",
       "      <th>magnitude</th>\n",
       "      <th>threshold</th>\n",
       "      <th>min_pixels</th>\n",
       "      <th>ncandidates</th>\n",
       "      <th>found_true</th>\n",
       "    </tr>\n",
       "  </thead>\n",
       "  <tbody>\n",
       "    <tr>\n",
       "      <th>0</th>\n",
       "      <td>17.0</td>\n",
       "      <td>3</td>\n",
       "      <td>1</td>\n",
       "      <td>4842</td>\n",
       "      <td>True</td>\n",
       "    </tr>\n",
       "    <tr>\n",
       "      <th>1</th>\n",
       "      <td>17.0</td>\n",
       "      <td>3</td>\n",
       "      <td>4</td>\n",
       "      <td>3672</td>\n",
       "      <td>True</td>\n",
       "    </tr>\n",
       "    <tr>\n",
       "      <th>2</th>\n",
       "      <td>17.0</td>\n",
       "      <td>3</td>\n",
       "      <td>16</td>\n",
       "      <td>1087</td>\n",
       "      <td>True</td>\n",
       "    </tr>\n",
       "    <tr>\n",
       "      <th>3</th>\n",
       "      <td>17.0</td>\n",
       "      <td>3</td>\n",
       "      <td>64</td>\n",
       "      <td>45</td>\n",
       "      <td>True</td>\n",
       "    </tr>\n",
       "    <tr>\n",
       "      <th>4</th>\n",
       "      <td>17.0</td>\n",
       "      <td>3</td>\n",
       "      <td>128</td>\n",
       "      <td>26</td>\n",
       "      <td>True</td>\n",
       "    </tr>\n",
       "    <tr>\n",
       "      <th>...</th>\n",
       "      <td>...</td>\n",
       "      <td>...</td>\n",
       "      <td>...</td>\n",
       "      <td>...</td>\n",
       "      <td>...</td>\n",
       "    </tr>\n",
       "    <tr>\n",
       "      <th>70</th>\n",
       "      <td>24.7</td>\n",
       "      <td>5</td>\n",
       "      <td>1</td>\n",
       "      <td>52</td>\n",
       "      <td>False</td>\n",
       "    </tr>\n",
       "    <tr>\n",
       "      <th>71</th>\n",
       "      <td>24.7</td>\n",
       "      <td>5</td>\n",
       "      <td>4</td>\n",
       "      <td>45</td>\n",
       "      <td>False</td>\n",
       "    </tr>\n",
       "    <tr>\n",
       "      <th>72</th>\n",
       "      <td>24.7</td>\n",
       "      <td>5</td>\n",
       "      <td>16</td>\n",
       "      <td>29</td>\n",
       "      <td>False</td>\n",
       "    </tr>\n",
       "    <tr>\n",
       "      <th>73</th>\n",
       "      <td>24.7</td>\n",
       "      <td>5</td>\n",
       "      <td>64</td>\n",
       "      <td>12</td>\n",
       "      <td>False</td>\n",
       "    </tr>\n",
       "    <tr>\n",
       "      <th>74</th>\n",
       "      <td>24.7</td>\n",
       "      <td>5</td>\n",
       "      <td>128</td>\n",
       "      <td>8</td>\n",
       "      <td>False</td>\n",
       "    </tr>\n",
       "  </tbody>\n",
       "</table>\n",
       "<p>75 rows × 5 columns</p>\n",
       "</div>"
      ],
      "text/plain": [
       "    magnitude  threshold  min_pixels  ncandidates  found_true\n",
       "0        17.0          3           1         4842        True\n",
       "1        17.0          3           4         3672        True\n",
       "2        17.0          3          16         1087        True\n",
       "3        17.0          3          64           45        True\n",
       "4        17.0          3         128           26        True\n",
       "..        ...        ...         ...          ...         ...\n",
       "70       24.7          5           1           52       False\n",
       "71       24.7          5           4           45       False\n",
       "72       24.7          5          16           29       False\n",
       "73       24.7          5          64           12       False\n",
       "74       24.7          5         128            8       False\n",
       "\n",
       "[75 rows x 5 columns]"
      ]
     },
     "execution_count": 10,
     "metadata": {},
     "output_type": "execute_result"
    }
   ],
   "source": [
    "from astropy.coordinates import angular_separation \n",
    "\n",
    "def contains_true(anomalies_df):\n",
    "    return any(\n",
    "        angular_separation(\n",
    "            lon * u.deg, \n",
    "            lat * u.deg, \n",
    "            coord_transient.ra.deg * u.deg, \n",
    "            coord_transient.dec.deg * u.deg,\n",
    "        ) < 1 * u.arcsec\n",
    "        for i, (lon, lat) in anomalies_df[[\"coord_ra\", \"coord_dec\"]].iterrows()\n",
    "    )\n",
    "\n",
    "ms, ts, mps = zip(*detections.keys())\n",
    "summary = pd.DataFrame({\n",
    "    \"magnitude\": ms,\n",
    "    \"threshold\": ts, \n",
    "    \"min_pixels\": mps, \n",
    "    \"ncandidates\": [*map(len, detections.values())], \n",
    "    \"found_true\": [*map(contains_true, detections.values())], \n",
    "})\n",
    "summary"
   ]
  },
  {
   "cell_type": "markdown",
   "id": "a80c7812-b3df-442b-9253-82e00749d8bf",
   "metadata": {},
   "source": [
    "### Number of candidates vs `min_pixels`"
   ]
  },
  {
   "cell_type": "code",
   "execution_count": 11,
   "id": "89006a2a-e5e2-44ad-b9bd-8c6a9f669622",
   "metadata": {
    "execution": {
     "iopub.execute_input": "2025-07-25T13:52:15.031212Z",
     "iopub.status.busy": "2025-07-25T13:52:15.030657Z",
     "iopub.status.idle": "2025-07-25T13:52:15.810458Z",
     "shell.execute_reply": "2025-07-25T13:52:15.809955Z",
     "shell.execute_reply.started": "2025-07-25T13:52:15.031190Z"
    }
   },
   "outputs": [
    {
     "data": {
      "image/png": "[encoded data removed]",
      "text/plain": [
       "<Figure size 640x480 with 1 Axes>"
      ]
     },
     "metadata": {},
     "output_type": "display_data"
    }
   ],
   "source": [
    "sns.lineplot(summary, x=\"min_pixels\", y=\"ncandidates\", hue=\"threshold\", marker='o', estimator=\"mean\")\n",
    "plt.loglog()\n",
    "plt.title(\"Averaged over different magnitudes\")\n",
    "plt.show()"
   ]
  },
  {
   "cell_type": "markdown",
   "id": "2a078fc1-50ff-4296-ac05-f3d05440d30d",
   "metadata": {},
   "source": [
    "### Largest `min_pixels` with detection"
   ]
  },
  {
   "cell_type": "code",
   "execution_count": 12,
   "id": "b499f114-65b3-403c-9d99-20ea75a645ae",
   "metadata": {
    "execution": {
     "iopub.execute_input": "2025-07-25T13:52:17.285997Z",
     "iopub.status.busy": "2025-07-25T13:52:17.285731Z",
     "iopub.status.idle": "2025-07-25T13:52:17.307778Z",
     "shell.execute_reply": "2025-07-25T13:52:17.307036Z",
     "shell.execute_reply.started": "2025-07-25T13:52:17.285980Z"
    }
   },
   "outputs": [],
   "source": [
    "max_min_pixels = {}\n",
    "for i, row in summary.iterrows():\n",
    "    m, t, mp, ft = row[[\"magnitude\", \"threshold\", \"min_pixels\", \"found_true\"]]\n",
    "    if ft and ((m, t) not in max_min_pixels or max_min_pixels[(m, t)] < mp):\n",
    "        max_min_pixels[(m, t)] = mp"
   ]
  },
  {
   "cell_type": "code",
   "execution_count": 16,
   "id": "e4715c94-7c24-48d7-9b75-5ce78182d67f",
   "metadata": {
    "execution": {
     "iopub.execute_input": "2025-07-25T13:54:40.066521Z",
     "iopub.status.busy": "2025-07-25T13:54:40.066224Z",
     "iopub.status.idle": "2025-07-25T13:54:40.070041Z",
     "shell.execute_reply": "2025-07-25T13:54:40.069547Z",
     "shell.execute_reply.started": "2025-07-25T13:54:40.066496Z"
    }
   },
   "outputs": [
    {
     "name": "stdout",
     "output_type": "stream",
     "text": [
      "Largest minPixels configuration value with transient detection, as function of simulation parameters:\n",
      "magnitude=17.0, threshold=3: 128\n",
      "magnitude=17.0, threshold=4: 128\n",
      "magnitude=17.0, threshold=5: 128\n",
      "magnitude=21.0, threshold=3: 128\n",
      "magnitude=21.0, threshold=4: 128\n",
      "magnitude=21.0, threshold=5: 128\n",
      "magnitude=23.0, threshold=3: 128\n",
      "magnitude=23.0, threshold=4: 128\n",
      "magnitude=23.0, threshold=5: 64\n",
      "magnitude=24.0, threshold=3: 64\n",
      "magnitude=24.0, threshold=4: 16\n",
      "magnitude=24.0, threshold=5: 16\n",
      "magnitude=24.7, threshold=3: 16\n"
     ]
    }
   ],
   "source": [
    "print(\"Largest minPixels configuration value with transient detection, as function of simulation parameters:\")\n",
    "for (m, t), Mmp in max_min_pixels.items():\n",
    "    print(f\"magnitude={m}, threshold={t}: {Mmp}\")"
   ]
  },
  {
   "cell_type": "code",
   "execution_count": null,
   "id": "e2ec9bb8-9307-44a2-9866-81af6742a355",
   "metadata": {},
   "outputs": [],
   "source": []
  }
 ],
 "metadata": {
  "kernelspec": {
   "display_name": "LSST",
   "language": "python",
   "name": "lsst"
  },
  "language_info": {
   "codemirror_mode": {
    "name": "ipython",
    "version": 3
   },
   "file_extension": ".py",
   "mimetype": "text/x-python",
   "name": "python",
   "nbconvert_exporter": "python",
   "pygments_lexer": "ipython3",
   "version": "3.12.11"
  }
 },
 "nbformat": 4,
 "nbformat_minor": 5
}
