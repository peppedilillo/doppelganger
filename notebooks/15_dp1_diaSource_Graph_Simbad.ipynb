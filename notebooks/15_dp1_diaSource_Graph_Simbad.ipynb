{
 "cells": [
  {
   "cell_type": "code",
   "execution_count": 1,
   "id": "973d9173-5524-4453-b265-75f5a3731bb0",
   "metadata": {
    "execution": {
     "iopub.execute_input": "2025-10-31T13:23:44.008112Z",
     "iopub.status.busy": "2025-10-31T13:23:44.007921Z",
     "iopub.status.idle": "2025-10-31T13:23:45.777706Z",
     "shell.execute_reply": "2025-10-31T13:23:45.777074Z",
     "shell.execute_reply.started": "2025-10-31T13:23:44.008092Z"
    }
   },
   "outputs": [],
   "source": [
    "from typing import Callable, Literal, Sequence, NamedTuple\n",
    "\n",
    "from functools import reduce\n",
    "from scipy.spatial import KDTree\n",
    "import numpy as np\n",
    "import matplotlib.pyplot as plt\n",
    "import pandas as pd\n",
    "import networkx as nx\n",
    "from astropy.time import Time\n",
    "\n",
    "from lsst.rsp import get_tap_service\n",
    "import lsst.sphgeom as sph\n",
    "from lsst.utils.plotting import get_multiband_plot_colors, get_multiband_plot_symbols\n",
    "\n",
    "\n",
    "filter_names = ['u', 'g', 'r', 'i', 'z', 'y']\n",
    "filter_colors = get_multiband_plot_colors()\n",
    "filter_symbols = get_multiband_plot_symbols()\n",
    "\n",
    "service = get_tap_service(\"tap\")"
   ]
  },
  {
   "cell_type": "markdown",
   "id": "68742271-5c53-4598-b696-0008a21d4601",
   "metadata": {
    "execution": {
     "iopub.execute_input": "2025-10-28T13:36:33.782874Z",
     "iopub.status.busy": "2025-10-28T13:36:33.782557Z",
     "iopub.status.idle": "2025-10-28T13:36:33.787318Z",
     "shell.execute_reply": "2025-10-28T13:36:33.786677Z",
     "shell.execute_reply.started": "2025-10-28T13:36:33.782849Z"
    }
   },
   "source": [
    "# Transients graph\n",
    "\n",
    "With this notebook we take a slight deviation from what we have been worked on so far. \n",
    "\n",
    "We try to build a graph for a subset of the sources in the DP1, in which connected subgraphs represent anomalies from objects at compatible positions."
   ]
  },
  {
   "cell_type": "markdown",
   "id": "6feaae11-5b4f-4131-97c4-0be1ffcbdead",
   "metadata": {
    "execution": {
     "iopub.execute_input": "2025-10-29T10:23:17.903976Z",
     "iopub.status.busy": "2025-10-29T10:23:17.903668Z",
     "iopub.status.idle": "2025-10-29T10:23:17.906771Z",
     "shell.execute_reply": "2025-10-29T10:23:17.906185Z",
     "shell.execute_reply.started": "2025-10-29T10:23:17.903954Z"
    }
   },
   "source": [
    "## Data processing"
   ]
  },
  {
   "cell_type": "markdown",
   "id": "02eb92f9-06ee-444b-9bad-12db1d561db1",
   "metadata": {
    "execution": {
     "iopub.execute_input": "2025-10-29T10:23:27.579166Z",
     "iopub.status.busy": "2025-10-29T10:23:27.578906Z",
     "iopub.status.idle": "2025-10-29T10:23:27.581981Z",
     "shell.execute_reply": "2025-10-29T10:23:27.581340Z",
     "shell.execute_reply.started": "2025-10-29T10:23:27.579148Z"
    }
   },
   "source": [
    "### Querying visits"
   ]
  },
  {
   "cell_type": "code",
   "execution_count": 2,
   "id": "63d9aada-c8ce-479b-b746-0b50d6481c0d",
   "metadata": {
    "execution": {
     "iopub.execute_input": "2025-10-31T13:23:51.689013Z",
     "iopub.status.busy": "2025-10-31T13:23:51.688715Z",
     "iopub.status.idle": "2025-10-31T13:23:51.693166Z",
     "shell.execute_reply": "2025-10-31T13:23:51.692598Z",
     "shell.execute_reply.started": "2025-10-31T13:23:51.688988Z"
    }
   },
   "outputs": [],
   "source": [
    "target_ra, target_dec, target_radius = 53.160, -28.100, 1.000\n",
    "target_bands = (\"g\", \"r\", \"i\")\n",
    "t1 = Time(\"2024-11-09T06:00:00.0\", format=\"isot\", scale=\"tai\")\n",
    "t2 = Time(\"2024-12-11T05:59:43.0\", format=\"isot\", scale=\"tai\")"
   ]
  },
  {
   "cell_type": "code",
   "execution_count": 3,
   "id": "22450867-d724-462c-b3a9-84bb4ed9bbfb",
   "metadata": {
    "execution": {
     "iopub.execute_input": "2025-10-31T13:23:52.106252Z",
     "iopub.status.busy": "2025-10-31T13:23:52.105925Z",
     "iopub.status.idle": "2025-10-31T13:23:59.810085Z",
     "shell.execute_reply": "2025-10-31T13:23:59.809385Z",
     "shell.execute_reply.started": "2025-10-31T13:23:52.106225Z"
    }
   },
   "outputs": [
    {
     "data": {
      "text/html": [
       "<div>\n",
       "<style scoped>\n",
       "    .dataframe tbody tr th:only-of-type {\n",
       "        vertical-align: middle;\n",
       "    }\n",
       "\n",
       "    .dataframe tbody tr th {\n",
       "        vertical-align: top;\n",
       "    }\n",
       "\n",
       "    .dataframe thead th {\n",
       "        text-align: right;\n",
       "    }\n",
       "</style>\n",
       "<table border=\"1\" class=\"dataframe\">\n",
       "  <thead>\n",
       "    <tr style=\"text-align: right;\">\n",
       "      <th></th>\n",
       "      <th>astromOffsetMean</th>\n",
       "      <th>astromOffsetStd</th>\n",
       "      <th>band</th>\n",
       "      <th>darkTime</th>\n",
       "      <th>dec</th>\n",
       "      <th>detector</th>\n",
       "      <th>effTime</th>\n",
       "      <th>effTimePsfSigmaScale</th>\n",
       "      <th>effTimeSkyBgScale</th>\n",
       "      <th>effTimeZeroPointScale</th>\n",
       "      <th>...</th>\n",
       "      <th>urcdec</th>\n",
       "      <th>urcra</th>\n",
       "      <th>xSize</th>\n",
       "      <th>ySize</th>\n",
       "      <th>zenithDistance</th>\n",
       "      <th>zeroPoint</th>\n",
       "      <th>visitId</th>\n",
       "      <th>expMidptMJD</th>\n",
       "      <th>expMidpt</th>\n",
       "      <th>obsStartMJD</th>\n",
       "    </tr>\n",
       "    <tr>\n",
       "      <th>ccdVisitId</th>\n",
       "      <th></th>\n",
       "      <th></th>\n",
       "      <th></th>\n",
       "      <th></th>\n",
       "      <th></th>\n",
       "      <th></th>\n",
       "      <th></th>\n",
       "      <th></th>\n",
       "      <th></th>\n",
       "      <th></th>\n",
       "      <th></th>\n",
       "      <th></th>\n",
       "      <th></th>\n",
       "      <th></th>\n",
       "      <th></th>\n",
       "      <th></th>\n",
       "      <th></th>\n",
       "      <th></th>\n",
       "      <th></th>\n",
       "      <th></th>\n",
       "      <th></th>\n",
       "    </tr>\n",
       "  </thead>\n",
       "  <tbody>\n",
       "    <tr>\n",
       "      <th>1145019888896</th>\n",
       "      <td>0.013189</td>\n",
       "      <td>0.007590</td>\n",
       "      <td>i</td>\n",
       "      <td>30.4550</td>\n",
       "      <td>-28.190331</td>\n",
       "      <td>0</td>\n",
       "      <td>21.713400</td>\n",
       "      <td>0.678940</td>\n",
       "      <td>1.113840</td>\n",
       "      <td>0.957091</td>\n",
       "      <td>...</td>\n",
       "      <td>-28.104861</td>\n",
       "      <td>53.156342</td>\n",
       "      <td>4071</td>\n",
       "      <td>3999</td>\n",
       "      <td>15.812000</td>\n",
       "      <td>31.839001</td>\n",
       "      <td>2024110800245</td>\n",
       "      <td>60623.258521</td>\n",
       "      <td>2024-11-09T06:12:16.184</td>\n",
       "      <td>60623.258347</td>\n",
       "    </tr>\n",
       "    <tr>\n",
       "      <th>1145019888897</th>\n",
       "      <td>0.008955</td>\n",
       "      <td>0.004623</td>\n",
       "      <td>i</td>\n",
       "      <td>30.4550</td>\n",
       "      <td>-27.961231</td>\n",
       "      <td>1</td>\n",
       "      <td>23.941300</td>\n",
       "      <td>0.747191</td>\n",
       "      <td>1.116480</td>\n",
       "      <td>0.956626</td>\n",
       "      <td>...</td>\n",
       "      <td>-27.875887</td>\n",
       "      <td>53.215842</td>\n",
       "      <td>4071</td>\n",
       "      <td>3999</td>\n",
       "      <td>15.809600</td>\n",
       "      <td>31.838699</td>\n",
       "      <td>2024110800245</td>\n",
       "      <td>60623.258521</td>\n",
       "      <td>2024-11-09T06:12:16.184</td>\n",
       "      <td>60623.258347</td>\n",
       "    </tr>\n",
       "    <tr>\n",
       "      <th>1145019888898</th>\n",
       "      <td>0.008094</td>\n",
       "      <td>0.003990</td>\n",
       "      <td>i</td>\n",
       "      <td>30.4550</td>\n",
       "      <td>-27.731684</td>\n",
       "      <td>2</td>\n",
       "      <td>22.804500</td>\n",
       "      <td>0.712375</td>\n",
       "      <td>1.119730</td>\n",
       "      <td>0.952960</td>\n",
       "      <td>...</td>\n",
       "      <td>-27.646045</td>\n",
       "      <td>53.274910</td>\n",
       "      <td>4071</td>\n",
       "      <td>3999</td>\n",
       "      <td>15.810800</td>\n",
       "      <td>31.836599</td>\n",
       "      <td>2024110800245</td>\n",
       "      <td>60623.258521</td>\n",
       "      <td>2024-11-09T06:12:16.184</td>\n",
       "      <td>60623.258347</td>\n",
       "    </tr>\n",
       "    <tr>\n",
       "      <th>1145019888899</th>\n",
       "      <td>0.008272</td>\n",
       "      <td>0.004680</td>\n",
       "      <td>i</td>\n",
       "      <td>30.4550</td>\n",
       "      <td>-28.242508</td>\n",
       "      <td>3</td>\n",
       "      <td>21.904600</td>\n",
       "      <td>0.686210</td>\n",
       "      <td>1.113860</td>\n",
       "      <td>0.955270</td>\n",
       "      <td>...</td>\n",
       "      <td>-28.156717</td>\n",
       "      <td>53.416250</td>\n",
       "      <td>4071</td>\n",
       "      <td>3999</td>\n",
       "      <td>15.576900</td>\n",
       "      <td>31.837999</td>\n",
       "      <td>2024110800245</td>\n",
       "      <td>60623.258521</td>\n",
       "      <td>2024-11-09T06:12:16.184</td>\n",
       "      <td>60623.258347</td>\n",
       "    </tr>\n",
       "    <tr>\n",
       "      <th>1145019888900</th>\n",
       "      <td>0.007791</td>\n",
       "      <td>0.004566</td>\n",
       "      <td>i</td>\n",
       "      <td>30.4550</td>\n",
       "      <td>-28.013505</td>\n",
       "      <td>4</td>\n",
       "      <td>24.859600</td>\n",
       "      <td>0.776246</td>\n",
       "      <td>1.115060</td>\n",
       "      <td>0.957363</td>\n",
       "      <td>...</td>\n",
       "      <td>-27.927729</td>\n",
       "      <td>53.474983</td>\n",
       "      <td>4071</td>\n",
       "      <td>3999</td>\n",
       "      <td>15.574700</td>\n",
       "      <td>31.839100</td>\n",
       "      <td>2024110800245</td>\n",
       "      <td>60623.258521</td>\n",
       "      <td>2024-11-09T06:12:16.184</td>\n",
       "      <td>60623.258347</td>\n",
       "    </tr>\n",
       "    <tr>\n",
       "      <th>...</th>\n",
       "      <td>...</td>\n",
       "      <td>...</td>\n",
       "      <td>...</td>\n",
       "      <td>...</td>\n",
       "      <td>...</td>\n",
       "      <td>...</td>\n",
       "      <td>...</td>\n",
       "      <td>...</td>\n",
       "      <td>...</td>\n",
       "      <td>...</td>\n",
       "      <td>...</td>\n",
       "      <td>...</td>\n",
       "      <td>...</td>\n",
       "      <td>...</td>\n",
       "      <td>...</td>\n",
       "      <td>...</td>\n",
       "      <td>...</td>\n",
       "      <td>...</td>\n",
       "      <td>...</td>\n",
       "      <td>...</td>\n",
       "      <td>...</td>\n",
       "    </tr>\n",
       "    <tr>\n",
       "      <th>1145288372740</th>\n",
       "      <td>0.022415</td>\n",
       "      <td>0.013270</td>\n",
       "      <td>g</td>\n",
       "      <td>30.4376</td>\n",
       "      <td>-28.087315</td>\n",
       "      <td>4</td>\n",
       "      <td>0.339537</td>\n",
       "      <td>0.204529</td>\n",
       "      <td>0.201259</td>\n",
       "      <td>0.274952</td>\n",
       "      <td>...</td>\n",
       "      <td>-28.036404</td>\n",
       "      <td>53.434395</td>\n",
       "      <td>4071</td>\n",
       "      <td>3999</td>\n",
       "      <td>40.109200</td>\n",
       "      <td>31.501900</td>\n",
       "      <td>2024121000434</td>\n",
       "      <td>60655.249976</td>\n",
       "      <td>2024-12-11T05:59:57.942</td>\n",
       "      <td>60655.249803</td>\n",
       "    </tr>\n",
       "    <tr>\n",
       "      <th>1145288372741</th>\n",
       "      <td>0.027347</td>\n",
       "      <td>0.017038</td>\n",
       "      <td>g</td>\n",
       "      <td>30.4376</td>\n",
       "      <td>-27.877433</td>\n",
       "      <td>5</td>\n",
       "      <td>0.309740</td>\n",
       "      <td>0.206433</td>\n",
       "      <td>0.200344</td>\n",
       "      <td>0.249643</td>\n",
       "      <td>...</td>\n",
       "      <td>-27.826325</td>\n",
       "      <td>53.554171</td>\n",
       "      <td>4071</td>\n",
       "      <td>3999</td>\n",
       "      <td>40.060001</td>\n",
       "      <td>31.449499</td>\n",
       "      <td>2024121000434</td>\n",
       "      <td>60655.249976</td>\n",
       "      <td>2024-12-11T05:59:57.942</td>\n",
       "      <td>60655.249803</td>\n",
       "    </tr>\n",
       "    <tr>\n",
       "      <th>1145288372742</th>\n",
       "      <td>0.020092</td>\n",
       "      <td>0.011220</td>\n",
       "      <td>g</td>\n",
       "      <td>30.4376</td>\n",
       "      <td>-28.403172</td>\n",
       "      <td>6</td>\n",
       "      <td>0.250884</td>\n",
       "      <td>0.190129</td>\n",
       "      <td>0.192209</td>\n",
       "      <td>0.228838</td>\n",
       "      <td>...</td>\n",
       "      <td>-28.352215</td>\n",
       "      <td>53.552697</td>\n",
       "      <td>4071</td>\n",
       "      <td>3999</td>\n",
       "      <td>39.930099</td>\n",
       "      <td>31.402201</td>\n",
       "      <td>2024121000434</td>\n",
       "      <td>60655.249976</td>\n",
       "      <td>2024-12-11T05:59:57.942</td>\n",
       "      <td>60655.249803</td>\n",
       "    </tr>\n",
       "    <tr>\n",
       "      <th>1145288372743</th>\n",
       "      <td>0.015467</td>\n",
       "      <td>0.007844</td>\n",
       "      <td>g</td>\n",
       "      <td>30.4376</td>\n",
       "      <td>-28.193170</td>\n",
       "      <td>7</td>\n",
       "      <td>0.324754</td>\n",
       "      <td>0.214550</td>\n",
       "      <td>0.196954</td>\n",
       "      <td>0.256177</td>\n",
       "      <td>...</td>\n",
       "      <td>-28.142007</td>\n",
       "      <td>53.672741</td>\n",
       "      <td>4071</td>\n",
       "      <td>3999</td>\n",
       "      <td>39.879299</td>\n",
       "      <td>31.463499</td>\n",
       "      <td>2024121000434</td>\n",
       "      <td>60655.249976</td>\n",
       "      <td>2024-12-11T05:59:57.942</td>\n",
       "      <td>60655.249803</td>\n",
       "    </tr>\n",
       "    <tr>\n",
       "      <th>1145288372744</th>\n",
       "      <td>0.018715</td>\n",
       "      <td>0.009958</td>\n",
       "      <td>g</td>\n",
       "      <td>30.4376</td>\n",
       "      <td>-27.983172</td>\n",
       "      <td>8</td>\n",
       "      <td>0.286921</td>\n",
       "      <td>0.215909</td>\n",
       "      <td>0.196707</td>\n",
       "      <td>0.225191</td>\n",
       "      <td>...</td>\n",
       "      <td>-27.931649</td>\n",
       "      <td>53.792168</td>\n",
       "      <td>4071</td>\n",
       "      <td>3999</td>\n",
       "      <td>39.829800</td>\n",
       "      <td>31.393499</td>\n",
       "      <td>2024121000434</td>\n",
       "      <td>60655.249976</td>\n",
       "      <td>2024-12-11T05:59:57.942</td>\n",
       "      <td>60655.249803</td>\n",
       "    </tr>\n",
       "  </tbody>\n",
       "</table>\n",
       "<p>5658 rows × 49 columns</p>\n",
       "</div>"
      ],
      "text/plain": [
       "               astromOffsetMean  astromOffsetStd band  darkTime        dec  \\\n",
       "ccdVisitId                                                                   \n",
       "1145019888896          0.013189         0.007590    i   30.4550 -28.190331   \n",
       "1145019888897          0.008955         0.004623    i   30.4550 -27.961231   \n",
       "1145019888898          0.008094         0.003990    i   30.4550 -27.731684   \n",
       "1145019888899          0.008272         0.004680    i   30.4550 -28.242508   \n",
       "1145019888900          0.007791         0.004566    i   30.4550 -28.013505   \n",
       "...                         ...              ...  ...       ...        ...   \n",
       "1145288372740          0.022415         0.013270    g   30.4376 -28.087315   \n",
       "1145288372741          0.027347         0.017038    g   30.4376 -27.877433   \n",
       "1145288372742          0.020092         0.011220    g   30.4376 -28.403172   \n",
       "1145288372743          0.015467         0.007844    g   30.4376 -28.193170   \n",
       "1145288372744          0.018715         0.009958    g   30.4376 -27.983172   \n",
       "\n",
       "               detector    effTime  effTimePsfSigmaScale  effTimeSkyBgScale  \\\n",
       "ccdVisitId                                                                    \n",
       "1145019888896         0  21.713400              0.678940           1.113840   \n",
       "1145019888897         1  23.941300              0.747191           1.116480   \n",
       "1145019888898         2  22.804500              0.712375           1.119730   \n",
       "1145019888899         3  21.904600              0.686210           1.113860   \n",
       "1145019888900         4  24.859600              0.776246           1.115060   \n",
       "...                 ...        ...                   ...                ...   \n",
       "1145288372740         4   0.339537              0.204529           0.201259   \n",
       "1145288372741         5   0.309740              0.206433           0.200344   \n",
       "1145288372742         6   0.250884              0.190129           0.192209   \n",
       "1145288372743         7   0.324754              0.214550           0.196954   \n",
       "1145288372744         8   0.286921              0.215909           0.196707   \n",
       "\n",
       "               effTimeZeroPointScale  ...     urcdec      urcra  xSize  ySize  \\\n",
       "ccdVisitId                            ...                                       \n",
       "1145019888896               0.957091  ... -28.104861  53.156342   4071   3999   \n",
       "1145019888897               0.956626  ... -27.875887  53.215842   4071   3999   \n",
       "1145019888898               0.952960  ... -27.646045  53.274910   4071   3999   \n",
       "1145019888899               0.955270  ... -28.156717  53.416250   4071   3999   \n",
       "1145019888900               0.957363  ... -27.927729  53.474983   4071   3999   \n",
       "...                              ...  ...        ...        ...    ...    ...   \n",
       "1145288372740               0.274952  ... -28.036404  53.434395   4071   3999   \n",
       "1145288372741               0.249643  ... -27.826325  53.554171   4071   3999   \n",
       "1145288372742               0.228838  ... -28.352215  53.552697   4071   3999   \n",
       "1145288372743               0.256177  ... -28.142007  53.672741   4071   3999   \n",
       "1145288372744               0.225191  ... -27.931649  53.792168   4071   3999   \n",
       "\n",
       "               zenithDistance  zeroPoint        visitId   expMidptMJD  \\\n",
       "ccdVisitId                                                              \n",
       "1145019888896       15.812000  31.839001  2024110800245  60623.258521   \n",
       "1145019888897       15.809600  31.838699  2024110800245  60623.258521   \n",
       "1145019888898       15.810800  31.836599  2024110800245  60623.258521   \n",
       "1145019888899       15.576900  31.837999  2024110800245  60623.258521   \n",
       "1145019888900       15.574700  31.839100  2024110800245  60623.258521   \n",
       "...                       ...        ...            ...           ...   \n",
       "1145288372740       40.109200  31.501900  2024121000434  60655.249976   \n",
       "1145288372741       40.060001  31.449499  2024121000434  60655.249976   \n",
       "1145288372742       39.930099  31.402201  2024121000434  60655.249976   \n",
       "1145288372743       39.879299  31.463499  2024121000434  60655.249976   \n",
       "1145288372744       39.829800  31.393499  2024121000434  60655.249976   \n",
       "\n",
       "                              expMidpt   obsStartMJD  \n",
       "ccdVisitId                                            \n",
       "1145019888896  2024-11-09T06:12:16.184  60623.258347  \n",
       "1145019888897  2024-11-09T06:12:16.184  60623.258347  \n",
       "1145019888898  2024-11-09T06:12:16.184  60623.258347  \n",
       "1145019888899  2024-11-09T06:12:16.184  60623.258347  \n",
       "1145019888900  2024-11-09T06:12:16.184  60623.258347  \n",
       "...                                ...           ...  \n",
       "1145288372740  2024-12-11T05:59:57.942  60655.249803  \n",
       "1145288372741  2024-12-11T05:59:57.942  60655.249803  \n",
       "1145288372742  2024-12-11T05:59:57.942  60655.249803  \n",
       "1145288372743  2024-12-11T05:59:57.942  60655.249803  \n",
       "1145288372744  2024-12-11T05:59:57.942  60655.249803  \n",
       "\n",
       "[5658 rows x 49 columns]"
      ]
     },
     "execution_count": 3,
     "metadata": {},
     "output_type": "execute_result"
    }
   ],
   "source": [
    "bands_str = \"(\" + \", \".join(f\"'{b}'\" for b in target_bands) + \")\"\n",
    "ccdVisit_astropy = service.search(\n",
    "    f\"SELECT * \"\n",
    "    f\"FROM dp1.CcdVisit \"\n",
    "    # visit axis lies in target area\n",
    "    f\"WHERE CONTAINS(POINT('ICRS', ra, dec), CIRCLE('ICRS', {target_ra}, {target_dec}, {target_radius}))=1 \"\n",
    "    # filters bands outside selection\n",
    "    f\"AND band IN {bands_str} \"\n",
    "    # sorted by time\n",
    "    f\"ORDER BY obsStartMJD\"\n",
    ").to_table()\n",
    "ccdVisit_df = ccdVisit_astropy.to_pandas()\n",
    "ccdVisit_df = ccdVisit_df[(ccdVisit_df[\"obsStartMJD\"] > t1.mjd) & (ccdVisit_df[\"obsStartMJD\"] <= t2.mjd)]\n",
    "ccdVisit_df = ccdVisit_df.set_index(\"ccdVisitId\")\n",
    "ccdVisit_df"
   ]
  },
  {
   "cell_type": "markdown",
   "id": "7220c8ca-949c-4d3d-9a9c-ea19f51e9d5b",
   "metadata": {},
   "source": [
    "### Querying sources"
   ]
  },
  {
   "cell_type": "code",
   "execution_count": 4,
   "id": "f9850870-9992-4816-8d12-195ec4b4aa6f",
   "metadata": {
    "execution": {
     "iopub.execute_input": "2025-10-31T13:23:59.811344Z",
     "iopub.status.busy": "2025-10-31T13:23:59.811090Z",
     "iopub.status.idle": "2025-10-31T13:26:44.682126Z",
     "shell.execute_reply": "2025-10-31T13:26:44.681418Z",
     "shell.execute_reply.started": "2025-10-31T13:23:59.811324Z"
    },
    "scrolled": true
   },
   "outputs": [
    {
     "name": "stdout",
     "output_type": "stream",
     "text": [
      "Job phase is COMPLETED\n"
     ]
    }
   ],
   "source": [
    "ccdVisit_ids = ccdVisit_df[\"visitId\"].unique()\n",
    "ccdVisit_ids_str = \"(\" + \", \".join(map(str, ccdVisit_ids)) + \")\"\n",
    "job = service.submit_job(\n",
    "    f\"SELECT * \"\n",
    "    f\"FROM dp1.DiaSource \"\n",
    "    f\"WHERE visit IN {ccdVisit_ids_str}\"\n",
    ")\n",
    "# query is larg-ish, so we launch the job as async\n",
    "job.run()\n",
    "job.wait(phases=['COMPLETED', 'ERROR'])\n",
    "print('Job phase is', job.phase)\n",
    "diaSource_df = job.fetch_result().to_table().to_pandas()"
   ]
  },
  {
   "cell_type": "code",
   "execution_count": 5,
   "id": "132b7173-6c36-411d-8964-557e3032cb24",
   "metadata": {
    "execution": {
     "iopub.execute_input": "2025-10-31T13:26:44.683157Z",
     "iopub.status.busy": "2025-10-31T13:26:44.682915Z",
     "iopub.status.idle": "2025-10-31T13:26:44.722111Z",
     "shell.execute_reply": "2025-10-31T13:26:44.721496Z",
     "shell.execute_reply.started": "2025-10-31T13:26:44.683137Z"
    }
   },
   "outputs": [],
   "source": [
    "diaSource_df = diaSource_df.set_index(\"diaSourceId\")\n",
    "# since these are likely statistical error we may multiply them by a number of standard deviations\n",
    "# we still _not_ sure on how these errors are defined and we should ask on them to be sure that \n",
    "# we are not working with excessively large error boxes.\n",
    "# for the moment i comment this\n",
    "# NSTD = 3\n",
    "# diaSource_df[[\"raErr\", \"decErr\"]] *= NSTD"
   ]
  },
  {
   "cell_type": "markdown",
   "id": "c15d6fda-40da-4fb6-a136-6f41f06d8832",
   "metadata": {},
   "source": [
    "### Filtering sources"
   ]
  },
  {
   "cell_type": "code",
   "execution_count": 6,
   "id": "160d03f5-1d9e-4007-bc35-d506b865461b",
   "metadata": {
    "execution": {
     "iopub.execute_input": "2025-10-31T13:26:46.977707Z",
     "iopub.status.busy": "2025-10-31T13:26:46.977397Z",
     "iopub.status.idle": "2025-10-31T13:26:47.500620Z",
     "shell.execute_reply": "2025-10-31T13:26:47.499968Z",
     "shell.execute_reply.started": "2025-10-31T13:26:46.977683Z"
    }
   },
   "outputs": [
    {
     "name": "stdout",
     "output_type": "stream",
     "text": [
      "filter_pixelFlags_cr cut 2586 rows (0.69 %, originally: 374712)\n",
      "filter_centroid_flag cut 68957 rows (18.53 %, originally: 372126)\n",
      "filter_apFlux_flag cut 114 rows (0.04 %, originally: 303169)\n",
      "filter_isDipole cut 142197 rows (46.92 %, originally: 303055)\n",
      "filter_pixelFlags_saturated cut 4253 rows (2.64 %, originally: 160858)\n",
      "filter_pixelFlags_suspect cut 398 rows (0.25 %, originally: 156605)\n",
      "filter_pixelFlags_streak cut 1893 rows (1.21 %, originally: 156207)\n",
      "filter_shape_flag cut 48611 rows (31.50 %, originally: 154314)\n",
      "filter_nans cut 55 rows (0.05 %, originally: 105703)\n"
     ]
    }
   ],
   "source": [
    "def verbose(func):\n",
    "    def msg_wrapper(df: pd.DataFrame, *args, **kwargs):\n",
    "        len_before, len_before_cols = len(df), len(df.columns)\n",
    "\n",
    "        df = func(df, *args, *kwargs)\n",
    "        if (diff := len_before - len(df)):\n",
    "            print(f\"{func.__name__} {'cut' if diff > 0 else 'added'} {abs(diff)} rows ({100 * float(abs(diff / len_before)):.2f} %, originally: {len_before})\")\n",
    "        if (diff := len_before_cols - len(df.columns)):\n",
    "            print(f\"{func.__name__} {'cut' if diff > 0 else 'added'} {abs(diff)} columns (originally: {len_before_cols})\")\n",
    "        return df\n",
    "    return msg_wrapper\n",
    "\n",
    "\n",
    "flag_columns = [\n",
    "    \"pixelFlags_cr\",\n",
    "    \"pixelFlags_crCenter\",\n",
    "    \"centroid_flag\",\n",
    "    \"apFlux_flag\",\n",
    "    \"isDipole\",\n",
    "    # next flags are from Liu 2024\n",
    "    \"pixelFlags_saturated\",\n",
    "    \"pixelFlags_saturatedCenter\",\n",
    "    \"pixelFlags_suspect\",\n",
    "    \"pixelFlags_suspectCenter\",\n",
    "    \"pixelFlags_streak\",\n",
    "    \"pixelFlags_streakCenter\",\n",
    "    \"pixelFlags_offimage\",\n",
    "    \"pixelFlags_bad\",\n",
    "    \"psfFlux_flag\",\n",
    "    \"shape_flag\",\n",
    "]\n",
    "\n",
    "def filter_flags(df: pd.DataFrame, flag_columns: list[str]) -> pd.DataFrame:\n",
    "    for flag in flag_columns:\n",
    "        def filter_func(df: pd.DataFrame, flag_name: str = flag) -> pd.DataFrame:\n",
    "            return df[~df[flag_name]]\n",
    "        \n",
    "        filter_func.__name__ = f\"filter_{flag}\"\n",
    "        df = verbose(filter_func)(df)\n",
    "    return df\n",
    "    \n",
    "\n",
    "@verbose\n",
    "def filter_nans(df: pd.DataFrame) -> pd.DataFrame:\n",
    "    return df.dropna(subset=[\"ra\", \"dec\", \"raErr\", \"decErr\"])\n",
    "\n",
    "\n",
    "# diaSource_df = filter_nans(filter_flags(diaSource_df))\n",
    "diaSource_df = filter_nans(filter_flags(diaSource_df, flag_columns))"
   ]
  },
  {
   "cell_type": "code",
   "execution_count": 7,
   "id": "58f46612-d2d8-46f2-aa11-2f81e69bc6a2",
   "metadata": {
    "execution": {
     "iopub.execute_input": "2025-10-31T13:26:48.600546Z",
     "iopub.status.busy": "2025-10-31T13:26:48.600242Z",
     "iopub.status.idle": "2025-10-31T13:26:48.904918Z",
     "shell.execute_reply": "2025-10-31T13:26:48.904331Z",
     "shell.execute_reply.started": "2025-10-31T13:26:48.600524Z"
    }
   },
   "outputs": [
    {
     "data": {
      "image/png": "[encoded data removed]",
      "text/plain": [
       "<Figure size 1000x200 with 2 Axes>"
      ]
     },
     "metadata": {},
     "output_type": "display_data"
    },
    {
     "name": "stdout",
     "output_type": "stream",
     "text": [
      "The 99.0-percentile RA error is 1.35 arcsec\n",
      "The 99.0-percentile dec error is 1.47 arcsec\n"
     ]
    }
   ],
   "source": [
    "q = 0.99\n",
    "\n",
    "fig, axs = plt.subplots(1,2, figsize=(10, 2))\n",
    "_  = axs[0].hist(_raErrs_arcsec := diaSource_df[\"raErr\"] * 3600, bins=np.linspace(0, np.quantile(_raErrs_arcsec, 0.99), 50))\n",
    "axs[0].axvline(np.quantile(_raErrs_arcsec, q), color=\"k\")\n",
    "axs[0].set_xlabel(\"RA error [deg]\")\n",
    "_  = axs[1].hist(_decErrs_arcsec := diaSource_df[\"decErr\"] * 3600, bins=np.linspace(0, np.quantile(_decErrs_arcsec, 0.99), 50))\n",
    "axs[1].axvline(np.quantile(_decErrs_arcsec, q), color=\"k\")\n",
    "axs[1].set_xlabel(\"Dec error [deg]\")\n",
    "plt.show()\n",
    "\n",
    "print(f\"The {100 * q}-percentile RA error is {np.quantile(_raErrs_arcsec, q):.2f} arcsec\")\n",
    "print(f\"The {100 * q}-percentile dec error is {np.quantile(_decErrs_arcsec, q):.2f} arcsec\")"
   ]
  },
  {
   "cell_type": "code",
   "execution_count": 8,
   "id": "df4dca50-20d7-426f-ac5e-3e81d9a30286",
   "metadata": {
    "execution": {
     "iopub.execute_input": "2025-10-31T13:26:48.905956Z",
     "iopub.status.busy": "2025-10-31T13:26:48.905734Z",
     "iopub.status.idle": "2025-10-31T13:26:48.932725Z",
     "shell.execute_reply": "2025-10-31T13:26:48.932163Z",
     "shell.execute_reply.started": "2025-10-31T13:26:48.905936Z"
    }
   },
   "outputs": [
    {
     "name": "stdout",
     "output_type": "stream",
     "text": [
      "filter_coorderr cut 1442 rows (1.36 %, originally: 105648)\n"
     ]
    }
   ],
   "source": [
    "@verbose\n",
    "def filter_coorderr(df: pd.DataFrame, quantile: float)  -> pd.DataFrame:\n",
    "    return df[\n",
    "        (df[\"raErr\"] < np.quantile(df[\"raErr\"], quantile)) &\n",
    "        (df[\"decErr\"] < np.quantile(df[\"decErr\"], quantile))\n",
    "    ]\n",
    "\n",
    "diaSource_df = filter_coorderr(diaSource_df, 0.99)"
   ]
  },
  {
   "cell_type": "markdown",
   "id": "29da8bf7-daed-4191-8c34-54d327d26948",
   "metadata": {},
   "source": [
    "### Data utilities"
   ]
  },
  {
   "cell_type": "code",
   "execution_count": 9,
   "id": "e0e7902f-74e6-491e-99dc-167a1cc9b722",
   "metadata": {
    "execution": {
     "iopub.execute_input": "2025-10-31T13:26:50.353660Z",
     "iopub.status.busy": "2025-10-31T13:26:50.353360Z",
     "iopub.status.idle": "2025-10-31T13:27:02.830056Z",
     "shell.execute_reply": "2025-10-31T13:27:02.829415Z",
     "shell.execute_reply.started": "2025-10-31T13:26:50.353637Z"
    }
   },
   "outputs": [
    {
     "name": "stdout",
     "output_type": "stream",
     "text": [
      "indexing visits..\n",
      "indexing regions..\n",
      "indexing source observation times..\n",
      "indexing source visit bands..\n"
     ]
    }
   ],
   "source": [
    "def _map_source2ccdVisit(diaSources: pd.DataFrame, ccdVisits: pd.DataFrame) -> Callable:\n",
    "    visit_lookup = {\n",
    "       (row['visitId'], row['detector']): idx \n",
    "       for idx, row in ccdVisits.iterrows()\n",
    "    }\n",
    "    sources_lookup = pd.Series({\n",
    "       idx: visit_lookup.get((row['visit'], row['detector']))\n",
    "       for idx, row in diaSources.iterrows()\n",
    "    })\n",
    "    \n",
    "    def helper(source_index: pd.Index | int) -> pd.Series | int:\n",
    "        return sources_lookup[source_index]\n",
    "    return helper\n",
    "\n",
    "    \n",
    "def _source_region(diaSources: pd.DataFrame) -> Callable:\n",
    "    region_lookup = {\n",
    "        # source_index: sph.Box(\n",
    "        #     center=sph.LonLat.fromDegrees(source[\"ra\"], source[\"dec\"]),\n",
    "        #     # we divide by two because the constructor takes half-width and half-height\n",
    "        #     # http://doxygen.lsst.codes/stack/doxygen/x_masterDoxyDoc/classlsst_1_1sphgeom_1_1_box.html\n",
    "        #     width=sph.Angle.fromDegrees(nstd * source[\"raErr\"]) / 2,\n",
    "        #     height=sph.Angle.fromDegrees(nstd * source[\"decErr\"]) / 2,\n",
    "        # )\n",
    "        source_index: sph.Circle(\n",
    "            center=sph.UnitVector3d(sph.LonLat.fromDegrees(source[\"ra\"], source[\"dec\"])),\n",
    "            angle=sph.Angle.fromDegrees(np.sqrt(source[\"raErr\"] ** 2 + source[\"decErr\"] ** 2)),\n",
    "        )\n",
    "        for source_index, source in diaSources.iterrows()\n",
    "    }\n",
    "\n",
    "    def helper(source_index: int) -> sph.Region:\n",
    "        return region_lookup[source_index]\n",
    "    return helper\n",
    "\n",
    "\n",
    "def _source_time(ccdVisits: pd.DataFrame, diaSources: pd.DataFrame, s2v: Callable) -> Callable:\n",
    "    index = diaSources.index.to_series().map(s2v).map(ccdVisits[\"obsStartMJD\"])\n",
    "    \n",
    "    def helper(source_index:  pd.Index | int) -> pd.Series | float:\n",
    "        return index[source_index]\n",
    "    return helper\n",
    "\n",
    "\n",
    "def _source_band(ccdVisits: pd.DataFrame, diaSources: pd.DataFrame, s2v: Callable) -> Callable:\n",
    "    index = diaSources.index.to_series().map(s2v).map(ccdVisits[\"band\"])\n",
    "    \n",
    "    def helper(source_index:  pd.Index | int) -> pd.Series | Literal[\"u\", \"g\", \"r\", \"i\", \"z\", \"y\"]:\n",
    "        return index[source_index]\n",
    "    return helper\n",
    "\n",
    "\n",
    "print(\"indexing visits..\")\n",
    "source_visit: Callable = _map_source2ccdVisit(diaSource_df, ccdVisit_df)\n",
    "print(\"indexing regions..\")\n",
    "source_region: Callable = _source_region(diaSource_df)\n",
    "print(\"indexing source observation times..\")\n",
    "source_time: Callable = _source_time(ccdVisit_df, diaSource_df, source_visit)\n",
    "print(\"indexing source visit bands..\")\n",
    "source_band: Callable = _source_band(ccdVisit_df, diaSource_df, source_visit)"
   ]
  },
  {
   "cell_type": "markdown",
   "id": "cb7dcd57-cc1a-4992-8d57-eb9068ca4532",
   "metadata": {},
   "source": [
    "### Sorting sources"
   ]
  },
  {
   "cell_type": "code",
   "execution_count": 10,
   "id": "6d5ef0cc-9b01-48ae-a713-ea13910d4c5d",
   "metadata": {
    "execution": {
     "iopub.execute_input": "2025-10-31T13:27:02.831119Z",
     "iopub.status.busy": "2025-10-31T13:27:02.830890Z",
     "iopub.status.idle": "2025-10-31T13:27:02.876056Z",
     "shell.execute_reply": "2025-10-31T13:27:02.875215Z",
     "shell.execute_reply.started": "2025-10-31T13:27:02.831099Z"
    }
   },
   "outputs": [],
   "source": [
    "diaSource_df = diaSource_df.sort_index(key=source_time)"
   ]
  },
  {
   "cell_type": "markdown",
   "id": "6fab5358-8e61-4a94-b6d7-0e749721443b",
   "metadata": {},
   "source": [
    "# KD-Tree indexing\n",
    "\n",
    "We use a KD-tree for spatial indexing the diaSources in our dataset. The index is used for searching compatible (close) sources. It supports two methods:\n",
    "\n",
    "1. a radius search `search_radius`.\n",
    "2. a neighbour search `search_close`. This methods calls `search_radius` under the hood with a \"large\" radius relative to the dataset astrometric errors, then it filters neighbour candidates checking overlaps in their bouding regions."
   ]
  },
  {
   "cell_type": "code",
   "execution_count": 11,
   "id": "261ce503-c1af-4432-8ff9-d9c43b606a3b",
   "metadata": {
    "execution": {
     "iopub.execute_input": "2025-10-31T13:27:04.370837Z",
     "iopub.status.busy": "2025-10-31T13:27:04.370496Z",
     "iopub.status.idle": "2025-10-31T13:27:04.430557Z",
     "shell.execute_reply": "2025-10-31T13:27:04.429916Z",
     "shell.execute_reply.started": "2025-10-31T13:27:04.370813Z"
    }
   },
   "outputs": [],
   "source": [
    "def _sph2xyz(\n",
    "    lons: np.array, \n",
    "    lats: np.array, \n",
    ") -> np.array:\n",
    "    \"\"\"\n",
    "    Converts from spherical coordinates (in degrees) to cartesian over the unit sphere.\n",
    "    \"\"\"\n",
    "    lons = np.deg2rad(lons)\n",
    "    lats = np.deg2rad(lats)\n",
    "\n",
    "    x = (cos_lat_rad := np.cos(lats)) * np.cos(lons)\n",
    "    y = cos_lat_rad * np.sin(lons)\n",
    "    z = np.sin(lats)\n",
    "    return np.column_stack([x, y, z])\n",
    "\n",
    "\n",
    "class SourceTree:\n",
    "    def __init__(self, diaSources: pd.DataFrame, s2region: Callable):\n",
    "        self.diaSources = diaSources\n",
    "        self.s2region = s2region\n",
    "        self.tree = KDTree(_sph2xyz(diaSources[\"ra\"], diaSources[\"dec\"]))\n",
    "        # chosen so that `search_close` contains id1 and id2, if id1 and id2 are the call's arguments\n",
    "        # and id1, id2 are the sources with the largest astrometric error in the dataset.\n",
    "        # on the factor 2: two circles of radius r touching at their edges are separated by 2r center-to-center.\n",
    "        self._radius = 2 * np.sqrt(diaSources['raErr'].max() ** 2 + diaSources['decErr'].max() ** 2)\n",
    "        \n",
    "    def search_radius(\n",
    "        self,\n",
    "        ra: float,\n",
    "        dec: float,\n",
    "        radius: float,\n",
    "    ) -> pd.Index:\n",
    "        \"\"\"\n",
    "        Returns all diaSources within a circle of radius `radius` centered at (`ra`, `dec`).\n",
    "        All inputs are assumed in degrees.\n",
    "        \"\"\"\n",
    "        center_xyz = _sph2xyz(ra, dec).reshape(-1)\n",
    "        idxs = self.tree.query_ball_point(center_xyz, r=np.deg2rad(radius))\n",
    "        return self.diaSources.index[idxs]\n",
    "    \n",
    "    def search_close(\n",
    "        self,\n",
    "        source_index: int,\n",
    "        drop: bool = True,\n",
    "    ) -> list:\n",
    "        ra, dec = self.diaSources .loc[source_index][[\"ra\", \"dec\"]]\n",
    "        candidate_ids = self.search_radius(ra, dec, self._radius)\n",
    "        if drop:\n",
    "            candidate_ids = candidate_ids.drop([source_index])\n",
    "        source_region = self.s2region(source_index)\n",
    "        return [*filter(lambda idx: self.s2region(idx).overlaps(source_region), candidate_ids)]\n",
    "\n",
    "\n",
    "st = SourceTree(diaSource_df, source_region)\n",
    "\n",
    "# a basic test\n",
    "assert (_idx := diaSource_df.index[0]) in st.search_radius(*diaSource_df.loc[_idx][[\"ra\", \"dec\"]], 1/36000)\n",
    "assert (_idx := diaSource_df.index[0]) in st.search_close(_idx, drop=False)"
   ]
  },
  {
   "cell_type": "markdown",
   "id": "76c9802f-4af2-488e-b43f-8f8fb0253dbc",
   "metadata": {},
   "source": [
    "# Graph building"
   ]
  },
  {
   "cell_type": "code",
   "execution_count": 12,
   "id": "f387464d-e009-415f-b8cc-ae21c0bbe8a8",
   "metadata": {
    "execution": {
     "iopub.execute_input": "2025-10-31T13:27:08.202473Z",
     "iopub.status.busy": "2025-10-31T13:27:08.202115Z",
     "iopub.status.idle": "2025-10-31T13:28:36.452677Z",
     "shell.execute_reply": "2025-10-31T13:28:36.451868Z",
     "shell.execute_reply.started": "2025-10-31T13:27:08.202448Z"
    }
   },
   "outputs": [
    {
     "data": {
      "application/vnd.jupyter.widget-view+json": {
       "model_id": "a272e85a90e446b79897f59bf37477ea",
       "version_major": 2,
       "version_minor": 0
      },
      "text/plain": [
       "Building graph:   0%|          | 0/104206 [00:00<?, ?it/s]"
      ]
     },
     "metadata": {},
     "output_type": "display_data"
    }
   ],
   "source": [
    "def tree2graph(tree: SourceTree, s2time: Callable) -> nx.DiGraph:\n",
    "    from tqdm.notebook import tqdm\n",
    "    \n",
    "    G = nx.DiGraph()\n",
    "    stimes = s2time(tree.diaSources.index)\n",
    "    for diaSources_index, diaSource in tqdm(tree.diaSources.iterrows(), total=len(tree.diaSources), desc=\"Building graph\"):\n",
    "        source_time = s2time(diaSources_index)\n",
    "        for match_index in tree.search_close(diaSources_index):\n",
    "            if source_time < (match_time := stimes.loc[match_index]):\n",
    "                G.add_edge(diaSources_index, match_index)\n",
    "                G.nodes[diaSources_index][\"obsStartMJD\"] = source_time\n",
    "                G.nodes[match_index][\"obsStartMJD\"] = match_time\n",
    "                \n",
    "    TR = nx.transitive_reduction(G)\n",
    "    TR.add_nodes_from(G.nodes(data=True))\n",
    "    TR.add_edges_from((u, v, G.edges[u, v]) for u, v in TR.edges)\n",
    "    return TR\n",
    "\n",
    "\n",
    "graph = tree2graph(st, source_time)"
   ]
  },
  {
   "cell_type": "code",
   "execution_count": 13,
   "id": "d3193bce-406b-4d04-b897-2411231b77cc",
   "metadata": {
    "execution": {
     "iopub.execute_input": "2025-10-31T13:29:55.509244Z",
     "iopub.status.busy": "2025-10-31T13:29:55.508896Z",
     "iopub.status.idle": "2025-10-31T13:29:55.629431Z",
     "shell.execute_reply": "2025-10-31T13:29:55.628661Z",
     "shell.execute_reply.started": "2025-10-31T13:29:55.509220Z"
    }
   },
   "outputs": [
    {
     "name": "stdout",
     "output_type": "stream",
     "text": [
      "Found 7063 weakly connected graph components.\n"
     ]
    }
   ],
   "source": [
    "def graph2components(graph: nx.DiGraph, minsize: int = 1) -> list[list]:\n",
    "    return [*filter(\n",
    "        # remove weak components shorter than minsize\n",
    "        lambda xs: len(xs) >= minsize, \n",
    "        # transforms set to list and sort sources by time\n",
    "        map(\n",
    "            lambda xs: sorted([*xs], key=lambda x: graph.nodes[x][\"obsStartMJD\"]), \n",
    "            nx.weakly_connected_components(graph)),\n",
    "    )]\n",
    "\n",
    "\n",
    "wcomps = graph2components(graph, minsize=2)\n",
    "print(f\"Found {len(wcomps)} weakly connected graph components.\")"
   ]
  },
  {
   "cell_type": "code",
   "execution_count": 14,
   "id": "dd87a509-11c2-4d10-9ea8-f3e15d0756a2",
   "metadata": {
    "execution": {
     "iopub.execute_input": "2025-10-31T13:29:55.905363Z",
     "iopub.status.busy": "2025-10-31T13:29:55.905035Z",
     "iopub.status.idle": "2025-10-31T13:29:56.535013Z",
     "shell.execute_reply": "2025-10-31T13:29:56.534326Z",
     "shell.execute_reply.started": "2025-10-31T13:29:55.905340Z"
    }
   },
   "outputs": [
    {
     "data": {
      "image/png": "[encoded data removed]",
      "text/plain": [
       "<Figure size 400x200 with 1 Axes>"
      ]
     },
     "metadata": {},
     "output_type": "display_data"
    }
   ],
   "source": [
    "fig, _ = plt.subplots(1,1, figsize=(4, 2))\n",
    "plt.hist(_wcomp_len := [*map(len, wcomps)], bins=np.arange(2, max(_wcomp_len), 1))\n",
    "plt.xlabel(\"component length\"); plt.ylabel(\"num #\"); plt.loglog()\n",
    "plt.show()"
   ]
  },
  {
   "cell_type": "markdown",
   "id": "2a040369-ec2f-4ac9-8725-90bb9b0fe7a3",
   "metadata": {},
   "source": [
    "# Catalog associations"
   ]
  },
  {
   "cell_type": "code",
   "execution_count": 15,
   "id": "e821a2e1-5acd-4df9-821d-b12a0347503c",
   "metadata": {
    "execution": {
     "iopub.execute_input": "2025-10-31T13:29:59.893083Z",
     "iopub.status.busy": "2025-10-31T13:29:59.892770Z",
     "iopub.status.idle": "2025-10-31T13:30:52.753142Z",
     "shell.execute_reply": "2025-10-31T13:30:52.752371Z",
     "shell.execute_reply.started": "2025-10-31T13:29:59.893062Z"
    }
   },
   "outputs": [
    {
     "data": {
      "application/vnd.jupyter.widget-view+json": {
       "model_id": "0e40352874fc41b8a96bcfaef150cc38",
       "version_major": 2,
       "version_minor": 0
      },
      "text/plain": [
       "Querying simbad:   0%|          | 0/15 [00:00<?, ?it/s]"
      ]
     },
     "metadata": {},
     "output_type": "display_data"
    },
    {
     "name": "stdout",
     "output_type": "stream",
     "text": [
      "fraction of non-null association is 11.33 %\n"
     ]
    }
   ],
   "source": [
    "class Association(NamedTuple):\n",
    "    id: str\n",
    "    otype: str\n",
    "    ra: float\n",
    "    dec: float\n",
    "    distance: float\n",
    "\n",
    "\n",
    "def match_to_simbad(\n",
    "    ras: Sequence[float],\n",
    "    decs: Sequence[float],\n",
    "    radiuses: Sequence[float],\n",
    "    batch_size: int = 500,\n",
    "    fields: tuple[str] = (\"otype\",),\n",
    ") -> list[Association | None]:    \n",
    "    from astropy.coordinates import SkyCoord\n",
    "    from astropy.coordinates import match_coordinates_sky\n",
    "    from astropy.table import Table\n",
    "    from astropy.table import vstack\n",
    "    from astropy import units as u\n",
    "    from astroquery.simbad import Simbad\n",
    "    from tqdm.notebook import tqdm\n",
    "\n",
    "    \n",
    "    def simbad_query(\n",
    "        ras: Sequence[float],\n",
    "        decs: Sequence[float],\n",
    "        radiuses: Sequence[float],\n",
    "        batch_size: int,\n",
    "        fields: tuple[str] = (\"otype\",),\n",
    "    ) -> Table:\n",
    "        if not len(ras) == len(decs) == len(radiuses):\n",
    "            raise ValueError(\"Query ra, declinations and radiuses must have same length.\")\n",
    "            \n",
    "        simbad = Simbad()\n",
    "        \n",
    "        for field in fields:\n",
    "            simbad.add_votable_fields(field)\n",
    "        batch_results = []\n",
    "        for i in tqdm(range(0, len(ras), batch_size), desc=\"Querying simbad\"):\n",
    "            s = slice(i, i + batch_size)\n",
    "            result = simbad.query_region(\n",
    "                SkyCoord(\n",
    "                    ra = [ra * u.deg for ra in ras[s]],\n",
    "                    dec = [dec * u.deg for dec in decs[s]],\n",
    "                ),\n",
    "                radius = [r * u.deg for r in radiuses[s]]\n",
    "            )\n",
    "            if result is not None:\n",
    "                batch_results.append(result)\n",
    "        return vstack(batch_results, metadata_conflicts=\"silent\")\n",
    "\n",
    "    \n",
    "    simbad_objects = simbad_query(ras, decs, radiuses, batch_size=batch_size, fields=fields)\n",
    "    ids, d2d, _ = match_coordinates_sky(\n",
    "        SkyCoord(\n",
    "            ra = [ra * u.deg for ra in ras],\n",
    "            dec = [dec * u.deg for dec in decs],\n",
    "        ),\n",
    "        SkyCoord(\n",
    "            ra = simbad_objects[\"ra\"],\n",
    "            dec = simbad_objects[\"dec\"],\n",
    "        ),\n",
    "    )\n",
    "    simbad_ra_deg = [*map(float, simbad_objects[\"ra\"].to(u.deg).to_value())]\n",
    "    simbad_dec_deg = [*map(float, simbad_objects[\"dec\"].to(u.deg).to_value())]\n",
    "    d2d_deg = [*map(float, d2d.to(u.deg).to_value())]\n",
    "    return [\n",
    "        Association(\n",
    "            *simbad_objects[simbad_id := ids[i]][[\"main_id\", \"otype\"]], \n",
    "            simbad_ra_deg[simbad_id],\n",
    "            simbad_dec_deg[simbad_id],\n",
    "            d2d_deg[i],\n",
    "        )\n",
    "        if d2d_deg[i] < radiuses[i] else None\n",
    "        for i in range(len(ids))\n",
    "    ]\n",
    "\n",
    "def comps2circles(comps, s2r: Callable) -> list[sph.Circle]:\n",
    "    \"\"\"\n",
    "    Compute minimal bounding circle for each component.\n",
    "    Uses reduce to iteratively expand circles to encompass all sources.\n",
    "    \"\"\"\n",
    "    return  [\n",
    "        reduce(\n",
    "            lambda x, y: x.expandTo(y), \n",
    "            map(lambda x: s2r(x), cs),\n",
    "            # this will avoid die out on lists with one element\n",
    "            # it works since .expandTo() is idempotent\n",
    "            s2r(cs[0]),\n",
    "        )\n",
    "        for cs in comps\n",
    "    ]\n",
    "\n",
    "\n",
    "def circles2associations(circles: Sequence[sph.Circle], rmin: float=0.) -> list[Association | None]:\n",
    "    centers = [sph.LonLat(c.getCenter()) for c in circles]\n",
    "    radiuses = np.clip([c.getOpeningAngle().asDegrees() for c in circles], a_min=rmin, a_max=None)\n",
    "    ras = [c.getLon().asDegrees() for c in centers]\n",
    "    decs = [c.getLat().asDegrees() for c in centers]\n",
    "    return match_to_simbad(ras, decs, radiuses)\n",
    "\n",
    "\n",
    "\n",
    "RMIN = 0.5 / 3600  # lsst pixel scale\n",
    "simbad_associations = circles2associations(comps2circles(wcomps, source_region), rmin=RMIN)\n",
    "print(f\"fraction of non-null association is {100 * len([*filter(lambda x: x is not None, simbad_associations)]) / len(simbad_associations):.2f} %\")"
   ]
  },
  {
   "cell_type": "code",
   "execution_count": 16,
   "id": "217fe746-56d4-4083-80c3-cbb792e9863b",
   "metadata": {
    "execution": {
     "iopub.execute_input": "2025-10-31T13:30:52.754713Z",
     "iopub.status.busy": "2025-10-31T13:30:52.754392Z",
     "iopub.status.idle": "2025-10-31T13:30:53.056583Z",
     "shell.execute_reply": "2025-10-31T13:30:53.055974Z",
     "shell.execute_reply.started": "2025-10-31T13:30:52.754685Z"
    }
   },
   "outputs": [
    {
     "data": {
      "image/png": "[encoded data removed]",
      "text/plain": [
       "<Figure size 400x200 with 1 Axes>"
      ]
     },
     "metadata": {},
     "output_type": "display_data"
    }
   ],
   "source": [
    "radii_arcsec = np.array([c.getOpeningAngle().asDegrees() for c in comps2circles(wcomps, source_region)]) * 3600\n",
    "\n",
    "fig, _ = plt.subplots(1,1, figsize=(4, 2))\n",
    "_ = plt.hist(radii_arcsec, bins=np.linspace(0, radii_arcsec.max(), 100))\n",
    "plt.xlabel(\"bounding circle radius [arcsec]\"); plt.ylabel(\"num #\")\n",
    "plt.show()"
   ]
  },
  {
   "cell_type": "markdown",
   "id": "b6d09150-e337-4bc2-8d0c-72942998cf1e",
   "metadata": {},
   "source": [
    "### Control sample: associations against random sources"
   ]
  },
  {
   "cell_type": "code",
   "execution_count": 17,
   "id": "23838674-6f87-45cb-8ed0-d31f81ca78f8",
   "metadata": {
    "execution": {
     "iopub.execute_input": "2025-10-31T13:30:53.057385Z",
     "iopub.status.busy": "2025-10-31T13:30:53.057147Z",
     "iopub.status.idle": "2025-10-31T13:31:45.715166Z",
     "shell.execute_reply": "2025-10-31T13:31:45.714505Z",
     "shell.execute_reply.started": "2025-10-31T13:30:53.057365Z"
    }
   },
   "outputs": [
    {
     "data": {
      "application/vnd.jupyter.widget-view+json": {
       "model_id": "e3b9359b6d764c2eb951025ee95b28ec",
       "version_major": 2,
       "version_minor": 0
      },
      "text/plain": [
       "Querying simbad:   0%|          | 0/15 [00:00<?, ?it/s]"
      ]
     },
     "metadata": {},
     "output_type": "display_data"
    },
    {
     "name": "stderr",
     "output_type": "stream",
     "text": [
      "WARNING: NoResultsWarning: The request executed correctly, but there was no data corresponding to these criteria in SIMBAD [astroquery.simbad.core]\n"
     ]
    },
    {
     "data": {
      "text/html": [
       "<pre style=\"margin: 0.1em;\n",
       "padding-left: 0.25em;\n",
       "border-left-style: solid;\n",
       "font-family: var(--jp-code-font-family);\n",
       "font-size: var(--jp-code-font-size);\n",
       "line-height: var(--jp-code-line-height);\n",
       "\"><span style=\"color: var(--jp-warn-color2)\">astroquery</span> <span style=\"color: var(--jp-warn-color0)\">WARNING</span>: NoResultsWarning: The request executed correctly, but there was no data corresponding to these criteria in SIMBAD</pre>"
      ],
      "text/plain": [
       "<IPython.core.display.HTML object>"
      ]
     },
     "metadata": {},
     "output_type": "display_data"
    },
    {
     "name": "stdout",
     "output_type": "stream",
     "text": [
      "fraction of non-null association is 0.81 %\n"
     ]
    }
   ],
   "source": [
    "def test_random_associations(circles: Sequence[sph.Circle], target_ra: float, target_dec: float, target_radius: float, rmin: float=0.) -> list[Association | None]:\n",
    "    radiuses = [max(c.getOpeningAngle().asDegrees(), rmin) for c in circles]\n",
    "    ras = np.random.rand(len(circles)) * target_radius + (target_ra - target_radius / 2)\n",
    "    decs = np.random.rand(len(circles)) * target_radius + (target_dec - target_radius / 2)\n",
    "    return match_to_simbad(ras, decs, radiuses)\n",
    "\n",
    "\n",
    "random_associations = test_random_associations(comps2circles(wcomps, source_region), target_ra, target_dec, target_radius, RMIN)\n",
    "print(f\"fraction of non-null association is {100 * len([*filter(lambda x: x is not None, random_associations)]) / len(random_associations):.2f} %\")"
   ]
  },
  {
   "cell_type": "markdown",
   "id": "d2515464-f54e-4cbf-99fa-4a18b326cd00",
   "metadata": {},
   "source": [
    "# Object associations"
   ]
  },
  {
   "cell_type": "code",
   "execution_count": 22,
   "id": "dcde0271-27e3-46b6-98ec-359f4b93427a",
   "metadata": {
    "execution": {
     "iopub.execute_input": "2025-10-31T13:33:47.898609Z",
     "iopub.status.busy": "2025-10-31T13:33:47.898256Z",
     "iopub.status.idle": "2025-10-31T13:33:51.111346Z",
     "shell.execute_reply": "2025-10-31T13:33:51.110550Z",
     "shell.execute_reply.started": "2025-10-31T13:33:47.898586Z"
    }
   },
   "outputs": [],
   "source": [
    "diaObject_associations =[diaSource_df.loc[w][\"diaObjectId\"].unique().tolist() for w in wcomps]"
   ]
  },
  {
   "cell_type": "code",
   "execution_count": 26,
   "id": "92d2eb4c-3a0a-4601-baaa-f9e1c3da7f03",
   "metadata": {
    "execution": {
     "iopub.execute_input": "2025-10-31T13:34:39.062054Z",
     "iopub.status.busy": "2025-10-31T13:34:39.061701Z",
     "iopub.status.idle": "2025-10-31T13:34:39.070381Z",
     "shell.execute_reply": "2025-10-31T13:34:39.069633Z",
     "shell.execute_reply.started": "2025-10-31T13:34:39.062029Z"
    }
   },
   "outputs": [],
   "source": [
    "diaObject_ids_str = \"(\" + \", \".join(map(str, [x for xs in diaObject_associations for x in xs])) + \")\""
   ]
  },
  {
   "cell_type": "code",
   "execution_count": 27,
   "id": "fc50e8e9-b188-4190-847e-6e74d62411f3",
   "metadata": {
    "execution": {
     "iopub.execute_input": "2025-10-31T13:34:40.009469Z",
     "iopub.status.busy": "2025-10-31T13:34:40.009097Z",
     "iopub.status.idle": "2025-10-31T13:35:03.205152Z",
     "shell.execute_reply": "2025-10-31T13:35:03.204317Z",
     "shell.execute_reply.started": "2025-10-31T13:34:40.009444Z"
    }
   },
   "outputs": [
    {
     "name": "stdout",
     "output_type": "stream",
     "text": [
      "Job phase is COMPLETED\n"
     ]
    }
   ],
   "source": [
    "job = service.submit_job(\n",
    "    f\"SELECT * \"\n",
    "    f\"FROM dp1.DiaObject \"\n",
    "    f\"WHERE diaObjectId IN {diaObject_ids_str}\"\n",
    ")\n",
    "job.run()\n",
    "job.wait(phases=['COMPLETED', 'ERROR'])\n",
    "print('Job phase is', job.phase)\n",
    "diaObject_df = job.fetch_result().to_table().to_pandas()"
   ]
  },
  {
   "cell_type": "code",
   "execution_count": 28,
   "id": "d046ce69-49bb-4e3b-940f-08f95f4a13b6",
   "metadata": {
    "execution": {
     "iopub.execute_input": "2025-10-31T13:35:08.756394Z",
     "iopub.status.busy": "2025-10-31T13:35:08.756023Z",
     "iopub.status.idle": "2025-10-31T13:44:58.049106Z",
     "shell.execute_reply": "2025-10-31T13:44:58.048199Z",
     "shell.execute_reply.started": "2025-10-31T13:35:08.756368Z"
    }
   },
   "outputs": [
    {
     "name": "stdout",
     "output_type": "stream",
     "text": [
      "Job phase is COMPLETED\n"
     ]
    }
   ],
   "source": [
    "job = service.submit_job(\n",
    "    f\"SELECT  diaObjectId, visit, detector, band, coord_dec, coord_ra, tract, patch, \"\n",
    "    f\"invalidPsfFlag, psfDiffFlux, psfDiffFluxErr, psfDiffFlux_flag, psfFlux, psfFluxErr,  psfFlux_flag  \"\n",
    "    f\"FROM dp1.ForcedSourceOnDiaObject \"\n",
    "    f\"WHERE diaObjectId IN {diaObject_ids_str}\"\n",
    ")\n",
    "# query is larg-ish, so we launch the job as async\n",
    "job.run()\n",
    "job.wait(phases=['COMPLETED', 'ERROR'])\n",
    "print('Job phase is', job.phase)\n",
    "fsodo_df = job.fetch_result().to_table().to_pandas()"
   ]
  },
  {
   "cell_type": "markdown",
   "id": "f1026658-0154-46f2-924b-34902029e627",
   "metadata": {},
   "source": [
    "# Exporting"
   ]
  },
  {
   "cell_type": "code",
   "execution_count": 30,
   "id": "e9b02eed-4fac-4cde-9571-d90c3d007505",
   "metadata": {
    "execution": {
     "iopub.execute_input": "2025-10-31T13:50:02.945037Z",
     "iopub.status.busy": "2025-10-31T13:50:02.944695Z",
     "iopub.status.idle": "2025-10-31T13:50:06.465395Z",
     "shell.execute_reply": "2025-10-31T13:50:06.464766Z",
     "shell.execute_reply.started": "2025-10-31T13:50:02.945013Z"
    }
   },
   "outputs": [
    {
     "name": "stdout",
     "output_type": "stream",
     "text": [
      "Exporting DataFrames...\n",
      "Exporting graph...\n",
      "Exporting components and associations...\n",
      "Exporting metadata...\n",
      "\n",
      "✓ Export complete!\n",
      "  Location: /home/deppep/WORK/transient_graph_results\n",
      "  Files: 8\n",
      "  Total size: 127.6 MB\n"
     ]
    }
   ],
   "source": [
    "from pathlib import Path\n",
    "import pickle\n",
    "import json\n",
    "\n",
    "\n",
    "# thank you Claude\n",
    "def export_transient_analysis(\n",
    "    output_dir: str = \"transient_graph_results\",\n",
    "    compression: str | None = \"snappy\",\n",
    "):\n",
    "    \"\"\"    \n",
    "    Export all transient analysis results.\n",
    "    Uses Parquet for DataFrames, GraphML for graph, JSON for metadata.\n",
    "    \"\"\"\n",
    "    output_dir = Path(output_dir)\n",
    "    output_dir.mkdir(exist_ok=True)\n",
    "    \n",
    "    print(\"Exporting DataFrames...\")\n",
    "    diaSource_df.to_parquet(output_dir / \"diaSource.parquet\", compression=compression)\n",
    "    ccdVisit_df.to_parquet(output_dir / \"ccdVisit.parquet\", compression=compression)\n",
    "    diaObject_df.to_parquet(output_dir / \"diaObject.parquet\", compression=compression)\n",
    "    fsodo_df.to_parquet(output_dir / \"fsodo.parquet\", compression=compression)\n",
    "    \n",
    "    print(\"Exporting graph...\")\n",
    "    nx.write_graphml(graph, output_dir / \"transient_graph.graphml\")\n",
    "        \n",
    "    print(\"Exporting components and associations...\")\n",
    "    # Components - create a structured DataFrame\n",
    "    component_catalog = pd.DataFrame({\n",
    "        \"component_id\": range(len(wcomps)),\n",
    "        \"source_ids\": [comp for comp in wcomps],  # List column\n",
    "        \"n_sources\": [len(comp) for comp in wcomps],\n",
    "        \"diaObject_ids\": diaObject_associations,\n",
    "        \"n_diaObjects\": [len(obj_ids) for obj_ids in diaObject_associations],\n",
    "    })\n",
    "    component_catalog[\"simbad_id\"] = [a.id if a else None for a in simbad_associations]\n",
    "    component_catalog[\"simbad_type\"] = [a.otype if a else None for a in simbad_associations]\n",
    "    component_catalog[\"simbad_ra\"] = [a.ra if a else None for a in simbad_associations]\n",
    "    component_catalog[\"simbad_dec\"] = [a.dec if a else None for a in simbad_associations]\n",
    "    component_catalog[\"simbad_distance\"] = [a.distance if a else None for a in simbad_associations]\n",
    "    component_catalog.to_parquet(output_dir / \"component_catalog.parquet\")\n",
    "    \n",
    "    print(\"Exporting metadata...\")\n",
    "    # Metadata\n",
    "    metadata = {\n",
    "        \"target_ra\": target_ra,\n",
    "        \"target_dec\": target_dec,\n",
    "        \"target_radius\": target_radius,\n",
    "        \"t1_mjd\": (ti := Time(ccdVisit_df[\"obsStartMJD\"].min(), format=\"mjd\")).mjd,\n",
    "        \"t2_mjd\": (tf := Time(ccdVisit_df[\"obsStartMJD\"].max(), format=\"mjd\")).mjd,\n",
    "        \"t1_isot\": ti.isot,\n",
    "        \"t2_isot\": tf.isot,\n",
    "        \"bands\": \"\".join(target_bands),\n",
    "        \"n_sources\": len(diaSource_df),\n",
    "        \"n_visits\": len(ccdVisit_df),\n",
    "        \"n_components\": len(wcomps),\n",
    "        \"n_diaObjects\": len(diaObject_df),\n",
    "        \"n_simbad_matches\": sum(1 for a in simbad_associations if a is not None),\n",
    "        \"creation_date\": Time.now().isot,\n",
    "        \"filter_flags\": flag_columns,\n",
    "        \"coordinate_error_quantile\": 0.99,\n",
    "    }\n",
    "    with open(output_dir / \"metadata.json\", \"w\") as f:\n",
    "        json.dump(metadata, f, indent=2)\n",
    "\n",
    "    readme = f\"\"\"# Transient Graph Analysis Results\n",
    "\n",
    "Created: {metadata['creation_date']}\n",
    "\n",
    "## Dataset Summary\n",
    "- Target: RA={target_ra:.3f}, Dec={target_dec:.3f}, Radius={target_radius:.3f} deg\n",
    "- Time range: {t1.isot} to {t2.isot}\n",
    "- Sources: {len(diaSource_df):,}\n",
    "- Visits: {len(ccdVisit_df)}\n",
    "- Components: {len(wcomps)}\n",
    "- DiaObjects: {len(diaObject_df)}\n",
    "- SIMBAD matches: {metadata['n_simbad_matches']} ({100*metadata['n_simbad_matches']/len(wcomps):.1f}%)\n",
    "\n",
    "## Files\n",
    "- `diaSource.parquet`: Filtered DiaSources\n",
    "- `ccdVisit.parquet`: CCD visits in target region\n",
    "- `diaObject.parquet`: DiaObjects for components\n",
    "- `fsodo.parquet`: Forced photometry on DiaObjects\n",
    "- `transient_graph.graphml`: Source association graph\n",
    "- `component_catalog.parquet`: Component metadata and associations\n",
    "- `metadata.json`: Analysis parameters and statistics\n",
    "\n",
    "## Load in Python\n",
    "```python\n",
    "# Standard imports\n",
    "from pathlib import Path\n",
    "from typing import NamedTuple\n",
    "import pandas as pd\n",
    "import networkx as nx\n",
    "import json\n",
    "\n",
    "# Define data directory\n",
    "data_dir = Path(\"transient_graph_results\")\n",
    "\n",
    "# Load DataFrames\n",
    "print(\"Loading DataFrames...\")\n",
    "diaSource_df = pd.read_parquet(data_dir / \"diaSource.parquet\")\n",
    "ccdVisit_df = pd.read_parquet(data_dir / \"ccdVisit.parquet\")\n",
    "diaObject_df = pd.read_parquet(data_dir / \"diaObject.parquet\")\n",
    "fsodo_df = pd.read_parquet(data_dir / \"fsodo.parquet\")\n",
    "\n",
    "# Load graph\n",
    "print(\"Loading graph...\")\n",
    "graph = nx.read_graphml(data_dir / \"transient_graph.graphml\")\n",
    "\n",
    "# Load component catalog\n",
    "print(\"Loading component catalog...\")\n",
    "component_catalog = pd.read_parquet(data_dir / \"component_catalog.parquet\")\n",
    "\n",
    "# Extract components list (same as wcomps in notebook)\n",
    "wcomps = component_catalog[\"source_ids\"].tolist()\n",
    "\n",
    "# Extract DiaObject associations\n",
    "diaObject_associations = component_catalog[\"diaObject_ids\"].tolist()\n",
    "\n",
    "# Reconstruct SIMBAD associations\n",
    "class Association(NamedTuple):\n",
    "    id: str\n",
    "    otype: str\n",
    "    ra: float\n",
    "    dec: float\n",
    "    distance: float\n",
    "\n",
    "simbad_associations = []\n",
    "for _, row in component_catalog.iterrows():\n",
    "    if pd.notna(row[\"simbad_id\"]):\n",
    "        simbad_associations.append(Association(\n",
    "            id=row[\"simbad_id\"],\n",
    "            otype=row[\"simbad_type\"],\n",
    "            ra=row[\"simbad_ra\"],\n",
    "            dec=row[\"simbad_dec\"],\n",
    "            distance=row[\"simbad_distance\"],\n",
    "        ))\n",
    "    else:\n",
    "        simbad_associations.append(None)\n",
    "\n",
    "# Load metadata\n",
    "with open(data_dir / \"metadata.json\") as f:\n",
    "    metadata = json.load(f)\n",
    "\n",
    "# Extract target parameters\n",
    "target_ra = metadata[\"target_ra\"]\n",
    "target_dec = metadata[\"target_dec\"]\n",
    "target_radius = metadata[\"target_radius\"]\n",
    "target_bands = tuple(metadata[\"bands\"])\n",
    "\n",
    "print(f\"  Loaded {{len(diaSource_df):,}} sources in {{len(wcomps):,}} components\")\n",
    "print(f\"  Time range: {{metadata['t1_isot']}} to {{metadata['t2_isot']}}\")\n",
    "print(f\"  SIMBAD matches: {{metadata['n_simbad_matches']}} ({{100*metadata['n_simbad_matches']/metadata['n_components']:.1f}}%)\")\n",
    "```\n",
    "\"\"\"\n",
    "    with open(output_dir / \"README.md\", \"w\") as f:\n",
    "        f.write(readme)\n",
    "    \n",
    "\n",
    "    total_size = sum(f.stat().st_size for f in output_dir.glob(\"*\") if f.is_file())\n",
    "    print(f\"\\n✓ Export complete!\")\n",
    "    print(f\"  Location: {output_dir.absolute()}\")\n",
    "    print(f\"  Files: {len(list(output_dir.glob('*')))}\")\n",
    "    print(f\"  Total size: {total_size / 1024**2:.1f} MB\")\n",
    "    \n",
    "    return output_dir\n",
    "\n",
    "\n",
    "export_dir = export_transient_analysis()"
   ]
  },
  {
   "cell_type": "code",
   "execution_count": null,
   "id": "e1d50cd7-901c-4dc7-87b2-2916499e684f",
   "metadata": {},
   "outputs": [],
   "source": []
  }
 ],
 "metadata": {
  "kernelspec": {
   "display_name": "LSST",
   "language": "python",
   "name": "lsst"
  },
  "language_info": {
   "codemirror_mode": {
    "name": "ipython",
    "version": 3
   },
   "file_extension": ".py",
   "mimetype": "text/x-python",
   "name": "python",
   "nbconvert_exporter": "python",
   "pygments_lexer": "ipython3",
   "version": "3.12.11"
  }
 },
 "nbformat": 4,
 "nbformat_minor": 5
}
