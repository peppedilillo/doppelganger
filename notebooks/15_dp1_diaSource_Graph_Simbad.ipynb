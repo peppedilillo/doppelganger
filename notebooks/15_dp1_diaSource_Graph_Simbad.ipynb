{
 "cells": [
  {
   "cell_type": "code",
   "execution_count": 1,
   "id": "973d9173-5524-4453-b265-75f5a3731bb0",
   "metadata": {
    "execution": {
     "iopub.execute_input": "2025-10-29T17:15:23.332152Z",
     "iopub.status.busy": "2025-10-29T17:15:23.331959Z",
     "iopub.status.idle": "2025-10-29T17:15:24.450009Z",
     "shell.execute_reply": "2025-10-29T17:15:24.449418Z",
     "shell.execute_reply.started": "2025-10-29T17:15:23.332133Z"
    }
   },
   "outputs": [],
   "source": [
    "from typing import Callable, Literal, Sequence, NamedTuple\n",
    "\n",
    "from functools import reduce\n",
    "from scipy.spatial import KDTree\n",
    "import numpy as np\n",
    "import matplotlib.pyplot as plt\n",
    "import pandas as pd\n",
    "import networkx as nx\n",
    "from astropy.time import Time\n",
    "\n",
    "from lsst.rsp import get_tap_service\n",
    "import lsst.sphgeom as sph\n",
    "from lsst.utils.plotting import get_multiband_plot_colors, get_multiband_plot_symbols\n",
    "\n",
    "\n",
    "filter_names = ['u', 'g', 'r', 'i', 'z', 'y']\n",
    "filter_colors = get_multiband_plot_colors()\n",
    "filter_symbols = get_multiband_plot_symbols()\n",
    "\n",
    "service = get_tap_service(\"tap\")"
   ]
  },
  {
   "cell_type": "markdown",
   "id": "68742271-5c53-4598-b696-0008a21d4601",
   "metadata": {
    "execution": {
     "iopub.execute_input": "2025-10-28T13:36:33.782874Z",
     "iopub.status.busy": "2025-10-28T13:36:33.782557Z",
     "iopub.status.idle": "2025-10-28T13:36:33.787318Z",
     "shell.execute_reply": "2025-10-28T13:36:33.786677Z",
     "shell.execute_reply.started": "2025-10-28T13:36:33.782849Z"
    }
   },
   "source": [
    "# Transients graph\n",
    "\n",
    "With this notebook we take a slight deviation from what we have been worked on so far. \n",
    "\n",
    "We try to build a graph for a subset of the sources in the DP1, in which connected subgraphs represent anomalies from objects at compatible positions."
   ]
  },
  {
   "cell_type": "markdown",
   "id": "6feaae11-5b4f-4131-97c4-0be1ffcbdead",
   "metadata": {
    "execution": {
     "iopub.execute_input": "2025-10-29T10:23:17.903976Z",
     "iopub.status.busy": "2025-10-29T10:23:17.903668Z",
     "iopub.status.idle": "2025-10-29T10:23:17.906771Z",
     "shell.execute_reply": "2025-10-29T10:23:17.906185Z",
     "shell.execute_reply.started": "2025-10-29T10:23:17.903954Z"
    }
   },
   "source": [
    "## Data procesing"
   ]
  },
  {
   "cell_type": "markdown",
   "id": "02eb92f9-06ee-444b-9bad-12db1d561db1",
   "metadata": {
    "execution": {
     "iopub.execute_input": "2025-10-29T10:23:27.579166Z",
     "iopub.status.busy": "2025-10-29T10:23:27.578906Z",
     "iopub.status.idle": "2025-10-29T10:23:27.581981Z",
     "shell.execute_reply": "2025-10-29T10:23:27.581340Z",
     "shell.execute_reply.started": "2025-10-29T10:23:27.579148Z"
    }
   },
   "source": [
    "### Queryting visits"
   ]
  },
  {
   "cell_type": "code",
   "execution_count": 2,
   "id": "63d9aada-c8ce-479b-b746-0b50d6481c0d",
   "metadata": {
    "execution": {
     "iopub.execute_input": "2025-10-29T17:15:24.506367Z",
     "iopub.status.busy": "2025-10-29T17:15:24.506197Z",
     "iopub.status.idle": "2025-10-29T17:15:24.509412Z",
     "shell.execute_reply": "2025-10-29T17:15:24.508980Z",
     "shell.execute_reply.started": "2025-10-29T17:15:24.506350Z"
    }
   },
   "outputs": [],
   "source": [
    "target_ra, target_dec, target_radius = 53.160, -28.100, 1.000\n",
    "t1 = Time(\"2024-12-01T00:00:00.0\", format=\"isot\", scale=\"tai\")\n",
    "t2 = Time(\"2024-12-11T00:00:00.0\", format=\"isot\", scale=\"tai\")"
   ]
  },
  {
   "cell_type": "code",
   "execution_count": 22,
   "id": "22450867-d724-462c-b3a9-84bb4ed9bbfb",
   "metadata": {
    "execution": {
     "iopub.execute_input": "2025-10-29T17:27:55.493680Z",
     "iopub.status.busy": "2025-10-29T17:27:55.493385Z",
     "iopub.status.idle": "2025-10-29T17:28:02.801900Z",
     "shell.execute_reply": "2025-10-29T17:28:02.801333Z",
     "shell.execute_reply.started": "2025-10-29T17:27:55.493658Z"
    }
   },
   "outputs": [
    {
     "data": {
      "text/html": [
       "<div>\n",
       "<style scoped>\n",
       "    .dataframe tbody tr th:only-of-type {\n",
       "        vertical-align: middle;\n",
       "    }\n",
       "\n",
       "    .dataframe tbody tr th {\n",
       "        vertical-align: top;\n",
       "    }\n",
       "\n",
       "    .dataframe thead th {\n",
       "        text-align: right;\n",
       "    }\n",
       "</style>\n",
       "<table border=\"1\" class=\"dataframe\">\n",
       "  <thead>\n",
       "    <tr style=\"text-align: right;\">\n",
       "      <th></th>\n",
       "      <th>astromOffsetMean</th>\n",
       "      <th>astromOffsetStd</th>\n",
       "      <th>band</th>\n",
       "      <th>darkTime</th>\n",
       "      <th>dec</th>\n",
       "      <th>detector</th>\n",
       "      <th>effTime</th>\n",
       "      <th>effTimePsfSigmaScale</th>\n",
       "      <th>effTimeSkyBgScale</th>\n",
       "      <th>effTimeZeroPointScale</th>\n",
       "      <th>...</th>\n",
       "      <th>urcdec</th>\n",
       "      <th>urcra</th>\n",
       "      <th>xSize</th>\n",
       "      <th>ySize</th>\n",
       "      <th>zenithDistance</th>\n",
       "      <th>zeroPoint</th>\n",
       "      <th>visitId</th>\n",
       "      <th>expMidptMJD</th>\n",
       "      <th>expMidpt</th>\n",
       "      <th>obsStartMJD</th>\n",
       "    </tr>\n",
       "    <tr>\n",
       "      <th>ccdVisitId</th>\n",
       "      <th></th>\n",
       "      <th></th>\n",
       "      <th></th>\n",
       "      <th></th>\n",
       "      <th></th>\n",
       "      <th></th>\n",
       "      <th></th>\n",
       "      <th></th>\n",
       "      <th></th>\n",
       "      <th></th>\n",
       "      <th></th>\n",
       "      <th></th>\n",
       "      <th></th>\n",
       "      <th></th>\n",
       "      <th></th>\n",
       "      <th></th>\n",
       "      <th></th>\n",
       "      <th></th>\n",
       "      <th></th>\n",
       "      <th></th>\n",
       "      <th></th>\n",
       "    </tr>\n",
       "  </thead>\n",
       "  <tbody>\n",
       "    <tr>\n",
       "      <th>1145204417024</th>\n",
       "      <td>0.011788</td>\n",
       "      <td>0.006040</td>\n",
       "      <td>r</td>\n",
       "      <td>30.4349</td>\n",
       "      <td>-27.832747</td>\n",
       "      <td>0</td>\n",
       "      <td>11.03380</td>\n",
       "      <td>0.307583</td>\n",
       "      <td>1.244190</td>\n",
       "      <td>0.961064</td>\n",
       "      <td>...</td>\n",
       "      <td>-27.934571</td>\n",
       "      <td>53.401083</td>\n",
       "      <td>4071</td>\n",
       "      <td>3999</td>\n",
       "      <td>11.569500</td>\n",
       "      <td>32.031200</td>\n",
       "      <td>2024113000162</td>\n",
       "      <td>60645.114372</td>\n",
       "      <td>2024-12-01T02:44:41.724</td>\n",
       "      <td>60645.114198</td>\n",
       "    </tr>\n",
       "    <tr>\n",
       "      <th>1145204417025</th>\n",
       "      <td>0.006966</td>\n",
       "      <td>0.003864</td>\n",
       "      <td>r</td>\n",
       "      <td>30.4349</td>\n",
       "      <td>-28.066776</td>\n",
       "      <td>1</td>\n",
       "      <td>11.38430</td>\n",
       "      <td>0.319030</td>\n",
       "      <td>1.234830</td>\n",
       "      <td>0.963268</td>\n",
       "      <td>...</td>\n",
       "      <td>-28.168390</td>\n",
       "      <td>53.374600</td>\n",
       "      <td>4071</td>\n",
       "      <td>3999</td>\n",
       "      <td>11.486200</td>\n",
       "      <td>32.032501</td>\n",
       "      <td>2024113000162</td>\n",
       "      <td>60645.114372</td>\n",
       "      <td>2024-12-01T02:44:41.724</td>\n",
       "      <td>60645.114198</td>\n",
       "    </tr>\n",
       "    <tr>\n",
       "      <th>1145204417026</th>\n",
       "      <td>0.006943</td>\n",
       "      <td>0.003595</td>\n",
       "      <td>r</td>\n",
       "      <td>30.4349</td>\n",
       "      <td>-28.301220</td>\n",
       "      <td>2</td>\n",
       "      <td>11.82520</td>\n",
       "      <td>0.329259</td>\n",
       "      <td>1.245600</td>\n",
       "      <td>0.961104</td>\n",
       "      <td>...</td>\n",
       "      <td>-28.403017</td>\n",
       "      <td>53.348294</td>\n",
       "      <td>4071</td>\n",
       "      <td>3999</td>\n",
       "      <td>11.407000</td>\n",
       "      <td>32.031300</td>\n",
       "      <td>2024113000162</td>\n",
       "      <td>60645.114372</td>\n",
       "      <td>2024-12-01T02:44:41.724</td>\n",
       "      <td>60645.114198</td>\n",
       "    </tr>\n",
       "    <tr>\n",
       "      <th>1145204417027</th>\n",
       "      <td>0.010045</td>\n",
       "      <td>0.005640</td>\n",
       "      <td>r</td>\n",
       "      <td>30.4349</td>\n",
       "      <td>-27.809904</td>\n",
       "      <td>3</td>\n",
       "      <td>11.74880</td>\n",
       "      <td>0.327344</td>\n",
       "      <td>1.242060</td>\n",
       "      <td>0.963217</td>\n",
       "      <td>...</td>\n",
       "      <td>-27.911490</td>\n",
       "      <td>53.136337</td>\n",
       "      <td>4071</td>\n",
       "      <td>3999</td>\n",
       "      <td>11.350500</td>\n",
       "      <td>32.032501</td>\n",
       "      <td>2024113000162</td>\n",
       "      <td>60645.114372</td>\n",
       "      <td>2024-12-01T02:44:41.724</td>\n",
       "      <td>60645.114198</td>\n",
       "    </tr>\n",
       "    <tr>\n",
       "      <th>1145204417028</th>\n",
       "      <td>0.007920</td>\n",
       "      <td>0.004600</td>\n",
       "      <td>r</td>\n",
       "      <td>30.4349</td>\n",
       "      <td>-28.043662</td>\n",
       "      <td>4</td>\n",
       "      <td>12.01310</td>\n",
       "      <td>0.335342</td>\n",
       "      <td>1.240090</td>\n",
       "      <td>0.962919</td>\n",
       "      <td>...</td>\n",
       "      <td>-28.145144</td>\n",
       "      <td>53.109517</td>\n",
       "      <td>4071</td>\n",
       "      <td>3999</td>\n",
       "      <td>11.265800</td>\n",
       "      <td>32.032299</td>\n",
       "      <td>2024113000162</td>\n",
       "      <td>60645.114372</td>\n",
       "      <td>2024-12-01T02:44:41.724</td>\n",
       "      <td>60645.114198</td>\n",
       "    </tr>\n",
       "    <tr>\n",
       "      <th>...</th>\n",
       "      <td>...</td>\n",
       "      <td>...</td>\n",
       "      <td>...</td>\n",
       "      <td>...</td>\n",
       "      <td>...</td>\n",
       "      <td>...</td>\n",
       "      <td>...</td>\n",
       "      <td>...</td>\n",
       "      <td>...</td>\n",
       "      <td>...</td>\n",
       "      <td>...</td>\n",
       "      <td>...</td>\n",
       "      <td>...</td>\n",
       "      <td>...</td>\n",
       "      <td>...</td>\n",
       "      <td>...</td>\n",
       "      <td>...</td>\n",
       "      <td>...</td>\n",
       "      <td>...</td>\n",
       "      <td>...</td>\n",
       "      <td>...</td>\n",
       "    </tr>\n",
       "    <tr>\n",
       "      <th>1145279958532</th>\n",
       "      <td>0.023663</td>\n",
       "      <td>0.012617</td>\n",
       "      <td>g</td>\n",
       "      <td>30.4393</td>\n",
       "      <td>-28.142454</td>\n",
       "      <td>4</td>\n",
       "      <td>5.63613</td>\n",
       "      <td>0.294995</td>\n",
       "      <td>0.978054</td>\n",
       "      <td>0.651151</td>\n",
       "      <td>...</td>\n",
       "      <td>-28.136665</td>\n",
       "      <td>53.278377</td>\n",
       "      <td>4071</td>\n",
       "      <td>3999</td>\n",
       "      <td>39.152599</td>\n",
       "      <td>31.969900</td>\n",
       "      <td>2024120900334</td>\n",
       "      <td>60654.249191</td>\n",
       "      <td>2024-12-10T05:58:50.076</td>\n",
       "      <td>60654.249017</td>\n",
       "    </tr>\n",
       "    <tr>\n",
       "      <th>1145279958533</th>\n",
       "      <td>0.021138</td>\n",
       "      <td>0.009869</td>\n",
       "      <td>g</td>\n",
       "      <td>30.4393</td>\n",
       "      <td>-27.971611</td>\n",
       "      <td>5</td>\n",
       "      <td>5.84377</td>\n",
       "      <td>0.304071</td>\n",
       "      <td>0.984330</td>\n",
       "      <td>0.650814</td>\n",
       "      <td>...</td>\n",
       "      <td>-27.965570</td>\n",
       "      <td>53.461313</td>\n",
       "      <td>4071</td>\n",
       "      <td>3999</td>\n",
       "      <td>39.038601</td>\n",
       "      <td>31.969601</td>\n",
       "      <td>2024120900334</td>\n",
       "      <td>60654.249191</td>\n",
       "      <td>2024-12-10T05:58:50.076</td>\n",
       "      <td>60654.249017</td>\n",
       "    </tr>\n",
       "    <tr>\n",
       "      <th>1145279958534</th>\n",
       "      <td>0.022690</td>\n",
       "      <td>0.011321</td>\n",
       "      <td>g</td>\n",
       "      <td>30.4393</td>\n",
       "      <td>-28.474796</td>\n",
       "      <td>6</td>\n",
       "      <td>5.90697</td>\n",
       "      <td>0.307790</td>\n",
       "      <td>0.980730</td>\n",
       "      <td>0.652287</td>\n",
       "      <td>...</td>\n",
       "      <td>-28.469125</td>\n",
       "      <td>53.289107</td>\n",
       "      <td>4071</td>\n",
       "      <td>3999</td>\n",
       "      <td>39.062901</td>\n",
       "      <td>31.970900</td>\n",
       "      <td>2024120900334</td>\n",
       "      <td>60654.249191</td>\n",
       "      <td>2024-12-10T05:58:50.076</td>\n",
       "      <td>60654.249017</td>\n",
       "    </tr>\n",
       "    <tr>\n",
       "      <th>1145279958535</th>\n",
       "      <td>0.019020</td>\n",
       "      <td>0.010400</td>\n",
       "      <td>g</td>\n",
       "      <td>30.4393</td>\n",
       "      <td>-28.303987</td>\n",
       "      <td>7</td>\n",
       "      <td>5.96870</td>\n",
       "      <td>0.308157</td>\n",
       "      <td>0.984239</td>\n",
       "      <td>0.655973</td>\n",
       "      <td>...</td>\n",
       "      <td>-28.298019</td>\n",
       "      <td>53.472776</td>\n",
       "      <td>4071</td>\n",
       "      <td>3999</td>\n",
       "      <td>38.947201</td>\n",
       "      <td>31.973900</td>\n",
       "      <td>2024120900334</td>\n",
       "      <td>60654.249191</td>\n",
       "      <td>2024-12-10T05:58:50.076</td>\n",
       "      <td>60654.249017</td>\n",
       "    </tr>\n",
       "    <tr>\n",
       "      <th>1145279958536</th>\n",
       "      <td>0.020684</td>\n",
       "      <td>0.011222</td>\n",
       "      <td>g</td>\n",
       "      <td>30.4393</td>\n",
       "      <td>-28.132990</td>\n",
       "      <td>8</td>\n",
       "      <td>6.02183</td>\n",
       "      <td>0.310483</td>\n",
       "      <td>0.990160</td>\n",
       "      <td>0.652926</td>\n",
       "      <td>...</td>\n",
       "      <td>-28.126629</td>\n",
       "      <td>53.655799</td>\n",
       "      <td>4071</td>\n",
       "      <td>3999</td>\n",
       "      <td>38.832699</td>\n",
       "      <td>31.971399</td>\n",
       "      <td>2024120900334</td>\n",
       "      <td>60654.249191</td>\n",
       "      <td>2024-12-10T05:58:50.076</td>\n",
       "      <td>60654.249017</td>\n",
       "    </tr>\n",
       "  </tbody>\n",
       "</table>\n",
       "<p>2853 rows × 49 columns</p>\n",
       "</div>"
      ],
      "text/plain": [
       "               astromOffsetMean  astromOffsetStd band  darkTime        dec  \\\n",
       "ccdVisitId                                                                   \n",
       "1145204417024          0.011788         0.006040    r   30.4349 -27.832747   \n",
       "1145204417025          0.006966         0.003864    r   30.4349 -28.066776   \n",
       "1145204417026          0.006943         0.003595    r   30.4349 -28.301220   \n",
       "1145204417027          0.010045         0.005640    r   30.4349 -27.809904   \n",
       "1145204417028          0.007920         0.004600    r   30.4349 -28.043662   \n",
       "...                         ...              ...  ...       ...        ...   \n",
       "1145279958532          0.023663         0.012617    g   30.4393 -28.142454   \n",
       "1145279958533          0.021138         0.009869    g   30.4393 -27.971611   \n",
       "1145279958534          0.022690         0.011321    g   30.4393 -28.474796   \n",
       "1145279958535          0.019020         0.010400    g   30.4393 -28.303987   \n",
       "1145279958536          0.020684         0.011222    g   30.4393 -28.132990   \n",
       "\n",
       "               detector   effTime  effTimePsfSigmaScale  effTimeSkyBgScale  \\\n",
       "ccdVisitId                                                                   \n",
       "1145204417024         0  11.03380              0.307583           1.244190   \n",
       "1145204417025         1  11.38430              0.319030           1.234830   \n",
       "1145204417026         2  11.82520              0.329259           1.245600   \n",
       "1145204417027         3  11.74880              0.327344           1.242060   \n",
       "1145204417028         4  12.01310              0.335342           1.240090   \n",
       "...                 ...       ...                   ...                ...   \n",
       "1145279958532         4   5.63613              0.294995           0.978054   \n",
       "1145279958533         5   5.84377              0.304071           0.984330   \n",
       "1145279958534         6   5.90697              0.307790           0.980730   \n",
       "1145279958535         7   5.96870              0.308157           0.984239   \n",
       "1145279958536         8   6.02183              0.310483           0.990160   \n",
       "\n",
       "               effTimeZeroPointScale  ...     urcdec      urcra  xSize  ySize  \\\n",
       "ccdVisitId                            ...                                       \n",
       "1145204417024               0.961064  ... -27.934571  53.401083   4071   3999   \n",
       "1145204417025               0.963268  ... -28.168390  53.374600   4071   3999   \n",
       "1145204417026               0.961104  ... -28.403017  53.348294   4071   3999   \n",
       "1145204417027               0.963217  ... -27.911490  53.136337   4071   3999   \n",
       "1145204417028               0.962919  ... -28.145144  53.109517   4071   3999   \n",
       "...                              ...  ...        ...        ...    ...    ...   \n",
       "1145279958532               0.651151  ... -28.136665  53.278377   4071   3999   \n",
       "1145279958533               0.650814  ... -27.965570  53.461313   4071   3999   \n",
       "1145279958534               0.652287  ... -28.469125  53.289107   4071   3999   \n",
       "1145279958535               0.655973  ... -28.298019  53.472776   4071   3999   \n",
       "1145279958536               0.652926  ... -28.126629  53.655799   4071   3999   \n",
       "\n",
       "               zenithDistance  zeroPoint        visitId   expMidptMJD  \\\n",
       "ccdVisitId                                                              \n",
       "1145204417024       11.569500  32.031200  2024113000162  60645.114372   \n",
       "1145204417025       11.486200  32.032501  2024113000162  60645.114372   \n",
       "1145204417026       11.407000  32.031300  2024113000162  60645.114372   \n",
       "1145204417027       11.350500  32.032501  2024113000162  60645.114372   \n",
       "1145204417028       11.265800  32.032299  2024113000162  60645.114372   \n",
       "...                       ...        ...            ...           ...   \n",
       "1145279958532       39.152599  31.969900  2024120900334  60654.249191   \n",
       "1145279958533       39.038601  31.969601  2024120900334  60654.249191   \n",
       "1145279958534       39.062901  31.970900  2024120900334  60654.249191   \n",
       "1145279958535       38.947201  31.973900  2024120900334  60654.249191   \n",
       "1145279958536       38.832699  31.971399  2024120900334  60654.249191   \n",
       "\n",
       "                              expMidpt   obsStartMJD  \n",
       "ccdVisitId                                            \n",
       "1145204417024  2024-12-01T02:44:41.724  60645.114198  \n",
       "1145204417025  2024-12-01T02:44:41.724  60645.114198  \n",
       "1145204417026  2024-12-01T02:44:41.724  60645.114198  \n",
       "1145204417027  2024-12-01T02:44:41.724  60645.114198  \n",
       "1145204417028  2024-12-01T02:44:41.724  60645.114198  \n",
       "...                                ...           ...  \n",
       "1145279958532  2024-12-10T05:58:50.076  60654.249017  \n",
       "1145279958533  2024-12-10T05:58:50.076  60654.249017  \n",
       "1145279958534  2024-12-10T05:58:50.076  60654.249017  \n",
       "1145279958535  2024-12-10T05:58:50.076  60654.249017  \n",
       "1145279958536  2024-12-10T05:58:50.076  60654.249017  \n",
       "\n",
       "[2853 rows x 49 columns]"
      ]
     },
     "execution_count": 22,
     "metadata": {},
     "output_type": "execute_result"
    }
   ],
   "source": [
    "ccdVisit_astropy = service.search(\n",
    "    f\"SELECT * \"\n",
    "    f\"FROM dp1.CcdVisit \"\n",
    "    # visit axis lies in target area\n",
    "    f\"WHERE CONTAINS(POINT('ICRS', ra, dec), CIRCLE('ICRS', {target_ra}, {target_dec}, {target_radius}))=1 \"\n",
    "    # filters bands outside selection\n",
    "    f\"AND band IN ('i', 'r', 'g') \"\n",
    "    # sorted by time\n",
    "    f\"ORDER BY obsStartMJD\"\n",
    ").to_table()\n",
    "ccdVisit_df = ccdVisit_astropy.to_pandas()\n",
    "ccdVisit_df = ccdVisit_df[(ccdVisit_df[\"obsStartMJD\"] > t1.mjd) & (ccdVisit_df[\"obsStartMJD\"] <= t2.mjd)]\n",
    "ccdVisit_df = ccdVisit_df.set_index(\"ccdVisitId\")\n",
    "ccdVisit_df"
   ]
  },
  {
   "cell_type": "markdown",
   "id": "7220c8ca-949c-4d3d-9a9c-ea19f51e9d5b",
   "metadata": {},
   "source": [
    "### Querying sources"
   ]
  },
  {
   "cell_type": "code",
   "execution_count": 23,
   "id": "f9850870-9992-4816-8d12-195ec4b4aa6f",
   "metadata": {
    "execution": {
     "iopub.execute_input": "2025-10-29T17:28:04.657767Z",
     "iopub.status.busy": "2025-10-29T17:28:04.657484Z",
     "iopub.status.idle": "2025-10-29T17:29:25.411152Z",
     "shell.execute_reply": "2025-10-29T17:29:25.410525Z",
     "shell.execute_reply.started": "2025-10-29T17:28:04.657747Z"
    },
    "scrolled": true
   },
   "outputs": [
    {
     "name": "stdout",
     "output_type": "stream",
     "text": [
      "Job phase is COMPLETED\n"
     ]
    }
   ],
   "source": [
    "ccdVisit_ids = ccdVisit_df[\"visitId\"].unique()\n",
    "ccdVisit_ids_str = \"(\" + \", \".join(map(str, ccdVisit_ids)) + \")\"\n",
    "job = service.submit_job(\n",
    "    f\"SELECT * \"\n",
    "    f\"FROM dp1.DiaSource \"\n",
    "    f\"WHERE visit IN {ccdVisit_ids_str}\"\n",
    ")\n",
    "# query is larg-ish, so we launch the job as async\n",
    "job.run()\n",
    "job.wait(phases=['COMPLETED', 'ERROR'])\n",
    "print('Job phase is', job.phase)\n",
    "diaSource_df = job.fetch_result().to_table().to_pandas()"
   ]
  },
  {
   "cell_type": "code",
   "execution_count": 24,
   "id": "476d5bf1-49d0-47ec-8604-2aedaba1aa6c",
   "metadata": {
    "execution": {
     "iopub.execute_input": "2025-10-29T17:29:25.412247Z",
     "iopub.status.busy": "2025-10-29T17:29:25.412039Z",
     "iopub.status.idle": "2025-10-29T17:29:58.624751Z",
     "shell.execute_reply": "2025-10-29T17:29:58.624155Z",
     "shell.execute_reply.started": "2025-10-29T17:29:25.412229Z"
    }
   },
   "outputs": [],
   "source": [
    "diaSource_df = job.fetch_result().to_table().to_pandas()"
   ]
  },
  {
   "cell_type": "code",
   "execution_count": 25,
   "id": "132b7173-6c36-411d-8964-557e3032cb24",
   "metadata": {
    "execution": {
     "iopub.execute_input": "2025-10-29T17:29:58.625744Z",
     "iopub.status.busy": "2025-10-29T17:29:58.625498Z",
     "iopub.status.idle": "2025-10-29T17:29:58.646744Z",
     "shell.execute_reply": "2025-10-29T17:29:58.646183Z",
     "shell.execute_reply.started": "2025-10-29T17:29:58.625724Z"
    }
   },
   "outputs": [],
   "source": [
    "diaSource_df = diaSource_df.set_index(\"diaSourceId\")\n",
    "# since these are likely statistical error we may multiply them by a number of standard deviations\n",
    "# we still _not_ sure on how these errors are defined and we should ask on them to be sure that \n",
    "# we are not working with excessively large error boxes.\n",
    "# for the moment i comment this\n",
    "# NSTD = 3\n",
    "# diaSource_df[[\"raErr\", \"decErr\"]] *= NSTD"
   ]
  },
  {
   "cell_type": "markdown",
   "id": "c15d6fda-40da-4fb6-a136-6f41f06d8832",
   "metadata": {},
   "source": [
    "### Filtering sources"
   ]
  },
  {
   "cell_type": "code",
   "execution_count": 26,
   "id": "160d03f5-1d9e-4007-bc35-d506b865461b",
   "metadata": {
    "execution": {
     "iopub.execute_input": "2025-10-29T17:29:58.648019Z",
     "iopub.status.busy": "2025-10-29T17:29:58.647792Z",
     "iopub.status.idle": "2025-10-29T17:29:58.915711Z",
     "shell.execute_reply": "2025-10-29T17:29:58.915126Z",
     "shell.execute_reply.started": "2025-10-29T17:29:58.648001Z"
    }
   },
   "outputs": [
    {
     "name": "stdout",
     "output_type": "stream",
     "text": [
      "filter_pixelFlags_cr cut 898 rows (0.49 %, originally: 183890)\n",
      "filter_centroid_flag cut 32469 rows (17.74 %, originally: 182992)\n",
      "filter_apFlux_flag cut 52 rows (0.03 %, originally: 150523)\n",
      "filter_isDipole cut 68781 rows (45.71 %, originally: 150471)\n",
      "filter_pixelFlags_saturated cut 2044 rows (2.50 %, originally: 81690)\n",
      "filter_pixelFlags_suspect cut 166 rows (0.21 %, originally: 79646)\n",
      "filter_pixelFlags_streak cut 741 rows (0.93 %, originally: 79480)\n",
      "filter_shape_flag cut 23801 rows (30.23 %, originally: 78739)\n",
      "filter_nans cut 41 rows (0.07 %, originally: 54938)\n"
     ]
    }
   ],
   "source": [
    "def verbose(func):\n",
    "    def msg_wrapper(df: pd.DataFrame, *args, **kwargs):\n",
    "        len_before, len_before_cols = len(df), len(df.columns)\n",
    "\n",
    "        df = func(df, *args, *kwargs)\n",
    "        if (diff := len_before - len(df)):\n",
    "            print(f\"{func.__name__} {'cut' if diff > 0 else 'added'} {abs(diff)} rows ({100 * float(abs(diff / len_before)):.2f} %, originally: {len_before})\")\n",
    "        if (diff := len_before_cols - len(df.columns)):\n",
    "            print(f\"{func.__name__} {'cut' if diff > 0 else 'added'} {abs(diff)} columns (originally: {len_before_cols})\")\n",
    "        return df\n",
    "    return msg_wrapper\n",
    "\n",
    "\n",
    "flag_columns = [\n",
    "    \"pixelFlags_cr\",\n",
    "    \"pixelFlags_crCenter\",\n",
    "    \"centroid_flag\",\n",
    "    \"apFlux_flag\",\n",
    "    \"isDipole\",\n",
    "    # next flags are from Liu 2024\n",
    "    \"pixelFlags_saturated\",\n",
    "    \"pixelFlags_saturatedCenter\",\n",
    "    \"pixelFlags_suspect\",\n",
    "    \"pixelFlags_suspectCenter\",\n",
    "    \"pixelFlags_streak\",\n",
    "    \"pixelFlags_streakCenter\",\n",
    "    \"pixelFlags_offimage\",\n",
    "    \"pixelFlags_bad\",\n",
    "    \"psfFlux_flag\",\n",
    "    \"shape_flag\",\n",
    "]\n",
    "\n",
    "def filter_flags(df: pd.DataFrame, flag_columns: list[str]) -> pd.DataFrame:\n",
    "    for flag in flag_columns:\n",
    "        def filter_func(df: pd.DataFrame, flag_name: str = flag) -> pd.DataFrame:\n",
    "            return df[~df[flag_name]]\n",
    "        \n",
    "        filter_func.__name__ = f\"filter_{flag}\"\n",
    "        df = verbose(filter_func)(df)\n",
    "    return df\n",
    "    \n",
    "\n",
    "@verbose\n",
    "def filter_nans(df: pd.DataFrame) -> pd.DataFrame:\n",
    "    return df.dropna(subset=[\"ra\", \"dec\", \"raErr\", \"decErr\"])\n",
    "\n",
    "\n",
    "# diaSource_df = filter_nans(filter_flags(diaSource_df))\n",
    "diaSource_df = filter_nans(filter_flags(diaSource_df, flag_columns))"
   ]
  },
  {
   "cell_type": "code",
   "execution_count": 27,
   "id": "58f46612-d2d8-46f2-aa11-2f81e69bc6a2",
   "metadata": {
    "execution": {
     "iopub.execute_input": "2025-10-29T17:29:58.916476Z",
     "iopub.status.busy": "2025-10-29T17:29:58.916282Z",
     "iopub.status.idle": "2025-10-29T17:29:59.177053Z",
     "shell.execute_reply": "2025-10-29T17:29:59.176495Z",
     "shell.execute_reply.started": "2025-10-29T17:29:58.916459Z"
    }
   },
   "outputs": [
    {
     "data": {
      "image/png": "[encoded data removed]",
      "text/plain": [
       "<Figure size 1000x200 with 2 Axes>"
      ]
     },
     "metadata": {},
     "output_type": "display_data"
    },
    {
     "name": "stdout",
     "output_type": "stream",
     "text": [
      "The 99.0-percentile RA error is 1.34 arcsec\n",
      "The 99.0-percentile dec error is 1.51 arcsec\n"
     ]
    }
   ],
   "source": [
    "q = 0.99\n",
    "\n",
    "fig, axs = plt.subplots(1,2, figsize=(10, 2))\n",
    "_  = axs[0].hist(_raErrs_arcsec := diaSource_df[\"raErr\"] * 3600, bins=np.linspace(0, np.quantile(_raErrs_arcsec, 0.99), 50))\n",
    "axs[0].axvline(np.quantile(_raErrs_arcsec, q), color=\"k\")\n",
    "axs[0].set_xlabel(\"RA error [deg]\")\n",
    "_  = axs[1].hist(_decErrs_arcsec := diaSource_df[\"decErr\"] * 3600, bins=np.linspace(0, np.quantile(_decErrs_arcsec, 0.99), 50))\n",
    "axs[1].axvline(np.quantile(_decErrs_arcsec, q), color=\"k\")\n",
    "axs[1].set_xlabel(\"Dec error [deg]\")\n",
    "plt.show()\n",
    "\n",
    "print(f\"The {100 * q}-percentile RA error is {np.quantile(_raErrs_arcsec, q):.2f} arcsec\")\n",
    "print(f\"The {100 * q}-percentile dec error is {np.quantile(_decErrs_arcsec, q):.2f} arcsec\")"
   ]
  },
  {
   "cell_type": "code",
   "execution_count": 28,
   "id": "df4dca50-20d7-426f-ac5e-3e81d9a30286",
   "metadata": {
    "execution": {
     "iopub.execute_input": "2025-10-29T17:29:59.177767Z",
     "iopub.status.busy": "2025-10-29T17:29:59.177564Z",
     "iopub.status.idle": "2025-10-29T17:29:59.192785Z",
     "shell.execute_reply": "2025-10-29T17:29:59.192242Z",
     "shell.execute_reply.started": "2025-10-29T17:29:59.177749Z"
    }
   },
   "outputs": [
    {
     "name": "stdout",
     "output_type": "stream",
     "text": [
      "filter_coorderr cut 760 rows (1.38 %, originally: 54897)\n"
     ]
    }
   ],
   "source": [
    "@verbose\n",
    "def filter_coorderr(df: pd.DataFrame, quantile: float)  -> pd.DataFrame:\n",
    "    return df[\n",
    "        (df[\"raErr\"] < np.quantile(df[\"raErr\"], quantile)) &\n",
    "        (df[\"decErr\"] < np.quantile(df[\"decErr\"], quantile))\n",
    "    ]\n",
    "\n",
    "diaSource_df = filter_coorderr(diaSource_df, 0.99)"
   ]
  },
  {
   "cell_type": "markdown",
   "id": "29da8bf7-daed-4191-8c34-54d327d26948",
   "metadata": {},
   "source": [
    "### Data utilities"
   ]
  },
  {
   "cell_type": "code",
   "execution_count": 29,
   "id": "e0e7902f-74e6-491e-99dc-167a1cc9b722",
   "metadata": {
    "execution": {
     "iopub.execute_input": "2025-10-29T17:29:59.193592Z",
     "iopub.status.busy": "2025-10-29T17:29:59.193400Z",
     "iopub.status.idle": "2025-10-29T17:30:04.733619Z",
     "shell.execute_reply": "2025-10-29T17:30:04.733047Z",
     "shell.execute_reply.started": "2025-10-29T17:29:59.193575Z"
    }
   },
   "outputs": [
    {
     "name": "stdout",
     "output_type": "stream",
     "text": [
      "indexing visits..\n",
      "indexing regions..\n",
      "indexing source observation times..\n",
      "indexing source visit bands..\n"
     ]
    }
   ],
   "source": [
    "def _map_source2ccdVisit(diaSources: pd.DataFrame, ccdVisits: pd.DataFrame) -> Callable:\n",
    "    visit_lookup = {\n",
    "       (row['visitId'], row['detector']): idx \n",
    "       for idx, row in ccdVisits.iterrows()\n",
    "    }\n",
    "    sources_lookup = pd.Series({\n",
    "       idx: visit_lookup.get((row['visit'], row['detector']))\n",
    "       for idx, row in diaSources.iterrows()\n",
    "    })\n",
    "    \n",
    "    def helper(source_index: pd.Index | int) -> pd.Series | int:\n",
    "        return sources_lookup[source_index]\n",
    "    return helper\n",
    "\n",
    "    \n",
    "def _source_region(diaSources: pd.DataFrame) -> Callable:\n",
    "    region_lookup = {\n",
    "        # source_index: sph.Box(\n",
    "        #     center=sph.LonLat.fromDegrees(source[\"ra\"], source[\"dec\"]),\n",
    "        #     # we divide by two because the constructor takes half-width and half-height\n",
    "        #     # http://doxygen.lsst.codes/stack/doxygen/x_masterDoxyDoc/classlsst_1_1sphgeom_1_1_box.html\n",
    "        #     width=sph.Angle.fromDegrees(nstd * source[\"raErr\"]) / 2,\n",
    "        #     height=sph.Angle.fromDegrees(nstd * source[\"decErr\"]) / 2,\n",
    "        # )\n",
    "        source_index: sph.Circle(\n",
    "            center=sph.UnitVector3d(sph.LonLat.fromDegrees(source[\"ra\"], source[\"dec\"])),\n",
    "            angle=sph.Angle.fromDegrees(np.sqrt(source[\"raErr\"] ** 2 + source[\"decErr\"] ** 2)),\n",
    "        )\n",
    "        for source_index, source in diaSources.iterrows()\n",
    "    }\n",
    "\n",
    "    def helper(source_index: int) -> sph.Region:\n",
    "        return region_lookup[source_index]\n",
    "    return helper\n",
    "\n",
    "\n",
    "def _source_time(ccdVisits: pd.DataFrame, diaSources: pd.DataFrame, s2v: Callable) -> Callable:\n",
    "    index = diaSources.index.to_series().map(s2v).map(ccdVisits[\"obsStartMJD\"])\n",
    "    \n",
    "    def helper(source_index:  pd.Index | int) -> pd.Series | float:\n",
    "        return index[source_index]\n",
    "    return helper\n",
    "\n",
    "\n",
    "def _source_band(ccdVisits: pd.DataFrame, diaSources: pd.DataFrame, s2v: Callable) -> Callable:\n",
    "    index = diaSources.index.to_series().map(s2v).map(ccdVisits[\"band\"])\n",
    "    \n",
    "    def helper(source_index:  pd.Index | int) -> pd.Series | Literal[\"u\", \"g\", \"r\", \"i\", \"z\", \"y\"]:\n",
    "        return index[source_index]\n",
    "    return helper\n",
    "\n",
    "\n",
    "print(\"indexing visits..\")\n",
    "source_visit: Callable = _map_source2ccdVisit(diaSource_df, ccdVisit_df)\n",
    "print(\"indexing regions..\")\n",
    "source_region: Callable = _source_region(diaSource_df)\n",
    "print(\"indexing source observation times..\")\n",
    "source_time: Callable = _source_time(ccdVisit_df, diaSource_df, source_visit)\n",
    "print(\"indexing source visit bands..\")\n",
    "source_band: Callable = _source_band(ccdVisit_df, diaSource_df, source_visit)"
   ]
  },
  {
   "cell_type": "markdown",
   "id": "cb7dcd57-cc1a-4992-8d57-eb9068ca4532",
   "metadata": {},
   "source": [
    "### Sorting sources"
   ]
  },
  {
   "cell_type": "code",
   "execution_count": 30,
   "id": "6d5ef0cc-9b01-48ae-a713-ea13910d4c5d",
   "metadata": {
    "execution": {
     "iopub.execute_input": "2025-10-29T17:30:04.734384Z",
     "iopub.status.busy": "2025-10-29T17:30:04.734186Z",
     "iopub.status.idle": "2025-10-29T17:30:04.758178Z",
     "shell.execute_reply": "2025-10-29T17:30:04.757580Z",
     "shell.execute_reply.started": "2025-10-29T17:30:04.734367Z"
    }
   },
   "outputs": [],
   "source": [
    "diaSource_df = diaSource_df.sort_index(key=source_time)"
   ]
  },
  {
   "cell_type": "markdown",
   "id": "6fab5358-8e61-4a94-b6d7-0e749721443b",
   "metadata": {},
   "source": [
    "# KD-Tree indexing\n",
    "\n",
    "We use a KD-tree for spatial indexing the diaSources in our dataset. The index is used for searching compatible (close) sources. It supports two methods:\n",
    "\n",
    "1. a radius search `search_radius`\n",
    "2. a neighbour search `search_close`. This methods calls `search_radius` under the hood with a \"large\" radius relative to the dataset astrometric errors, then it filters neighbour candidates checking overlaps in their bouding regions."
   ]
  },
  {
   "cell_type": "code",
   "execution_count": 31,
   "id": "261ce503-c1af-4432-8ff9-d9c43b606a3b",
   "metadata": {
    "execution": {
     "iopub.execute_input": "2025-10-29T17:30:04.759014Z",
     "iopub.status.busy": "2025-10-29T17:30:04.758795Z",
     "iopub.status.idle": "2025-10-29T17:30:04.865468Z",
     "shell.execute_reply": "2025-10-29T17:30:04.864922Z",
     "shell.execute_reply.started": "2025-10-29T17:30:04.758996Z"
    }
   },
   "outputs": [],
   "source": [
    "def _sph2xyz(\n",
    "    lons: np.array, \n",
    "    lats: np.array, \n",
    ") -> np.array:\n",
    "    \"\"\"\n",
    "    Converts from spherical coordinates (in degrees) to cartesian over the unit sphere.\n",
    "    \"\"\"\n",
    "    lons = np.deg2rad(lons)\n",
    "    lats = np.deg2rad(lats)\n",
    "\n",
    "    x = (cos_lat_rad := np.cos(lats)) * np.cos(lons)\n",
    "    y = cos_lat_rad * np.sin(lons)\n",
    "    z = np.sin(lats)\n",
    "    return np.column_stack([x, y, z])\n",
    "\n",
    "\n",
    "class SourceTree:\n",
    "    def __init__(self, diaSources: pd.DataFrame, s2region: Callable):\n",
    "        self.diaSources = diaSources\n",
    "        self.s2region = s2region\n",
    "        self.tree = KDTree(_sph2xyz(diaSources[\"ra\"], diaSources[\"dec\"]))\n",
    "        # chosen so that `search_close` contains id1 and id2, if id1 and id2 are the call's arguments\n",
    "        # and id1, id2 are the sources with the largest astrometric error in the dataset.\n",
    "        # on the factor 2: two circles of radius r touching at their edges are separated by 2r center-to-center.\n",
    "        self._radius = 2 * np.sqrt(diaSources['raErr'].max() ** 2 + diaSources['decErr'].max() ** 2)\n",
    "        \n",
    "    def search_radius(\n",
    "        self,\n",
    "        ra: float,\n",
    "        dec: float,\n",
    "        radius: float,\n",
    "    ) -> pd.Index:\n",
    "        \"\"\"\n",
    "        Returns all diaSources within a circle of radius `radius` centered at (`ra`, `dec`).\n",
    "        All inputs are assumed in degrees.\n",
    "        \"\"\"\n",
    "        center_xyz = _sph2xyz(ra, dec).reshape(-1)\n",
    "        idxs = self.tree.query_ball_point(center_xyz, r=np.deg2rad(radius))\n",
    "        return self.diaSources.index[idxs]\n",
    "    \n",
    "    def search_close(\n",
    "        self,\n",
    "        source_index: int,\n",
    "        drop: bool = True,\n",
    "    ) -> list:\n",
    "        ra, dec = self.diaSources .loc[source_index][[\"ra\", \"dec\"]]\n",
    "        candidate_ids = self.search_radius(ra, dec, self._radius)\n",
    "        if drop:\n",
    "            candidate_ids = candidate_ids.drop([source_index])\n",
    "        source_region = self.s2region(source_index)\n",
    "        return [*filter(lambda idx: self.s2region(idx).overlaps(source_region), candidate_ids)]\n",
    "\n",
    "\n",
    "st = SourceTree(diaSource_df, source_region)\n",
    "\n",
    "# a basic test\n",
    "assert (_idx := diaSource_df.index[0]) in st.search_radius(*diaSource_df.loc[_idx][[\"ra\", \"dec\"]], 1/36000)\n",
    "assert (_idx := diaSource_df.index[0]) in st.search_close(_idx, drop=False)"
   ]
  },
  {
   "cell_type": "markdown",
   "id": "76c9802f-4af2-488e-b43f-8f8fb0253dbc",
   "metadata": {},
   "source": [
    "# Graph building"
   ]
  },
  {
   "cell_type": "code",
   "execution_count": 32,
   "id": "f387464d-e009-415f-b8cc-ae21c0bbe8a8",
   "metadata": {
    "execution": {
     "iopub.execute_input": "2025-10-29T17:30:04.867088Z",
     "iopub.status.busy": "2025-10-29T17:30:04.866874Z",
     "iopub.status.idle": "2025-10-29T17:30:44.592292Z",
     "shell.execute_reply": "2025-10-29T17:30:44.591670Z",
     "shell.execute_reply.started": "2025-10-29T17:30:04.867071Z"
    }
   },
   "outputs": [
    {
     "data": {
      "application/vnd.jupyter.widget-view+json": {
       "model_id": "7706c0c8337b498d96063a3e4d4d34c9",
       "version_major": 2,
       "version_minor": 0
      },
      "text/plain": [
       "Building graph:   0%|          | 0/54137 [00:00<?, ?it/s]"
      ]
     },
     "metadata": {},
     "output_type": "display_data"
    }
   ],
   "source": [
    "def tree2graph(tree: SourceTree, s2time: Callable) -> nx.DiGraph:\n",
    "    from tqdm.notebook import tqdm\n",
    "    \n",
    "    G = nx.DiGraph()\n",
    "    stimes = s2time(tree.diaSources.index)\n",
    "    for diaSources_index, diaSource in tqdm(tree.diaSources.iterrows(), total=len(tree.diaSources), desc=\"Building graph\"):\n",
    "        source_time = s2time(diaSources_index)\n",
    "        for match_index in tree.search_close(diaSources_index):\n",
    "            if source_time < (match_time := stimes.loc[match_index]):\n",
    "                G.add_edge(diaSources_index, match_index)\n",
    "                G.nodes[diaSources_index][\"obsStartMJD\"] = source_time\n",
    "                G.nodes[match_index][\"obsStartMJD\"] = match_time\n",
    "                \n",
    "    TR = nx.transitive_reduction(G)\n",
    "    TR.add_nodes_from(G.nodes(data=True))\n",
    "    TR.add_edges_from((u, v, G.edges[u, v]) for u, v in TR.edges)\n",
    "    return TR\n",
    "\n",
    "\n",
    "graph = tree2graph(st, source_time)"
   ]
  },
  {
   "cell_type": "code",
   "execution_count": 33,
   "id": "d3193bce-406b-4d04-b897-2411231b77cc",
   "metadata": {
    "execution": {
     "iopub.execute_input": "2025-10-29T17:30:44.593113Z",
     "iopub.status.busy": "2025-10-29T17:30:44.592907Z",
     "iopub.status.idle": "2025-10-29T17:30:44.645922Z",
     "shell.execute_reply": "2025-10-29T17:30:44.645327Z",
     "shell.execute_reply.started": "2025-10-29T17:30:44.593094Z"
    }
   },
   "outputs": [
    {
     "name": "stdout",
     "output_type": "stream",
     "text": [
      "Found 4079 weakly connected graph components.\n"
     ]
    }
   ],
   "source": [
    "def graph2components(graph: nx.DiGraph, minsize: int = 1) -> list[list]:\n",
    "    return [*filter(\n",
    "        # remove weak components shorter than minsize\n",
    "        lambda xs: len(xs) >= minsize, \n",
    "        # transforms set to list and sort sources by time\n",
    "        map(\n",
    "            lambda xs: sorted([*xs], key=lambda x: graph.nodes[x][\"obsStartMJD\"]), \n",
    "            nx.weakly_connected_components(graph)),\n",
    "    )]\n",
    "\n",
    "\n",
    "wcomps = graph2components(graph, minsize=2)\n",
    "print(f\"Found {len(wcomps)} weakly connected graph components.\")"
   ]
  },
  {
   "cell_type": "code",
   "execution_count": 34,
   "id": "dd87a509-11c2-4d10-9ea8-f3e15d0756a2",
   "metadata": {
    "execution": {
     "iopub.execute_input": "2025-10-29T17:30:44.646666Z",
     "iopub.status.busy": "2025-10-29T17:30:44.646467Z",
     "iopub.status.idle": "2025-10-29T17:30:45.061777Z",
     "shell.execute_reply": "2025-10-29T17:30:45.061280Z",
     "shell.execute_reply.started": "2025-10-29T17:30:44.646649Z"
    }
   },
   "outputs": [
    {
     "data": {
      "image/png": "[encoded data removed]",
      "text/plain": [
       "<Figure size 400x200 with 1 Axes>"
      ]
     },
     "metadata": {},
     "output_type": "display_data"
    }
   ],
   "source": [
    "fig, _ = plt.subplots(1,1, figsize=(4, 2))\n",
    "plt.hist(_wcomp_len := [*map(len, wcomps)], bins=np.arange(2, max(_wcomp_len), 1))\n",
    "plt.xlabel(\"component length\"); plt.ylabel(\"num #\"); plt.loglog()\n",
    "plt.show()"
   ]
  },
  {
   "cell_type": "markdown",
   "id": "2a040369-ec2f-4ac9-8725-90bb9b0fe7a3",
   "metadata": {},
   "source": [
    "# Catalog associations"
   ]
  },
  {
   "cell_type": "code",
   "execution_count": 35,
   "id": "e821a2e1-5acd-4df9-821d-b12a0347503c",
   "metadata": {
    "execution": {
     "iopub.execute_input": "2025-10-29T17:30:45.062605Z",
     "iopub.status.busy": "2025-10-29T17:30:45.062404Z",
     "iopub.status.idle": "2025-10-29T17:31:15.059993Z",
     "shell.execute_reply": "2025-10-29T17:31:15.059436Z",
     "shell.execute_reply.started": "2025-10-29T17:30:45.062588Z"
    }
   },
   "outputs": [
    {
     "data": {
      "application/vnd.jupyter.widget-view+json": {
       "model_id": "a5012b31dfc246f498271d76f109d0ca",
       "version_major": 2,
       "version_minor": 0
      },
      "text/plain": [
       "Querying simbad:   0%|          | 0/9 [00:00<?, ?it/s]"
      ]
     },
     "metadata": {},
     "output_type": "display_data"
    },
    {
     "name": "stdout",
     "output_type": "stream",
     "text": [
      "fraction of non-null association is 13.70 %\n"
     ]
    }
   ],
   "source": [
    "class Association(NamedTuple):\n",
    "    id: str\n",
    "    otype: str\n",
    "    ra: float\n",
    "    dec: float\n",
    "    distance: float\n",
    "\n",
    "\n",
    "def match_to_simbad(\n",
    "    ras: Sequence[float],\n",
    "    decs: Sequence[float],\n",
    "    radiuses: Sequence[float],\n",
    "    batch_size: int = 500,\n",
    "    fields: tuple[str] = (\"otype\",),\n",
    ") -> list[Association | None]:    \n",
    "    from astropy.coordinates import SkyCoord\n",
    "    from astropy.coordinates import match_coordinates_sky\n",
    "    from astropy.table import Table\n",
    "    from astropy.table import vstack\n",
    "    from astropy import units as u\n",
    "    from astroquery.simbad import Simbad\n",
    "    from tqdm.notebook import tqdm\n",
    "\n",
    "    \n",
    "    def simbad_query(\n",
    "        ras: Sequence[float],\n",
    "        decs: Sequence[float],\n",
    "        radiuses: Sequence[float],\n",
    "        batch_size: int,\n",
    "        fields: tuple[str] = (\"otype\",),\n",
    "    ) -> Table:\n",
    "        if not len(ras) == len(decs) == len(radiuses):\n",
    "            raise ValueError(\"Query ra, declinations and radiuses must have same length.\")\n",
    "            \n",
    "        simbad = Simbad()\n",
    "        \n",
    "        for field in fields:\n",
    "            simbad.add_votable_fields(field)\n",
    "        batch_results = []\n",
    "        for i in tqdm(range(0, len(ras), batch_size), desc=\"Querying simbad\"):\n",
    "            s = slice(i, i + batch_size)\n",
    "            result = simbad.query_region(\n",
    "                SkyCoord(\n",
    "                    ra = [ra * u.deg for ra in ras[s]],\n",
    "                    dec = [dec * u.deg for dec in decs[s]],\n",
    "                ),\n",
    "                radius = [r * u.deg for r in radiuses[s]]\n",
    "            )\n",
    "            if result is not None:\n",
    "                batch_results.append(result)\n",
    "        return vstack(batch_results, metadata_conflicts=\"silent\")\n",
    "\n",
    "    \n",
    "    simbad_objects = simbad_query(ras, decs, radiuses, batch_size=batch_size, fields=fields)\n",
    "    ids, d2d, _ = match_coordinates_sky(\n",
    "        SkyCoord(\n",
    "            ra = [ra * u.deg for ra in ras],\n",
    "            dec = [dec * u.deg for dec in decs],\n",
    "        ),\n",
    "        SkyCoord(\n",
    "            ra = simbad_objects[\"ra\"],\n",
    "            dec = simbad_objects[\"dec\"],\n",
    "        ),\n",
    "    )\n",
    "    simbad_ra_deg = [*map(float, simbad_objects[\"ra\"].to(u.deg).to_value())]\n",
    "    simbad_dec_deg = [*map(float, simbad_objects[\"dec\"].to(u.deg).to_value())]\n",
    "    d2d_deg = [*map(float, d2d.to(u.deg).to_value())]\n",
    "    return [\n",
    "        Association(\n",
    "            *simbad_objects[simbad_id := ids[i]][[\"main_id\", \"otype\"]], \n",
    "            simbad_ra_deg[simbad_id],\n",
    "            simbad_dec_deg[simbad_id],\n",
    "            d2d_deg[i],\n",
    "        )\n",
    "        if d2d_deg[i] < radiuses[i] else None\n",
    "        for i in range(len(ids))\n",
    "    ]\n",
    "\n",
    "def comps2circles(comps, s2r: Callable) -> list[sph.Circle]:\n",
    "    \"\"\"\n",
    "    Compute minimal bounding circle for each component.\n",
    "    Uses reduce to iteratively expand circles to encompass all sources.\n",
    "    \"\"\"\n",
    "    return  [\n",
    "        reduce(\n",
    "            lambda x, y: x.expandTo(y), \n",
    "            map(lambda x: s2r(x), cs),\n",
    "            # this will avoid die out on lists with one element\n",
    "            # it works since .expandTo() is idempotent\n",
    "            s2r(cs[0]),\n",
    "        )\n",
    "        for cs in comps\n",
    "    ]\n",
    "\n",
    "\n",
    "def circles2associations(circles: Sequence[sph.Circle], rmin: float=0.) -> list[Association | None]:\n",
    "    centers = [sph.LonLat(c.getCenter()) for c in circles]\n",
    "    radiuses = np.clip([c.getOpeningAngle().asDegrees() for c in circles], a_min=rmin, a_max=None)\n",
    "    ras = [c.getLon().asDegrees() for c in centers]\n",
    "    decs = [c.getLat().asDegrees() for c in centers]\n",
    "    return match_to_simbad(ras, decs, radiuses)\n",
    "\n",
    "\n",
    "\n",
    "RMIN = 0.5 / 3600  # lsst pixel scale\n",
    "associations = circles2associations(comps2circles(wcomps, source_region), rmin=RMIN)\n",
    "print(f\"fraction of non-null association is {100 * len([*filter(lambda x: x is not None, associations)]) / len(associations):.2f} %\")"
   ]
  },
  {
   "cell_type": "code",
   "execution_count": 36,
   "id": "217fe746-56d4-4083-80c3-cbb792e9863b",
   "metadata": {
    "execution": {
     "iopub.execute_input": "2025-10-29T17:31:15.060774Z",
     "iopub.status.busy": "2025-10-29T17:31:15.060573Z",
     "iopub.status.idle": "2025-10-29T17:31:15.273099Z",
     "shell.execute_reply": "2025-10-29T17:31:15.272545Z",
     "shell.execute_reply.started": "2025-10-29T17:31:15.060757Z"
    }
   },
   "outputs": [
    {
     "data": {
      "image/png": "[encoded data removed]",
      "text/plain": [
       "<Figure size 400x200 with 1 Axes>"
      ]
     },
     "metadata": {},
     "output_type": "display_data"
    }
   ],
   "source": [
    "radii_arcsec = np.array([c.getOpeningAngle().asDegrees() for c in comps2circles(wcomps, source_region)]) * 3600\n",
    "\n",
    "fig, _ = plt.subplots(1,1, figsize=(4, 2))\n",
    "_ = plt.hist(radii_arcsec, bins=np.linspace(0, radii_arcsec.max(), 100))\n",
    "plt.xlabel(\"bounding circle radius [arcsec]\"); plt.ylabel(\"num #\")\n",
    "plt.show()"
   ]
  },
  {
   "cell_type": "markdown",
   "id": "b6d09150-e337-4bc2-8d0c-72942998cf1e",
   "metadata": {},
   "source": [
    "### Control sample: associations against random sources"
   ]
  },
  {
   "cell_type": "code",
   "execution_count": 37,
   "id": "23838674-6f87-45cb-8ed0-d31f81ca78f8",
   "metadata": {
    "execution": {
     "iopub.execute_input": "2025-10-29T17:31:15.273862Z",
     "iopub.status.busy": "2025-10-29T17:31:15.273646Z",
     "iopub.status.idle": "2025-10-29T17:31:46.333398Z",
     "shell.execute_reply": "2025-10-29T17:31:46.332819Z",
     "shell.execute_reply.started": "2025-10-29T17:31:15.273845Z"
    }
   },
   "outputs": [
    {
     "data": {
      "application/vnd.jupyter.widget-view+json": {
       "model_id": "6a23c0eae02748adaf16a7fcc5a469bf",
       "version_major": 2,
       "version_minor": 0
      },
      "text/plain": [
       "Querying simbad:   0%|          | 0/9 [00:00<?, ?it/s]"
      ]
     },
     "metadata": {},
     "output_type": "display_data"
    },
    {
     "name": "stderr",
     "output_type": "stream",
     "text": [
      "WARNING: NoResultsWarning: The request executed correctly, but there was no data corresponding to these criteria in SIMBAD [astroquery.simbad.core]\n"
     ]
    },
    {
     "data": {
      "text/html": [
       "<pre style=\"margin: 0.1em;\n",
       "padding-left: 0.25em;\n",
       "border-left-style: solid;\n",
       "font-family: var(--jp-code-font-family);\n",
       "font-size: var(--jp-code-font-size);\n",
       "line-height: var(--jp-code-line-height);\n",
       "\"><span style=\"color: var(--jp-warn-color2)\">astroquery</span> <span style=\"color: var(--jp-warn-color0)\">WARNING</span>: NoResultsWarning: The request executed correctly, but there was no data corresponding to these criteria in SIMBAD</pre>"
      ],
      "text/plain": [
       "<IPython.core.display.HTML object>"
      ]
     },
     "metadata": {},
     "output_type": "display_data"
    },
    {
     "name": "stdout",
     "output_type": "stream",
     "text": [
      "fraction of non-null association is 0.5883795047805834 %\n"
     ]
    }
   ],
   "source": [
    "def test_random_associations(circles: Sequence[sph.Circle], target_ra: float, target_dec: float, target_radius: float, rmin: float=0.) -> list[Association | None]:\n",
    "    radiuses = [max(c.getOpeningAngle().asDegrees(), rmin) for c in circles]\n",
    "    ras = np.random.rand(len(circles)) * target_radius + (target_ra - target_radius / 2)\n",
    "    decs = np.random.rand(len(circles)) * target_radius + (target_dec - target_radius / 2)\n",
    "    return match_to_simbad(ras, decs, radiuses)\n",
    "\n",
    "\n",
    "random_associations = test_random_associations(comps2circles(wcomps, source_region), target_ra, target_dec, target_radius, RMIN)\n",
    "print(f\"fraction of non-null association is {100 * len([*filter(lambda x: x is not None, random_associations)]) / len(random_associations):.2f} %\")"
   ]
  },
  {
   "cell_type": "code",
   "execution_count": null,
   "id": "c8d8853f-3946-4c78-b5e7-21694b13beeb",
   "metadata": {},
   "outputs": [],
   "source": []
  }
 ],
 "metadata": {
  "kernelspec": {
   "display_name": "LSST",
   "language": "python",
   "name": "lsst"
  },
  "language_info": {
   "codemirror_mode": {
    "name": "ipython",
    "version": 3
   },
   "file_extension": ".py",
   "mimetype": "text/x-python",
   "name": "python",
   "nbconvert_exporter": "python",
   "pygments_lexer": "ipython3",
   "version": "3.12.11"
  }
 },
 "nbformat": 4,
 "nbformat_minor": 5
}
